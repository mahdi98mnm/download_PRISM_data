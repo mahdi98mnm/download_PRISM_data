{
 "cells": [
  {
   "cell_type": "code",
   "execution_count": 6,
   "metadata": {},
   "outputs": [
    {
     "ename": "ModuleNotFoundError",
     "evalue": "No module named 'matplotlib'",
     "output_type": "error",
     "traceback": [
      "\u001b[0;31m---------------------------------------------------------------------------\u001b[0m",
      "\u001b[0;31mModuleNotFoundError\u001b[0m                       Traceback (most recent call last)",
      "Cell \u001b[0;32mIn[6], line 5\u001b[0m\n\u001b[1;32m      3\u001b[0m \u001b[38;5;28;01mimport\u001b[39;00m \u001b[38;5;21;01mnumpy\u001b[39;00m \u001b[38;5;28;01mas\u001b[39;00m \u001b[38;5;21;01mnp\u001b[39;00m\n\u001b[1;32m      4\u001b[0m \u001b[38;5;28;01mimport\u001b[39;00m \u001b[38;5;21;01mos\u001b[39;00m\n\u001b[0;32m----> 5\u001b[0m \u001b[38;5;28;01mimport\u001b[39;00m \u001b[38;5;21;01mmatplotlib\u001b[39;00m\n",
      "\u001b[0;31mModuleNotFoundError\u001b[0m: No module named 'matplotlib'"
     ]
    }
   ],
   "source": [
    "import xarray as xr\n",
    "import pandas as pd\n",
    "import numpy as np\n",
    "import os\n",
    "import matplotlib"
   ]
  },
  {
   "cell_type": "code",
   "execution_count": 8,
   "metadata": {},
   "outputs": [],
   "source": [
    "data = xr.open_dataset(r'/home/mahdi/data/PRISM_tmin_stable_4kmD2_20160612_nc/PRISM_tmin_stable_4kmD2_20160612_nc.nc')\n",
    "\n",
    "df = data.to_dataframe()\n",
    "df.to_csv(\"/home/mahdi/data/PRISM_tmin_stable_4kmD2_20160612_nc/data_PRISM.csv\", encoding='utf-8')"
   ]
  },
  {
   "cell_type": "code",
   "execution_count": 2,
   "metadata": {},
   "outputs": [],
   "source": [
    "def list_of_files(data_path):    \n",
    "    files = os.listdir(data_path)\n",
    "    return files"
   ]
  },
  {
   "cell_type": "code",
   "execution_count": 3,
   "metadata": {},
   "outputs": [
    {
     "data": {
      "text/plain": [
       "['tasmax_day_ACCESS-CM2_ssp585_r1i1p1f1_gn_20760101-21001231_v20191108.nc',\n",
       " 'huss_day_ACCESS-CM2_ssp585_r1i1p1f1_gn_20760101-21001231_v20191108.nc',\n",
       " 'sfcWind_day_ACCESS-CM2_ssp585_r1i1p1f1_gn_20760101-21001231_v20191108.nc',\n",
       " 'tas_day_ACCESS-CM2_ssp585_r1i1p1f1_gn_20760101-21001231_v20191108.nc',\n",
       " 'tasmin_day_ACCESS-CM2_ssp585_r1i1p1f1_gn_20760101-21001231_v20191108.nc',\n",
       " 'rsdt_Amon_ACCESS-CM2_ssp585_r1i1p1f1_gn_20760116-21001216_v20191108.nc',\n",
       " 'pr_day_ACCESS-CM2_ssp585_r1i1p1f1_gn_20760101-21001231_v20191108.nc']"
      ]
     },
     "execution_count": 3,
     "metadata": {},
     "output_type": "execute_result"
    }
   ],
   "source": [
    "dire = r'/home/mahdi/data/ssp5-8.5/2076-2100/'\n",
    "\n",
    "all_list_files = list_of_files(dire)\n",
    "\n",
    "# data_1 = xr.open_dataset(dire + \"tas_day_ACCESS-CM2_historical_r1i1p1f1_gn_19800101-20141231_v20191108.nc\")\n",
    "all_list_files"
   ]
  },
  {
   "cell_type": "code",
   "execution_count": 4,
   "metadata": {},
   "outputs": [],
   "source": [
    "\n",
    "for i in all_list_files:\n",
    "    data_1 = xr.open_dataset(dire + i)\n",
    "    df = data_1.to_dataframe()\n",
    "    df.to_csv(dire + f\"{i}.csv\", encoding='utf-8')\n",
    "\n"
   ]
  }
 ],
 "metadata": {
  "kernelspec": {
   "display_name": "Python 3",
   "language": "python",
   "name": "python3"
  },
  "language_info": {
   "codemirror_mode": {
    "name": "ipython",
    "version": 3
   },
   "file_extension": ".py",
   "mimetype": "text/x-python",
   "name": "python",
   "nbconvert_exporter": "python",
   "pygments_lexer": "ipython3",
   "version": "3.8.10"
  }
 },
 "nbformat": 4,
 "nbformat_minor": 2
}
