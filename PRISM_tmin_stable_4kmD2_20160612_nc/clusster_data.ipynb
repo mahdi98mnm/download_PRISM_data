{
  "cells": [
    {
      "cell_type": "code",
      "source": [
        "from google.colab import drive\n",
        "drive.mount('/content/drive')"
      ],
      "metadata": {
        "id": "gtJnyuvqL3vS",
        "outputId": "4bd04d46-5a55-4148-8211-23ba464ca031",
        "colab": {
          "base_uri": "https://localhost:8080/"
        }
      },
      "execution_count": 1,
      "outputs": [
        {
          "output_type": "stream",
          "name": "stdout",
          "text": [
            "Drive already mounted at /content/drive; to attempt to forcibly remount, call drive.mount(\"/content/drive\", force_remount=True).\n"
          ]
        }
      ]
    },
    {
      "cell_type": "code",
      "source": [
        "!source /content/drive/MyDrive/colab_env/bin/activate"
      ],
      "metadata": {
        "id": "KiwkU3-YL482"
      },
      "execution_count": 2,
      "outputs": []
    },
    {
      "cell_type": "code",
      "execution_count": 3,
      "metadata": {
        "id": "NptbZq97JpRU"
      },
      "outputs": [],
      "source": [
        "import pandas as pd\n",
        "import pyarrow\n",
        "import numpy as np\n",
        "from sklearn.feature_selection import SelectKBest, mutual_info_regression, RFE, SelectFromModel, SequentialFeatureSelector\n",
        "from sklearn.linear_model import LogisticRegression\n",
        "import seaborn as sns"
      ]
    },
    {
      "cell_type": "code",
      "execution_count": 4,
      "metadata": {
        "id": "FQGYBQgVJpRY"
      },
      "outputs": [],
      "source": [
        "daily_data = pd.read_parquet(\"/content/drive/MyDrive/EC_Tower/result/daily_data_central_valley.parquet\", engine='pyarrow')\n",
        "decade_data = pd.read_parquet(\"/content/drive/MyDrive/EC_Tower/result/decade_data_central_valley.parquet\", engine='pyarrow')\n",
        "monthly_data = pd.read_parquet(\"/content/drive/MyDrive/EC_Tower/result/monthly_data_central_valley.parquet\", engine='pyarrow')\n",
        "yearly_data = pd.read_parquet(\"/content/drive/MyDrive/EC_Tower/result/yearly_data_central_valley.parquet\", engine='pyarrow')\n"
      ]
    },
    {
      "cell_type": "markdown",
      "source": [
        "# Monthly data"
      ],
      "metadata": {
        "id": "EL1RnEGlWv-A"
      }
    },
    {
      "cell_type": "markdown",
      "source": [
        "## SelectKBest"
      ],
      "metadata": {
        "id": "tD_ns3HRMIrZ"
      }
    },
    {
      "cell_type": "code",
      "source": [
        "from sklearn.feature_selection import SelectKBest, f_regression\n",
        "from sklearn.model_selection import cross_val_score\n",
        "from sklearn.ensemble import RandomForestRegressor\n",
        "# Assuming 'df' is your dataframe and 'target' is your target column\n",
        "X = monthly_data.drop(['ET_fill', 'Site_ID', 'General_classification', 'Land_cover_details', 'Land_cover_type'], axis =1)\n",
        "y = monthly_data['ET_fill']\n",
        "\n",
        "# Select top k features\n",
        "selector = SelectKBest(score_func=f_regression, k=4)\n",
        "X_new = selector.fit_transform(X, y)\n",
        "\n",
        "\n",
        "# Get selected feature names\n",
        "selected_features = X.columns[selector.get_support()]\n",
        "\n",
        "\n",
        "rf = RandomForestRegressor()\n",
        "scores = cross_val_score(rf, X_new, y, cv=5)\n",
        "\n",
        "\n",
        "print(\"Mean cross-validation score: {:.2f}\".format(scores.mean()))\n",
        "print(\"SelectKBest - Selected features:\", selected_features)"
      ],
      "metadata": {
        "id": "33nRF4h1PAfT",
        "outputId": "3c2afd0e-109d-48f9-f80d-dab9e03430a3",
        "colab": {
          "base_uri": "https://localhost:8080/"
        }
      },
      "execution_count": 5,
      "outputs": [
        {
          "output_type": "stream",
          "name": "stdout",
          "text": [
            "Mean cross-validation score: 0.06\n",
            "SelectKBest - Selected features: Index(['aet_budyko_oudin', 'aet_budyko_hargreaves', 'aet_budyko_abtew',\n",
            "       'aet_budyko_mcguinness_bordne'],\n",
            "      dtype='object')\n"
          ]
        }
      ]
    },
    {
      "cell_type": "markdown",
      "source": [
        "## RFE"
      ],
      "metadata": {
        "id": "9iAi3TFLMUoF"
      }
    },
    {
      "cell_type": "code",
      "source": [
        "from sklearn.feature_selection import RFE\n",
        "from sklearn.ensemble import RandomForestRegressor\n",
        "from sklearn.preprocessing import StandardScaler\n",
        "\n",
        "# Standardize features\n",
        "scaler = StandardScaler()\n",
        "X_scaled = scaler.fit_transform(X)\n",
        "\n",
        "# Create and fit RFE\n",
        "estimator = RandomForestRegressor()\n",
        "selector = RFE(estimator, n_features_to_select=4, step=1)\n",
        "X_new = selector.fit_transform(X_scaled, y)\n",
        "\n",
        "# Get selected feature names\n",
        "selected_features = X.columns[selector.support_]\n",
        "\n",
        "# Evaluate\n",
        "rf = RandomForestRegressor()\n",
        "scores = cross_val_score(rf, X_new, y, cv=5)\n",
        "\n",
        "print(\"RFE - Mean cross-validation score: {:.2f}\".format(scores.mean()))\n",
        "print(\"RFE - Selected features:\", selected_features)\n",
        "\n"
      ],
      "metadata": {
        "id": "JzJkDr2YPi1y",
        "outputId": "f422eb84-02a2-4d92-acb2-d59d9165f1c5",
        "colab": {
          "base_uri": "https://localhost:8080/"
        }
      },
      "execution_count": 6,
      "outputs": [
        {
          "output_type": "stream",
          "name": "stdout",
          "text": [
            "RFE - Mean cross-validation score: 0.40\n",
            "RFE - Selected features: Index(['Month', 'aet_budyko_oudin', 'aet_budyko_hargreaves', 'latitude'], dtype='object')\n"
          ]
        }
      ]
    },
    {
      "cell_type": "markdown",
      "source": [
        "##  SelectFromModel"
      ],
      "metadata": {
        "id": "zCPggUB3Reof"
      }
    },
    {
      "cell_type": "markdown",
      "source": [
        "### tree-based models"
      ],
      "metadata": {
        "id": "W5pHARCOQGIs"
      }
    },
    {
      "cell_type": "code",
      "source": [
        "\n",
        "from sklearn.ensemble import RandomForestRegressor\n",
        "import pandas as pd\n",
        "\n",
        "# Fit Random Forest\n",
        "rf = RandomForestRegressor()\n",
        "rf.fit(X, y)\n",
        "\n",
        "# Get feature importances\n",
        "feature_importance = pd.DataFrame({'feature': X.columns, 'importance': rf.feature_importances_})\n",
        "feature_importance = feature_importance.sort_values('importance', ascending=False)\n",
        "\n",
        "# Select top 4 features\n",
        "top_features = feature_importance['feature'][:4].tolist()\n",
        "X_new = X[top_features]\n",
        "\n",
        "# Evaluate\n",
        "scores = cross_val_score(rf, X_new, y, cv=5)\n",
        "print(\"Random Forest - Mean cross-validation score: {:.2f}\".format(scores.mean()))\n",
        "print(\"Random Forest - Selected features:\", top_features)\n",
        "\n"
      ],
      "metadata": {
        "id": "ayo8dpXXQG_B",
        "outputId": "62f20fc5-49d4-4ae2-a1b9-d29dd70fdbba",
        "colab": {
          "base_uri": "https://localhost:8080/"
        }
      },
      "execution_count": 7,
      "outputs": [
        {
          "output_type": "stream",
          "name": "stdout",
          "text": [
            "Random Forest - Mean cross-validation score: 0.39\n",
            "Random Forest - Selected features: ['aet_budyko_hargreaves', 'aet_budyko_oudin', 'Month', 'latitude']\n"
          ]
        }
      ]
    },
    {
      "cell_type": "markdown",
      "source": [
        "### Lasso regularization"
      ],
      "metadata": {
        "id": "UdWZCcFARHWY"
      }
    },
    {
      "cell_type": "code",
      "source": [
        "from sklearn.linear_model import Lasso\n",
        "from sklearn.preprocessing import StandardScaler\n",
        "import numpy as np\n",
        "\n",
        "# Standardize features\n",
        "scaler = StandardScaler()\n",
        "X_scaled = scaler.fit_transform(X)\n",
        "\n",
        "# Fit Lasso\n",
        "lasso = Lasso(alpha=0.1)\n",
        "lasso.fit(X_scaled, y)\n",
        "\n",
        "# Get feature importances\n",
        "feature_importance = pd.DataFrame({'feature': X.columns, 'importance': np.abs(lasso.coef_)})\n",
        "feature_importance = feature_importance.sort_values('importance', ascending=False)\n",
        "\n",
        "# Select features with non-zero coefficients\n",
        "selected_features = feature_importance[feature_importance['importance'] > 0]['feature'].tolist()\n",
        "X_new = X[selected_features]\n",
        "\n",
        "# Evaluate\n",
        "rf = RandomForestRegressor()\n",
        "scores = cross_val_score(rf, X_new, y, cv=5)\n",
        "print(\"Lasso - Mean cross-validation score: {:.2f}\".format(scores.mean()))\n",
        "print(\"Lasso - Selected features:\", selected_features)"
      ],
      "metadata": {
        "id": "p2LXfx-2RK1f",
        "outputId": "bc8327f5-cd9e-4534-f8f1-0572350e61b4",
        "colab": {
          "base_uri": "https://localhost:8080/"
        }
      },
      "execution_count": 8,
      "outputs": [
        {
          "output_type": "stream",
          "name": "stdout",
          "text": [
            "Lasso - Mean cross-validation score: 0.24\n",
            "Lasso - Selected features: ['aet_budyko_hargreaves', 'latitude', 'Elevation', 'aet_budyko_abtew', 'Month']\n"
          ]
        }
      ]
    },
    {
      "cell_type": "markdown",
      "source": [
        "##  Sequential Feature Selection"
      ],
      "metadata": {
        "id": "YO33R3plYe9g"
      }
    },
    {
      "cell_type": "code",
      "source": [
        "from sklearn.feature_selection import SequentialFeatureSelector\n",
        "from sklearn.ensemble import RandomForestRegressor\n",
        "from sklearn.model_selection import cross_val_score\n",
        "import pandas as pd\n",
        "\n",
        "\n",
        "\n",
        "# Initialize the estimator\n",
        "estimator = RandomForestRegressor()\n",
        "\n",
        "# Create the SequentialFeatureSelector\n",
        "# n_features_to_select: number of features to select\n",
        "# direction: 'forward' for forward selection, 'backward' for backward selection\n",
        "sfs = SequentialFeatureSelector(estimator, n_features_to_select=4, direction='forward')\n",
        "\n",
        "# Fit the selector\n",
        "sfs.fit(X, y)\n",
        "\n",
        "# Get the selected feature names\n",
        "selected_features = X.columns[sfs.get_support()].tolist()\n",
        "\n",
        "# Create new feature matrix with only selected features\n",
        "X_new = sfs.transform(X)\n",
        "\n",
        "# Evaluate the performance\n",
        "scores = cross_val_score(estimator, X_new, y, cv=5)\n",
        "print(\"SequentialFeatureSelector - Mean cross-validation score: {:.2f}\".format(scores.mean()))\n",
        "print(\"SequentialFeatureSelector - Selected features:\", selected_features)"
      ],
      "metadata": {
        "id": "Nci2pdydYfZZ",
        "outputId": "cfeffcbc-ce1f-4fb8-fb73-13f29b9d4ba9",
        "colab": {
          "base_uri": "https://localhost:8080/"
        }
      },
      "execution_count": 9,
      "outputs": [
        {
          "output_type": "stream",
          "name": "stdout",
          "text": [
            "SequentialFeatureSelector - Mean cross-validation score: 0.35\n",
            "SequentialFeatureSelector - Selected features: ['Year', 'Month', 'latitude', 'Elevation']\n"
          ]
        }
      ]
    },
    {
      "cell_type": "markdown",
      "source": [
        "# yearly data"
      ],
      "metadata": {
        "id": "SjUtpBdcbtYN"
      }
    },
    {
      "cell_type": "markdown",
      "source": [
        "## SelectKBest"
      ],
      "metadata": {
        "id": "bdw5ahdScFjx"
      }
    },
    {
      "cell_type": "code",
      "source": [
        "# Assuming 'df' is your dataframe and 'target' is your target column\n",
        "X = yearly_data.drop(['ET_fill', 'Site_ID', 'General_classification', 'Land_cover_details', 'Land_cover_type'], axis =1)\n",
        "y = yearly_data['ET_fill']\n",
        "\n",
        "# Select top k features\n",
        "selector = SelectKBest(score_func=f_regression, k=4)\n",
        "X_new = selector.fit_transform(X, y)\n",
        "\n",
        "\n",
        "# Get selected feature names\n",
        "selected_features = X.columns[selector.get_support()]\n",
        "\n",
        "\n",
        "rf = RandomForestRegressor()\n",
        "scores = cross_val_score(rf, X_new, y, cv=5)\n",
        "\n",
        "\n",
        "print(\"Mean cross-validation score: {:.2f}\".format(scores.mean()))\n",
        "print(\"SelectKBest - Selected features:\", selected_features)"
      ],
      "metadata": {
        "colab": {
          "base_uri": "https://localhost:8080/"
        },
        "id": "uMzbNemKbxlM",
        "outputId": "9478eec1-72bb-4dc7-ed3a-45ac8fb01df6"
      },
      "execution_count": 12,
      "outputs": [
        {
          "output_type": "stream",
          "name": "stdout",
          "text": [
            "Mean cross-validation score: -1.34\n",
            "SelectKBest - Selected features: Index(['aet_budyko_oudin', 'aet_budyko_hargreaves', 'aet_budyko_abtew',\n",
            "       'aet_budyko_mcguinness_bordne'],\n",
            "      dtype='object')\n"
          ]
        }
      ]
    },
    {
      "cell_type": "markdown",
      "source": [
        "## RFE"
      ],
      "metadata": {
        "id": "A42GM4_lcGkA"
      }
    },
    {
      "cell_type": "code",
      "source": [
        "\n",
        "\n",
        "# Standardize features\n",
        "scaler = StandardScaler()\n",
        "X_scaled = scaler.fit_transform(X)\n",
        "\n",
        "# Create and fit RFE\n",
        "estimator = RandomForestRegressor()\n",
        "selector = RFE(estimator, n_features_to_select=4, step=1)\n",
        "X_new = selector.fit_transform(X_scaled, y)\n",
        "\n",
        "# Get selected feature names\n",
        "selected_features = X.columns[selector.support_]\n",
        "\n",
        "# Evaluate\n",
        "rf = RandomForestRegressor()\n",
        "scores = cross_val_score(rf, X_new, y, cv=5)\n",
        "\n",
        "print(\"RFE - Mean cross-validation score: {:.2f}\".format(scores.mean()))\n",
        "print(\"RFE - Selected features:\", selected_features)"
      ],
      "metadata": {
        "colab": {
          "base_uri": "https://localhost:8080/"
        },
        "id": "49NBZFKCcJsy",
        "outputId": "59ccfa9e-0460-4b52-8465-5354ca7cd973"
      },
      "execution_count": 13,
      "outputs": [
        {
          "output_type": "stream",
          "name": "stdout",
          "text": [
            "RFE - Mean cross-validation score: -0.53\n",
            "RFE - Selected features: Index(['aet_budyko_oudin', 'aet_budyko_hargreaves',\n",
            "       'aet_budyko_mcguinness_bordne', 'latitude'],\n",
            "      dtype='object')\n"
          ]
        }
      ]
    },
    {
      "cell_type": "markdown",
      "source": [
        "##  SelectFromModel"
      ],
      "metadata": {
        "id": "mvSA7ZF4cZwE"
      }
    },
    {
      "cell_type": "markdown",
      "source": [
        "### tree-based models"
      ],
      "metadata": {
        "id": "6v4ZI0D6cdHB"
      }
    },
    {
      "cell_type": "code",
      "source": [
        "from sklearn.ensemble import RandomForestRegressor\n",
        "import pandas as pd\n",
        "\n",
        "# Fit Random Forest\n",
        "rf = RandomForestRegressor()\n",
        "rf.fit(X, y)\n",
        "\n",
        "# Get feature importances\n",
        "feature_importance = pd.DataFrame({'feature': X.columns, 'importance': rf.feature_importances_})\n",
        "feature_importance = feature_importance.sort_values('importance', ascending=False)\n",
        "\n",
        "# Select top 4 features\n",
        "top_features = feature_importance['feature'][:4].tolist()\n",
        "X_new = X[top_features]\n",
        "\n",
        "# Evaluate\n",
        "scores = cross_val_score(rf, X_new, y, cv=5)\n",
        "print(\"Random Forest - Mean cross-validation score: {:.2f}\".format(scores.mean()))\n",
        "print(\"Random Forest - Selected features:\", top_features)"
      ],
      "metadata": {
        "colab": {
          "base_uri": "https://localhost:8080/"
        },
        "id": "Ka1DxFZ4cdd4",
        "outputId": "9e57ff65-328f-42a6-8664-b8bebad4f122"
      },
      "execution_count": 14,
      "outputs": [
        {
          "output_type": "stream",
          "name": "stdout",
          "text": [
            "Random Forest - Mean cross-validation score: -0.16\n",
            "Random Forest - Selected features: ['aet_budyko_mcguinness_bordne', 'latitude', 'aet_budyko_hargreaves', 'Elevation']\n"
          ]
        }
      ]
    },
    {
      "cell_type": "markdown",
      "source": [
        "### Lasso regularization"
      ],
      "metadata": {
        "id": "S7p8FpujckHa"
      }
    },
    {
      "cell_type": "code",
      "source": [
        "\n",
        "\n",
        "# Standardize features\n",
        "scaler = StandardScaler()\n",
        "X_scaled = scaler.fit_transform(X)\n",
        "\n",
        "# Fit Lasso\n",
        "lasso = Lasso(alpha=0.1)\n",
        "lasso.fit(X_scaled, y)\n",
        "\n",
        "# Get feature importances\n",
        "feature_importance = pd.DataFrame({'feature': X.columns, 'importance': np.abs(lasso.coef_)})\n",
        "feature_importance = feature_importance.sort_values('importance', ascending=False)\n",
        "\n",
        "# Select features with non-zero coefficients\n",
        "selected_features = feature_importance[feature_importance['importance'] > 0]['feature'].tolist()\n",
        "X_new = X[selected_features]\n",
        "\n",
        "# Evaluate\n",
        "rf = RandomForestRegressor()\n",
        "scores = cross_val_score(rf, X_new, y, cv=5)\n",
        "print(\"Lasso - Mean cross-validation score: {:.2f}\".format(scores.mean()))\n",
        "print(\"Lasso - Selected features:\", selected_features)"
      ],
      "metadata": {
        "colab": {
          "base_uri": "https://localhost:8080/"
        },
        "id": "ShqS5f0gcllB",
        "outputId": "d168b04f-772b-45ac-c671-eb67ffa37a04"
      },
      "execution_count": 15,
      "outputs": [
        {
          "output_type": "stream",
          "name": "stderr",
          "text": [
            "/usr/local/lib/python3.10/dist-packages/sklearn/linear_model/_coordinate_descent.py:631: ConvergenceWarning: Objective did not converge. You might want to increase the number of iterations, check the scale of the features or consider increasing regularisation. Duality gap: 2.234e+05, tolerance: 2.142e+03\n",
            "  model = cd_fast.enet_coordinate_descent(\n"
          ]
        },
        {
          "output_type": "stream",
          "name": "stdout",
          "text": [
            "Lasso - Mean cross-validation score: -0.20\n",
            "Lasso - Selected features: ['aet_budyko_oudin', 'aet_budyko_mcguinness_bordne', 'aet_budyko_abtew', 'aet_budyko_hargreaves', 'latitude', 'Elevation', 'Year']\n"
          ]
        }
      ]
    },
    {
      "cell_type": "markdown",
      "source": [
        "##  Sequential Feature Selection"
      ],
      "metadata": {
        "id": "X6IiJOA7cztY"
      }
    },
    {
      "cell_type": "code",
      "source": [
        "# Initialize the estimator\n",
        "estimator = RandomForestRegressor()\n",
        "\n",
        "# Create the SequentialFeatureSelector\n",
        "# n_features_to_select: number of features to select\n",
        "# direction: 'forward' for forward selection, 'backward' for backward selection\n",
        "sfs = SequentialFeatureSelector(estimator, n_features_to_select=4, direction='forward')\n",
        "\n",
        "# Fit the selector\n",
        "sfs.fit(X, y)\n",
        "\n",
        "# Get the selected feature names\n",
        "selected_features = X.columns[sfs.get_support()].tolist()\n",
        "\n",
        "# Create new feature matrix with only selected features\n",
        "X_new = sfs.transform(X)\n",
        "\n",
        "# Evaluate the performance\n",
        "scores = cross_val_score(estimator, X_new, y, cv=5)\n",
        "print(\"SequentialFeatureSelector - Mean cross-validation score: {:.2f}\".format(scores.mean()))\n",
        "print(\"SequentialFeatureSelector - Selected features:\", selected_features)"
      ],
      "metadata": {
        "colab": {
          "base_uri": "https://localhost:8080/"
        },
        "id": "nUrtcLmHc0LI",
        "outputId": "7255aafc-dd5e-48df-9eb1-473af6b8e880"
      },
      "execution_count": 16,
      "outputs": [
        {
          "output_type": "stream",
          "name": "stdout",
          "text": [
            "SequentialFeatureSelector - Mean cross-validation score: -0.07\n",
            "SequentialFeatureSelector - Selected features: ['aet_budyko_hargreaves', 'aet_budyko_abtew', 'latitude', 'Elevation']\n"
          ]
        }
      ]
    },
    {
      "cell_type": "markdown",
      "source": [
        "# decade data"
      ],
      "metadata": {
        "id": "bR9OPuGthO4p"
      }
    },
    {
      "cell_type": "markdown",
      "source": [
        "## SelectKBest"
      ],
      "metadata": {
        "id": "8UBUb0Z3hO5F"
      }
    },
    {
      "cell_type": "code",
      "source": [
        "# Assuming 'df' is your dataframe and 'target' is your target column\n",
        "X = decade_data.drop(['ET_fill', 'Site_ID', 'General_classification', 'Land_cover_details', 'Land_cover_type'], axis =1)\n",
        "y = decade_data['ET_fill']\n",
        "\n",
        "# Select top k features\n",
        "selector = SelectKBest(score_func=f_regression, k=4)\n",
        "X_new = selector.fit_transform(X, y)\n",
        "\n",
        "\n",
        "# Get selected feature names\n",
        "selected_features = X.columns[selector.get_support()]\n",
        "\n",
        "\n",
        "rf = RandomForestRegressor()\n",
        "scores = cross_val_score(rf, X_new, y, cv=5)\n",
        "\n",
        "\n",
        "print(\"Mean cross-validation score: {:.2f}\".format(scores.mean()))\n",
        "print(\"SelectKBest - Selected features:\", selected_features)"
      ],
      "metadata": {
        "outputId": "e9be4a13-1406-42a1-8819-57bc1eb5fe76",
        "colab": {
          "base_uri": "https://localhost:8080/"
        },
        "id": "HfFGnZEHhO5F"
      },
      "execution_count": 18,
      "outputs": [
        {
          "output_type": "stream",
          "name": "stdout",
          "text": [
            "Mean cross-validation score: 0.03\n",
            "SelectKBest - Selected features: Index(['aet_budyko_oudin', 'aet_budyko_hargreaves', 'aet_budyko_abtew',\n",
            "       'aet_budyko_mcguinness_bordne'],\n",
            "      dtype='object')\n"
          ]
        }
      ]
    },
    {
      "cell_type": "markdown",
      "source": [
        "## RFE"
      ],
      "metadata": {
        "id": "wxMVcORChiRq"
      }
    },
    {
      "cell_type": "code",
      "source": [
        "\n",
        "\n",
        "# Standardize features\n",
        "scaler = StandardScaler()\n",
        "X_scaled = scaler.fit_transform(X)\n",
        "\n",
        "# Create and fit RFE\n",
        "estimator = RandomForestRegressor()\n",
        "selector = RFE(estimator, n_features_to_select=4, step=1)\n",
        "X_new = selector.fit_transform(X_scaled, y)\n",
        "\n",
        "# Get selected feature names\n",
        "selected_features = X.columns[selector.support_]\n",
        "\n",
        "# Evaluate\n",
        "rf = RandomForestRegressor()\n",
        "scores = cross_val_score(rf, X_new, y, cv=5)\n",
        "\n",
        "print(\"RFE - Mean cross-validation score: {:.2f}\".format(scores.mean()))\n",
        "print(\"RFE - Selected features:\", selected_features)"
      ],
      "metadata": {
        "outputId": "f0eec355-c17e-4efb-fcd3-14da11d5da83",
        "colab": {
          "base_uri": "https://localhost:8080/"
        },
        "id": "EzcOisXehiRr"
      },
      "execution_count": 19,
      "outputs": [
        {
          "output_type": "stream",
          "name": "stdout",
          "text": [
            "RFE - Mean cross-validation score: 0.15\n",
            "RFE - Selected features: Index(['Month', 'aet_budyko_oudin', 'aet_budyko_hargreaves', 'latitude'], dtype='object')\n"
          ]
        }
      ]
    },
    {
      "cell_type": "markdown",
      "source": [
        "##  SelectFromModel"
      ],
      "metadata": {
        "id": "Nc8-H3gwhiRt"
      }
    },
    {
      "cell_type": "markdown",
      "source": [
        "### tree-based models"
      ],
      "metadata": {
        "id": "cGedgJz_hiRu"
      }
    },
    {
      "cell_type": "code",
      "source": [
        "from sklearn.ensemble import RandomForestRegressor\n",
        "import pandas as pd\n",
        "\n",
        "# Fit Random Forest\n",
        "rf = RandomForestRegressor()\n",
        "rf.fit(X, y)\n",
        "\n",
        "# Get feature importances\n",
        "feature_importance = pd.DataFrame({'feature': X.columns, 'importance': rf.feature_importances_})\n",
        "feature_importance = feature_importance.sort_values('importance', ascending=False)\n",
        "\n",
        "# Select top 4 features\n",
        "top_features = feature_importance['feature'][:4].tolist()\n",
        "X_new = X[top_features]\n",
        "\n",
        "# Evaluate\n",
        "scores = cross_val_score(rf, X_new, y, cv=5)\n",
        "print(\"Random Forest - Mean cross-validation score: {:.2f}\".format(scores.mean()))\n",
        "print(\"Random Forest - Selected features:\", top_features)"
      ],
      "metadata": {
        "outputId": "ca436f05-b70f-478f-f813-437b7d802a82",
        "colab": {
          "base_uri": "https://localhost:8080/"
        },
        "id": "bDRkel39hiRu"
      },
      "execution_count": 20,
      "outputs": [
        {
          "output_type": "stream",
          "name": "stdout",
          "text": [
            "Random Forest - Mean cross-validation score: 0.15\n",
            "Random Forest - Selected features: ['aet_budyko_hargreaves', 'aet_budyko_oudin', 'latitude', 'Month']\n"
          ]
        }
      ]
    },
    {
      "cell_type": "markdown",
      "source": [
        "### Lasso regularization"
      ],
      "metadata": {
        "id": "J9yBQ-y2hiRx"
      }
    },
    {
      "cell_type": "code",
      "source": [
        "\n",
        "\n",
        "# Standardize features\n",
        "scaler = StandardScaler()\n",
        "X_scaled = scaler.fit_transform(X)\n",
        "\n",
        "# Fit Lasso\n",
        "lasso = Lasso(alpha=0.1)\n",
        "lasso.fit(X_scaled, y)\n",
        "\n",
        "# Get feature importances\n",
        "feature_importance = pd.DataFrame({'feature': X.columns, 'importance': np.abs(lasso.coef_)})\n",
        "feature_importance = feature_importance.sort_values('importance', ascending=False)\n",
        "\n",
        "# Select features with non-zero coefficients\n",
        "selected_features = feature_importance[feature_importance['importance'] > 0]['feature'].tolist()\n",
        "X_new = X[selected_features]\n",
        "\n",
        "# Evaluate\n",
        "rf = RandomForestRegressor()\n",
        "scores = cross_val_score(rf, X_new, y, cv=5)\n",
        "print(\"Lasso - Mean cross-validation score: {:.2f}\".format(scores.mean()))\n",
        "print(\"Lasso - Selected features:\", selected_features)"
      ],
      "metadata": {
        "outputId": "a5988442-d4f9-4996-959a-227270f448de",
        "colab": {
          "base_uri": "https://localhost:8080/"
        },
        "id": "fvKko8hEhiRx"
      },
      "execution_count": 21,
      "outputs": [
        {
          "output_type": "stream",
          "name": "stdout",
          "text": [
            "Lasso - Mean cross-validation score: 0.26\n",
            "Lasso - Selected features: ['aet_budyko_hargreaves', 'latitude', 'Elevation', 'Month']\n"
          ]
        }
      ]
    },
    {
      "cell_type": "markdown",
      "source": [
        "##  Sequential Feature Selection"
      ],
      "metadata": {
        "id": "25UjTDv-hiRy"
      }
    },
    {
      "cell_type": "code",
      "source": [
        "# Initialize the estimator\n",
        "estimator = RandomForestRegressor()\n",
        "\n",
        "# Create the SequentialFeatureSelector\n",
        "# n_features_to_select: number of features to select\n",
        "# direction: 'forward' for forward selection, 'backward' for backward selection\n",
        "sfs = SequentialFeatureSelector(estimator, n_features_to_select=4, direction='forward')\n",
        "\n",
        "# Fit the selector\n",
        "sfs.fit(X, y)\n",
        "\n",
        "# Get the selected feature names\n",
        "selected_features = X.columns[sfs.get_support()].tolist()\n",
        "\n",
        "# Create new feature matrix with only selected features\n",
        "X_new = sfs.transform(X)\n",
        "\n",
        "# Evaluate the performance\n",
        "scores = cross_val_score(estimator, X_new, y, cv=5)\n",
        "print(\"SequentialFeatureSelector - Mean cross-validation score: {:.2f}\".format(scores.mean()))\n",
        "print(\"SequentialFeatureSelector - Selected features:\", selected_features)"
      ],
      "metadata": {
        "id": "2B_omyiQhiRz"
      },
      "execution_count": null,
      "outputs": []
    }
  ],
  "metadata": {
    "language_info": {
      "name": "python"
    },
    "colab": {
      "provenance": []
    },
    "kernelspec": {
      "name": "python3",
      "display_name": "Python 3"
    }
  },
  "nbformat": 4,
  "nbformat_minor": 0
}