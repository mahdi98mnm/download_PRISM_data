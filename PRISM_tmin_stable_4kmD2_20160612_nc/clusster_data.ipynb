{
 "cells": [
  {
   "cell_type": "code",
   "execution_count": null,
   "metadata": {},
   "outputs": [],
   "source": [
    "import pandas as pd"
   ]
  },
  {
   "cell_type": "code",
   "execution_count": null,
   "metadata": {},
   "outputs": [],
   "source": [
    "daily_data = pd.read_parquet(\"/content/drive/MyDrive/EC_Tower/result/daily_data_central_valley.parquet\", engine='pyarrow')\n",
    "decade_data = pd.read_parquet(\"/content/drive/MyDrive/EC_Tower/result/decade_data_central_valley.parquet\", engine='pyarrow')\n",
    "monthly_data = pd.read_parquet(\"/content/drive/MyDrive/EC_Tower/result/monthly_data_central_valley.parquet\", engine='pyarrow')\n",
    "yearly_data = pd.read_parquet(\"/content/drive/MyDrive/EC_Tower/result/yearly_data_central_valley.parquet\", engine='pyarrow')\n"
   ]
  }
 ],
 "metadata": {
  "language_info": {
   "name": "python"
  }
 },
 "nbformat": 4,
 "nbformat_minor": 2
}
