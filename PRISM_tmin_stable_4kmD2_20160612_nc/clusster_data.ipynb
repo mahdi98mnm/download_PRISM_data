{
  "cells": [
    {
      "cell_type": "code",
      "source": [
        "from google.colab import drive\n",
        "drive.mount('/content/drive')"
      ],
      "metadata": {
        "id": "gtJnyuvqL3vS",
        "outputId": "0ec10cc9-b046-47a4-b44b-0a6a930e752e",
        "colab": {
          "base_uri": "https://localhost:8080/"
        }
      },
      "execution_count": 1,
      "outputs": [
        {
          "output_type": "stream",
          "name": "stdout",
          "text": [
            "Mounted at /content/drive\n"
          ]
        }
      ]
    },
    {
      "cell_type": "code",
      "source": [
        "!source /content/drive/MyDrive/colab_env/bin/activate"
      ],
      "metadata": {
        "id": "KiwkU3-YL482"
      },
      "execution_count": 2,
      "outputs": []
    },
    {
      "cell_type": "code",
      "execution_count": 18,
      "metadata": {
        "id": "NptbZq97JpRU"
      },
      "outputs": [],
      "source": [
        "import pandas as pd\n",
        "import numpy as np\n",
        "from tqdm import tqdm\n",
        "from sklearn.feature_selection import SelectKBest, f_regression, RFE, SequentialFeatureSelector\n",
        "from sklearn.model_selection import cross_val_score\n",
        "from sklearn.preprocessing import StandardScaler\n",
        "from sklearn.linear_model import RidgeCV, Lasso\n",
        "from sklearn.tree import DecisionTreeRegressor\n",
        "from sklearn.neighbors import KNeighborsRegressor\n",
        "from sklearn.ensemble import GradientBoostingRegressor, RandomForestRegressor\n",
        "from sklearn.neural_network import MLPRegressor\n",
        "from sklearn.base import BaseEstimator, TransformerMixin\n",
        "from sklearn.model_selection import train_test_split\n",
        "from sklearn.metrics import mean_absolute_error, mean_squared_error, r2_score\n",
        "from functools import partial\n",
        "from statsmodels.tools.eval_measures import rmspe\n",
        "from scipy import stats\n",
        "from sklearn.svm import SVR\n"
      ]
    },
    {
      "cell_type": "code",
      "execution_count": 6,
      "metadata": {
        "id": "FQGYBQgVJpRY"
      },
      "outputs": [],
      "source": [
        "daily_data = pd.read_parquet(\"/content/drive/MyDrive/EC_Tower/result/daily_data_central_valley.parquet\", engine='pyarrow')\n",
        "decade_data = pd.read_parquet(\"/content/drive/MyDrive/EC_Tower/result/decade_data_central_valley.parquet\", engine='pyarrow')\n",
        "monthly_data = pd.read_parquet(\"/content/drive/MyDrive/EC_Tower/result/monthly_data_central_valley.parquet\", engine='pyarrow')\n",
        "yearly_data = pd.read_parquet(\"/content/drive/MyDrive/EC_Tower/result/yearly_data_central_valley.parquet\", engine='pyarrow')\n"
      ]
    },
    {
      "cell_type": "code",
      "source": [
        "# Factorize the column\n",
        "monthly_data['category_encoded_Site_ID'], _ = pd.factorize(monthly_data['Site_ID'])\n",
        "monthly_data['category_encoded_General_classification'], _ = pd.factorize(monthly_data['General_classification'])\n",
        "monthly_data['category_encoded_Land_cover_details'], _ = pd.factorize(monthly_data['Land_cover_details'])\n",
        "monthly_data['category_encoded_Land_cover_type'], _ = pd.factorize(monthly_data['Land_cover_type'])\n"
      ],
      "metadata": {
        "id": "3XTiYbCkfx-L"
      },
      "execution_count": 7,
      "outputs": []
    },
    {
      "cell_type": "code",
      "source": [
        "# Custom transformer for Lasso feature selection\n",
        "class LassoSelector(BaseEstimator, TransformerMixin):\n",
        "    def __init__(self, n_features_to_select=10):\n",
        "        self.n_features_to_select = n_features_to_select\n",
        "        self.lasso = Lasso(random_state=42)\n",
        "\n",
        "    def fit(self, X, y):\n",
        "        self.lasso.fit(X, y)\n",
        "        self.support_ = np.argsort(np.abs(self.lasso.coef_))[-self.n_features_to_select:]\n",
        "        return self\n",
        "\n",
        "    def transform(self, X):\n",
        "        return X[:, self.support_]\n"
      ],
      "metadata": {
        "id": "e7HP_zSrf1Oh"
      },
      "execution_count": 8,
      "outputs": []
    },
    {
      "cell_type": "code",
      "source": [
        "# Assuming 'df' is your dataframe and 'target' is your target column\n",
        "X = monthly_data.drop(['ET_fill',\n",
        "                       'Site_ID',\n",
        "                       'General_classification',\n",
        "                       'Land_cover_details',\n",
        "                       'Land_cover_type',\n",
        "                       'aet_budyko_oudin',\n",
        "                       'aet_budyko_hargreaves',\n",
        "                       'aet_budyko_abtew',\n",
        "                       'aet_budyko_mcguinness_bordne'], axis =1)\n",
        "\n",
        "y = monthly_data['ET_fill']\n",
        "\n",
        "\n",
        "\n",
        "# Define estimators\n",
        "estimators = {\n",
        "    'RandomForestRegressor': RandomForestRegressor(),\n",
        "    'RidgeCV': RidgeCV(),\n",
        "    'DecisionTreeRegressor': DecisionTreeRegressor(),\n",
        "    'KNeighborsRegressor': KNeighborsRegressor(),\n",
        "    'GradientBoostingRegressor': GradientBoostingRegressor(),\n",
        "    'MLPRegressor': MLPRegressor()\n",
        "}\n",
        "\n",
        "# Number of features to select\n",
        "n_features_to_select = 4"
      ],
      "metadata": {
        "id": "eQG4jGvTf4Q_"
      },
      "execution_count": 23,
      "outputs": []
    },
    {
      "cell_type": "code",
      "source": [
        "\n",
        "results_rfe = []\n",
        "for est_name, estimator in tqdm(estimators.items()):\n",
        "  if est_name not in ['KNeighborsRegressor', 'MLPRegressor']:\n",
        "    selector = RFE(estimator, n_features_to_select=n_features_to_select)\n",
        "    selector.fit(x_tr, y_tr)\n",
        "    selected_features = X.columns[selector.support_]\n",
        "    print(selected_features)\n",
        "    y_tr_pred = selector.predict(x_tr)\n",
        "    # train\n",
        "    print(f\"{est_name} in train\")\n",
        "    print('Mean Absolute Error:', mean_absolute_error(y_tr, y_tr_pred))\n",
        "    print('Mean Squared Error:', mean_squared_error(y_tr, y_tr_pred))\n",
        "    print('Root Mean Squared Error:', np.sqrt(mean_squared_error(y_tr, y_tr_pred)))\n",
        "    print('Root Mean Squared Percentage Error:', rmspe(y_tr, y_tr_pred))\n",
        "    print('R2 Score:', (stats.pearsonr(y_tr_pred,y_tr)[0])**2)\n",
        "\n",
        "    # test\n",
        "    print(f\"{est_name} in test\")\n",
        "    y_te_pred = selector.predict(x_te)\n",
        "    print('Mean Absolute Error:', mean_absolute_error(y_te, y_te_pred))\n",
        "    print('Mean Squared Error:', mean_squared_error(y_te, y_te_pred))\n",
        "    print('Root Mean Squared Error:', np.sqrt(mean_squared_error(y_te, y_te_pred)))\n",
        "    print('Root Mean Squared Percentage Error:', rmspe(y_te, y_te_pred))\n",
        "    print('R2 Score:', (stats.pearsonr(y_te_pred,y_te)[0])**2)\n",
        "\n",
        "    results_rfe.append({\n",
        "        'Method': 'RFE',\n",
        "        'Estimator': est_name,\n",
        "        'Selected Features': ', '.join(selected_features),\n",
        "        'MAE_train':  mean_absolute_error(y_tr, y_tr_pred),\n",
        "        'MSE_train': mean_squared_error(y_tr, y_tr_pred),\n",
        "        'RMSE_train' : np.sqrt(mean_squared_error(y_tr, y_tr_pred)),\n",
        "        'RMSPE_train' : rmspe(y_tr, y_tr_pred),\n",
        "        'R2_train' : (stats.pearsonr(y_tr_pred,y_tr)[0])**2,\n",
        "        'MAE_test':  mean_absolute_error(y_te, y_te_pred),\n",
        "        'MSE_test': mean_squared_error(y_te, y_te_pred),\n",
        "        'RMSE_test' : np.sqrt(mean_squared_error(y_te, y_te_pred)),\n",
        "        'RMSPE_test' : rmspe(y_te, y_te_pred),\n",
        "        'R2_test' : (stats.pearsonr(y_te_pred,y_te)[0])**2\n",
        "        })"
      ],
      "metadata": {
        "id": "_oLdMOWRJBUc",
        "outputId": "43628be9-a85b-4265-f836-80757d88cb8c",
        "colab": {
          "base_uri": "https://localhost:8080/"
        }
      },
      "execution_count": 22,
      "outputs": [
        {
          "output_type": "stream",
          "name": "stderr",
          "text": [
            " 50%|█████     | 3/6 [00:05<00:04,  1.44s/it]"
          ]
        },
        {
          "output_type": "stream",
          "name": "stdout",
          "text": [
            "Index(['oudin', 'hargreaves', 'abtew', 'latitude'], dtype='object')\n",
            "RandomForestRegressor in train\n",
            "Mean Absolute Error: 0.9244630100657495\n",
            "Mean Squared Error: 1.724778465288024\n",
            "Root Mean Squared Error: 1.3133082141249341\n",
            "Root Mean Squared Percentage Error: 2.9927379277841024\n",
            "R2 Score: 0.9778393477807026\n",
            "RandomForestRegressor in test\n",
            "Mean Absolute Error: 2.710388019778072\n",
            "Mean Squared Error: 21.397397759863686\n",
            "Root Mean Squared Error: 4.6257321323076726\n",
            "Root Mean Squared Percentage Error: 5.539538906582343\n",
            "R2 Score: 0.8368691620082844\n",
            "Index(['hargreaves', 'latitude', 'category_encoded_General_classification',\n",
            "       'category_encoded_Land_cover_type'],\n",
            "      dtype='object')\n",
            "RidgeCV in train\n",
            "Mean Absolute Error: 2.936150907148082\n",
            "Mean Squared Error: 15.619915085825248\n",
            "Root Mean Squared Error: 3.952203826452432\n",
            "Root Mean Squared Percentage Error: 9.730005896050681\n",
            "R2 Score: 0.7838336986263733\n",
            "RidgeCV in test\n",
            "Mean Absolute Error: 2.9294818261281117\n",
            "Mean Squared Error: 18.19150696448048\n",
            "Root Mean Squared Error: 4.265150286271338\n",
            "Root Mean Squared Percentage Error: 16.01327701309251\n",
            "R2 Score: 0.8391536606592398\n",
            "Index(['oudin', 'hargreaves', 'abtew', 'latitude'], dtype='object')\n",
            "DecisionTreeRegressor in train\n",
            "Mean Absolute Error: 0.0\n",
            "Mean Squared Error: 0.0\n",
            "Root Mean Squared Error: 0.0\n",
            "Root Mean Squared Percentage Error: 0.0\n",
            "R2 Score: 0.9999999999999998\n",
            "DecisionTreeRegressor in test\n",
            "Mean Absolute Error: 3.0630026738007743\n",
            "Mean Squared Error: 28.662982419894252\n",
            "Root Mean Squared Error: 5.353782066903196\n",
            "Root Mean Squared Percentage Error: 5.009362956848614\n",
            "R2 Score: 0.8141008077906865\n"
          ]
        },
        {
          "output_type": "stream",
          "name": "stderr",
          "text": [
            "100%|██████████| 6/6 [00:07<00:00,  1.23s/it]"
          ]
        },
        {
          "output_type": "stream",
          "name": "stdout",
          "text": [
            "Index(['ASCE_ETo', 'hargreaves', 'abtew', 'latitude'], dtype='object')\n",
            "GradientBoostingRegressor in train\n",
            "Mean Absolute Error: 1.3040185294245479\n",
            "Mean Squared Error: 2.9993424119783865\n",
            "Root Mean Squared Error: 1.731860967854633\n",
            "Root Mean Squared Percentage Error: 4.771405115961722\n",
            "R2 Score: 0.9591043440120212\n",
            "GradientBoostingRegressor in test\n",
            "Mean Absolute Error: 2.5300586191652035\n",
            "Mean Squared Error: 19.016786196941823\n",
            "Root Mean Squared Error: 4.360824027284502\n",
            "Root Mean Squared Percentage Error: 6.840891690677658\n",
            "R2 Score: 0.8529013595887568\n"
          ]
        },
        {
          "output_type": "stream",
          "name": "stderr",
          "text": [
            "\n"
          ]
        }
      ]
    },
    {
      "cell_type": "code",
      "source": [
        "x_tr, x_te, y_tr, y_te = train_test_split(X, y, test_size=0.2, random_state=3)\n",
        "\n",
        "m = RandomForestRegressor(n_estimators=100)\n",
        "\n",
        "rfr = RFE(\n",
        "    estimator=m,\n",
        "    n_features_to_select=4\n",
        ")\n",
        "\n",
        "rfr.fit(x_tr, y_tr)\n",
        "\n",
        "# rfr = RFECV(\n",
        "#     estimator=m,\n",
        "# )\n",
        "\n",
        "# rfr.fit(x_tr, y_tr)\n",
        "\n",
        "print(\"Selected Features:\")\n",
        "print(X.columns[rfr.support_])\n",
        "\n",
        "\n",
        "y_tr_pred = rfr.predict(x_tr)\n",
        "print('Mean Absolute Error:', mean_absolute_error(y_tr, y_tr_pred))\n",
        "print('Mean Squared Error:', mean_squared_error(y_tr, y_tr_pred))\n",
        "print('Root Mean Squared Error:', np.sqrt(mean_squared_error(y_tr, y_tr_pred)))\n",
        "print('Root Mean Squared Percentage Error:', rmspe(y_tr, y_tr_pred))\n",
        "print('R2 Score:', r2_score(y_tr, y_tr_pred))"
      ],
      "metadata": {
        "id": "O7ZdHOEUQHY0",
        "outputId": "4618092d-e812-4f50-e8ff-bdedc10297af",
        "colab": {
          "base_uri": "https://localhost:8080/"
        }
      },
      "execution_count": 27,
      "outputs": [
        {
          "output_type": "stream",
          "name": "stdout",
          "text": [
            "Selected Features:\n",
            "Index(['oudin', 'hargreaves', 'abtew', 'latitude'], dtype='object')\n",
            "Mean Absolute Error: 0.9509109595109821\n",
            "Mean Squared Error: 1.8198556051307118\n",
            "Root Mean Squared Error: 1.3490202389626005\n",
            "Root Mean Squared Percentage Error: 2.7575123744940346\n",
            "R2 Score: 0.9748146473179244\n"
          ]
        }
      ]
    },
    {
      "cell_type": "code",
      "source": [
        "import plotly.express as px\n",
        "\n",
        "fig = px.scatter(\n",
        "    x = y_tr_pred,\n",
        "    y = y_tr,\n",
        ")\n",
        "\n",
        "fig.add_shape(\n",
        "    type='line',\n",
        "    x0 = 0,\n",
        "    y0 = 0,\n",
        "    x1 = 12,\n",
        "    y1 = 12,\n",
        "    line = dict(\n",
        "        color = 'Red',\n",
        "    )\n",
        ")\n",
        "\n",
        "fig.update_layout(\n",
        "    autosize = False,\n",
        "    width = 600,\n",
        "    height = 600,\n",
        "    xaxis_range = [0, 12],\n",
        "    yaxis_range = [0, 12],\n",
        "    xaxis_title = dict(text = 'ET Predicted'),\n",
        "    yaxis_title = dict(text = 'ET')\n",
        ")\n",
        "\n",
        "fig.show()"
      ],
      "metadata": {
        "id": "GDOWP6NQQL7D",
        "outputId": "8969b893-c784-4c40-b295-d15a97e701f0",
        "colab": {
          "base_uri": "https://localhost:8080/",
          "height": 617
        }
      },
      "execution_count": 28,
      "outputs": [
        {
          "output_type": "display_data",
          "data": {
            "text/html": [
              "<html>\n",
              "<head><meta charset=\"utf-8\" /></head>\n",
              "<body>\n",
              "    <div>            <script src=\"https://cdnjs.cloudflare.com/ajax/libs/mathjax/2.7.5/MathJax.js?config=TeX-AMS-MML_SVG\"></script><script type=\"text/javascript\">if (window.MathJax && window.MathJax.Hub && window.MathJax.Hub.Config) {window.MathJax.Hub.Config({SVG: {font: \"STIX-Web\"}});}</script>                <script type=\"text/javascript\">window.PlotlyConfig = {MathJaxConfig: 'local'};</script>\n",
              "        <script charset=\"utf-8\" src=\"https://cdn.plot.ly/plotly-2.24.1.min.js\"></script>                <div id=\"67883669-0a87-4b56-8552-a664c6fb6004\" class=\"plotly-graph-div\" style=\"height:600px; width:600px;\"></div>            <script type=\"text/javascript\">                                    window.PLOTLYENV=window.PLOTLYENV || {};                                    if (document.getElementById(\"67883669-0a87-4b56-8552-a664c6fb6004\")) {                    Plotly.newPlot(                        \"67883669-0a87-4b56-8552-a664c6fb6004\",                        [{\"hovertemplate\":\"x=%{x}\\u003cbr\\u003ey=%{y}\\u003cextra\\u003e\\u003c\\u002fextra\\u003e\",\"legendgroup\":\"\",\"marker\":{\"color\":\"#636efa\",\"symbol\":\"circle\"},\"mode\":\"markers\",\"name\":\"\",\"orientation\":\"v\",\"showlegend\":false,\"x\":[2.0525119605645665,12.229433308313435,10.60370888708811,13.836373571922643,16.955742121867452,15.140780641362662,6.317070564699578,4.1858729651767845,8.309893543938774,7.231914053259504,2.6791115490585304,21.10284093906143,12.471547965630059,0.5544962551596024,4.663193963397128,20.22838160310869,4.43425163617281,3.5301469924131554,18.42096673991497,5.821686781934581,5.694692052104915,28.15039865000845,8.321482231763275,1.3304912302092706,10.8491730642529,5.116104384911782,3.5211589181241063,14.489730227837168,14.340374447672724,6.705663300073919,7.36698388266408,25.342133255960434,12.277245238776855,11.434846035515998,18.36764055652379,11.40684343378551,6.1050588343473375,7.466370995549365,8.638646594250414,3.6962556694678095,22.45938316487711,18.490574174280432,6.700323320359217,28.336617808098616,6.436420206095025,36.509359617350015,45.09791322550087,6.269199898917333,7.72907898345651,21.85914415342168,13.156850706235211,3.832024985480355,33.911851339581446,21.890903826679825,19.36910130110519,40.98497183830302,30.61933160203273,32.299155421968734,5.837924005251067,9.529697977399952,22.296670428894284,5.881487184045827,15.652799181561736,4.468609025619178,8.213669060908487,14.085987657241514,12.497004116197367,7.327891818869595,11.97535311562806,14.722234193205848,11.396002763382286,0.7946320635772698,11.358302982464403,13.584282471703133,4.523579421837268,1.449490144655442,5.183383168099645,14.696211958789183,3.3935350614556676,9.327084616057952,7.1523518145770355,18.964551775864336,35.00281506452462,16.17122147843311,1.4297618853569671,4.1975606039156705,3.2982446716373435,13.423258690374539,2.080033381593974,4.526496410891848,11.399837029462422,4.247832408471062,26.61264056402732,12.708829293295173,7.585840532132473,13.43755117582019,2.463729140966084,2.0877466915294485,10.276556917758022,7.975902999956883,3.910235927313122,12.380008186697529,28.0295643084056,7.490157234632956,6.556176547211347,12.548455575453932,10.41449140945784,11.463512794392294,41.212181330410594,11.796422471721987,9.930197707187356,2.7127049281241398,7.019302724402219,7.992112317375995,3.8260671142658653,22.53855066465668,5.053201360754856,7.5450626586600595,13.440303110226443,7.839622601583049,9.827923779274927,4.451153452141127,7.438323765517226,2.9337648146880633,13.971042676915827,13.970003730820487,5.907326118896663,15.408467154003143,16.752400475341375,5.26419122430685,6.776578009385279,22.184617005306578,1.8820838290668522,8.683514324370515,27.070484033652644,6.776234532057108,13.617805319621286,6.0090425443823365,13.21039035525321,1.2071014014283292,5.348627748478679,22.131862087665223,19.933436338180307,24.12878878288606,7.453991581081023,5.225030199298512,22.35748296699405,7.104469729372929,7.0805188437739,15.08306911083345,1.5149746282537893,19.59242020316373,9.523346468330073,2.2555884088020535,8.564301267023223,7.372230738780647,3.0313211787589758,5.223697007031672,1.544717652216334,4.694624296508605,2.6077349126152125,14.039940810078326,9.849740206583238,1.0821052324228355,2.4901386898105273,25.508984763706216,13.147830078806862,2.509763222564532,21.695648072763063,9.371917955879772,11.59836077937954,16.737941694794902,10.577341670629956,5.500728245514648,4.8845895151289564,32.42968551679917,2.9113420062857336,9.92077537883274,19.310547027699883,12.563587627267964,5.736378994650517,17.587087801356034,2.364045700261364,6.056749282527598,2.250715622744951,2.48850671025615,12.38568092039721,9.669316682570692,13.849036551068991,5.101371356814164,2.934991350481106,9.06829991027268,5.541079492752888,35.671920334241904,2.78254179841143,2.415241386029343,17.580643360671566,4.851345775263542,3.31215176161459,21.80681954244744,14.790013181674569,11.615374293589685,5.104933057900718,19.331008294385676,24.881711472637438,7.815724872410135,22.370438943646782,5.235780843273939,7.275133882533945,10.962775133694405,14.36816027436548,13.082431007378657,8.686316816858296,1.2449580284269999,4.226799466605767,6.946665355432568,13.930951037024172,10.38826843083819,2.166929176533193,15.030153406764411,17.478933454400885,3.552566742311317,14.036722726350712,3.9119147993486427,18.39406374780663,7.493393232555723,4.2350133241712165,13.519156594927487,10.36096522564275,4.834688037518713,6.435399884448853,10.922057731342592,10.078823065965588,8.093156230846555,7.25838437039254,1.2220542961520477,2.114379554581504,3.167274837863331,6.14671799367172,15.691782049807555,0.9172069458175843,27.184037810701255,5.562784120058474,6.5135654702536065,7.494069893312623,1.8760534000422504,4.6129680131359425,8.015675913463866,9.186152992036362,7.189442554819241,9.552104355964962,9.539127439389816,9.823873416414587,3.062062140312768,11.391351455811552,8.061554987125271,4.517219017697332,9.192491612217685,10.36264063327517,7.627275578064423,8.350080500731442,9.050639140248627,4.688146342955484,4.695439275770614,14.5375597335624,3.504291705363802,4.278077300606534,13.28369056337808,8.290671132318185,0.7848449697964278,4.9884183999637,8.073118025978111,2.1137243595770654,1.8829962568459058,3.0109745679482076,12.389706746736634,6.234260229675756,18.30863488032816,21.208917135656417,12.726836185472857,6.293634293028139,11.211163078325617,13.330287336211622,13.264417275737848,13.097526997124056,2.4006260130133485,7.144458969183155,3.8761829283021245,6.90161628842776,7.301272223221648,2.2762442300736527,11.987328549286751,4.152354884691435,25.219473163602824,13.657346894706354,13.117283275420908,14.00728718476653,9.939380166601179,8.681361071312711,4.608449827325965,13.68232656830767,16.830756927940726,19.638385339313672,17.067476348942805,10.575174178973539,11.22782985914706,42.628096606788624,5.760709261943167,34.05374777557803,11.820951158148182,13.466805999639627,11.027304751067998,18.095465540062705,15.013882050506815,0.6914466607942222,13.557078004437992,9.090828545985572,20.17087627066262,6.425619169560691,2.2301556151741666,5.324311779187716,8.925700645731803,13.045771259357837,21.78101808477376,6.374696556028418,6.125756936510982,1.8368535410724554,4.961814947696103,6.081863208757873,3.797988836773766,5.602037361494187,5.958845310709047,2.0864004722890863,4.069879592049303,8.710328514688523,1.6386429262201077,0.9037953129530227,6.399973932491832,13.424713296462803,26.048266778231778,4.643392337735499,14.073545518763135,4.793224508628962,5.603671306991862,18.200313824637973,2.8780705319781474,32.02141944800851],\"xaxis\":\"x\",\"y\":[1.5075929701374053,12.31355173770367,8.665188259536027,13.128307058628655,19.07614818186543,15.360403179290529,5.958381019995187,2.715104286895367,7.165018484728048,7.661291896178668,2.213010012774947,20.582713999400156,11.402816961792247,0.3829628107700037,4.939601342265005,18.62323000719635,4.115456226329462,2.8597713972618077,20.529647219699168,6.530423056736035,4.748276340971342,32.13750312955592,7.337338982587408,0.45029632670503894,11.364629232788408,5.263244784030442,3.066285170466517,15.105796286264981,14.688433642321586,5.753576173971249,7.448184197351544,26.364097835478862,10.848657397672486,10.394406718580878,19.11342918941649,8.643312999141685,5.655321596197199,6.580538221645659,7.7584661423160615,2.8000854102105017,22.766118185288704,17.737521415387764,6.888529064658322,28.553928762614397,6.115303783583107,37.90184470339057,50.13637653315675,6.085641153108768,6.665055496677915,22.893516499086196,14.305884879117691,5.079803893800657,33.358489480634496,19.962042430008218,16.61285544629071,41.26691120962756,34.62678327538133,30.871170327145325,5.406629885215303,8.78019948205689,23.95295227126086,5.979929928043235,17.483912144517646,4.747343861788706,6.426151468883259,14.636343905383098,13.544519706858692,7.297460638548811,15.68161214695104,15.184823743559992,11.726355894829414,0.5753646054145031,11.565679213162765,15.707434117195278,5.24048654104239,1.3681664580234558,5.032154429553778,15.466688672023691,3.1637649482390517,6.953860396748787,7.389828976164926,15.75245475254113,30.40076828858492,17.339200672909847,1.4858235011830103,2.3814549529633506,1.3121409154086199,12.992407639565307,1.8849859564919265,3.1020222862326867,12.892849950920636,4.138370452116433,27.369166136866873,11.483279789167533,8.070299848145268,14.235008244951219,2.327763401986398,2.22282418569047,8.525451521667856,7.575402372635704,3.5139936003480856,13.122536421145098,31.76382562687221,7.567473438653062,4.185161529227609,13.39022744166635,9.538511504808142,12.61827848166247,43.19789605055518,12.12493742613313,12.245256517642321,2.265386658143984,7.0119966588902445,7.889022920625867,2.928035137849645,22.62907550012681,5.305271711512015,7.80317036813701,13.592409106813523,9.300736725640387,7.925411497939052,1.3741677330516229,7.778296221789444,3.405146360565846,13.934698418469488,13.910253328451542,5.507798330834738,17.263525532771535,17.291324386978506,5.820819284493538,6.461087142989039,25.55843975263458,1.4833671397076564,9.676686713943203,28.392606013374603,5.765717896296546,13.929419596411387,5.410276666662024,15.384326777592879,1.0756737674457821,5.5759830927176095,23.237025899643186,17.79957498989159,24.91217559374129,8.458223603198794,5.5133081058824756,20.9459498154939,6.705728662741714,8.397764941445965,13.543711191347969,1.5379894002906394,20.371324661742502,10.54270389064129,2.5723813667547746,9.744919984982923,8.003564582932631,3.9070569952714127,6.014186795030725,1.8330728055112224,3.993392222440555,2.4482978495128913,10.56623918810053,9.202198628523647,0.5461815820687183,2.7208134208364623,25.23013224461843,15.101005285749732,3.0039055310496563,24.384307220593982,7.991753354879329,11.374862128686418,18.639356488022617,10.56703049502445,4.7827432349936245,4.497130465024034,33.54726205335273,1.022313633256493,8.245608776459111,18.65819764118067,11.54107829053537,4.996989701923404,19.284751383427963,2.3984635878082297,7.1137773173290775,2.261302239020137,2.4986327389453047,11.846385969577733,7.413903838507728,15.628038442504483,3.8219666955056826,2.797642925467105,7.469557186820594,4.431549292269565,42.12609905194865,1.6886479742138856,2.1360689646597892,17.500282372475805,4.898041600634734,3.0377567000664505,24.069237983315162,14.98426053239612,12.22806611028785,4.31744073851706,19.314530139999817,25.012378279795897,7.677237106936915,23.43964665146591,4.17770035292917,9.069533131520771,11.704106557740088,15.76089704643597,12.569381368980686,8.42342158571395,1.1507640139324091,4.474025906311518,7.757228364753699,14.968567100096427,10.891163703567953,1.9077354067464285,17.73558962181384,16.919257385714957,3.331262836491278,14.509481773728579,3.778176802972175,15.263869808633341,8.846391506767336,4.447318581120509,14.65337508380525,10.00439587070763,3.0812577000040493,6.526103227685495,10.787985112905071,12.253473926231912,8.228573214185552,6.186330622167082,1.019262922309296,1.6667838280157845,3.3575321877903948,6.625656813164608,16.688583146388254,0.651667929211812,22.0515554446761,5.70869502039669,7.129663527383558,7.8694467699897315,1.6636343587094564,4.960048509956498,7.306032526386848,9.275995542689948,6.883784961538717,9.21388257130948,10.442190846099052,8.730503402956664,3.8551039890427,10.64142671496917,7.868304220591443,4.034710268031692,10.84990585864093,10.548440180882817,6.5890550045361715,7.688331819202125,6.999130466927831,4.338388489277094,3.987984509202878,16.112333304832656,2.2836192964466786,2.2252701081441457,13.550504201484626,8.125673643106802,0.4320396039602336,4.832082416991122,6.8586369816106405,1.8289647449188624,1.2076780155665912,3.221075730971713,15.113363936641788,6.933131928379916,19.674079829035865,21.84832236761992,10.561043468384915,6.332997833922091,11.884286644535429,13.519391176270071,15.252786989432213,14.780280417375858,1.5288824182466845,7.631635788110724,2.790636589532926,7.004310266094155,8.163006364797448,1.5833729407087471,12.460042233162625,3.7448356900914224,22.509906125779807,13.045052361588445,10.4982642166973,16.060437494285395,10.409931067988685,9.426757927014204,4.642073915518336,14.524432311128665,14.897286520678872,17.947250667283903,14.433883095595696,10.702455431843184,10.599387733246072,45.67287672820073,5.434584715876067,34.814838372514764,10.014405973357507,9.931854517574699,11.020722754936958,13.828659103546224,15.747973571744144,0.5716475755488177,14.487319149907327,10.081226320568067,19.245805374375703,6.3933601726005245,2.0919985744262717,3.982226318257979,7.325257946176864,12.63914663255341,24.18765830630636,7.222984366326304,5.688691995177695,2.0826830606008127,5.024153551490718,7.078851468451938,3.9798624639102576,5.562150519303011,6.315226935942408,2.1395424938752514,3.167545440369949,7.340167193381583,1.8057102926239277,0.5583645537214693,7.700438025010832,13.67296101516216,26.810508289999127,4.400414071953238,14.081572689133822,5.810017508065657,5.224525806037718,16.962545840022464,3.7810256491423946,32.64878046839687],\"yaxis\":\"y\",\"type\":\"scatter\"}],                        {\"template\":{\"data\":{\"histogram2dcontour\":[{\"type\":\"histogram2dcontour\",\"colorbar\":{\"outlinewidth\":0,\"ticks\":\"\"},\"colorscale\":[[0.0,\"#0d0887\"],[0.1111111111111111,\"#46039f\"],[0.2222222222222222,\"#7201a8\"],[0.3333333333333333,\"#9c179e\"],[0.4444444444444444,\"#bd3786\"],[0.5555555555555556,\"#d8576b\"],[0.6666666666666666,\"#ed7953\"],[0.7777777777777778,\"#fb9f3a\"],[0.8888888888888888,\"#fdca26\"],[1.0,\"#f0f921\"]]}],\"choropleth\":[{\"type\":\"choropleth\",\"colorbar\":{\"outlinewidth\":0,\"ticks\":\"\"}}],\"histogram2d\":[{\"type\":\"histogram2d\",\"colorbar\":{\"outlinewidth\":0,\"ticks\":\"\"},\"colorscale\":[[0.0,\"#0d0887\"],[0.1111111111111111,\"#46039f\"],[0.2222222222222222,\"#7201a8\"],[0.3333333333333333,\"#9c179e\"],[0.4444444444444444,\"#bd3786\"],[0.5555555555555556,\"#d8576b\"],[0.6666666666666666,\"#ed7953\"],[0.7777777777777778,\"#fb9f3a\"],[0.8888888888888888,\"#fdca26\"],[1.0,\"#f0f921\"]]}],\"heatmap\":[{\"type\":\"heatmap\",\"colorbar\":{\"outlinewidth\":0,\"ticks\":\"\"},\"colorscale\":[[0.0,\"#0d0887\"],[0.1111111111111111,\"#46039f\"],[0.2222222222222222,\"#7201a8\"],[0.3333333333333333,\"#9c179e\"],[0.4444444444444444,\"#bd3786\"],[0.5555555555555556,\"#d8576b\"],[0.6666666666666666,\"#ed7953\"],[0.7777777777777778,\"#fb9f3a\"],[0.8888888888888888,\"#fdca26\"],[1.0,\"#f0f921\"]]}],\"heatmapgl\":[{\"type\":\"heatmapgl\",\"colorbar\":{\"outlinewidth\":0,\"ticks\":\"\"},\"colorscale\":[[0.0,\"#0d0887\"],[0.1111111111111111,\"#46039f\"],[0.2222222222222222,\"#7201a8\"],[0.3333333333333333,\"#9c179e\"],[0.4444444444444444,\"#bd3786\"],[0.5555555555555556,\"#d8576b\"],[0.6666666666666666,\"#ed7953\"],[0.7777777777777778,\"#fb9f3a\"],[0.8888888888888888,\"#fdca26\"],[1.0,\"#f0f921\"]]}],\"contourcarpet\":[{\"type\":\"contourcarpet\",\"colorbar\":{\"outlinewidth\":0,\"ticks\":\"\"}}],\"contour\":[{\"type\":\"contour\",\"colorbar\":{\"outlinewidth\":0,\"ticks\":\"\"},\"colorscale\":[[0.0,\"#0d0887\"],[0.1111111111111111,\"#46039f\"],[0.2222222222222222,\"#7201a8\"],[0.3333333333333333,\"#9c179e\"],[0.4444444444444444,\"#bd3786\"],[0.5555555555555556,\"#d8576b\"],[0.6666666666666666,\"#ed7953\"],[0.7777777777777778,\"#fb9f3a\"],[0.8888888888888888,\"#fdca26\"],[1.0,\"#f0f921\"]]}],\"surface\":[{\"type\":\"surface\",\"colorbar\":{\"outlinewidth\":0,\"ticks\":\"\"},\"colorscale\":[[0.0,\"#0d0887\"],[0.1111111111111111,\"#46039f\"],[0.2222222222222222,\"#7201a8\"],[0.3333333333333333,\"#9c179e\"],[0.4444444444444444,\"#bd3786\"],[0.5555555555555556,\"#d8576b\"],[0.6666666666666666,\"#ed7953\"],[0.7777777777777778,\"#fb9f3a\"],[0.8888888888888888,\"#fdca26\"],[1.0,\"#f0f921\"]]}],\"mesh3d\":[{\"type\":\"mesh3d\",\"colorbar\":{\"outlinewidth\":0,\"ticks\":\"\"}}],\"scatter\":[{\"fillpattern\":{\"fillmode\":\"overlay\",\"size\":10,\"solidity\":0.2},\"type\":\"scatter\"}],\"parcoords\":[{\"type\":\"parcoords\",\"line\":{\"colorbar\":{\"outlinewidth\":0,\"ticks\":\"\"}}}],\"scatterpolargl\":[{\"type\":\"scatterpolargl\",\"marker\":{\"colorbar\":{\"outlinewidth\":0,\"ticks\":\"\"}}}],\"bar\":[{\"error_x\":{\"color\":\"#2a3f5f\"},\"error_y\":{\"color\":\"#2a3f5f\"},\"marker\":{\"line\":{\"color\":\"#E5ECF6\",\"width\":0.5},\"pattern\":{\"fillmode\":\"overlay\",\"size\":10,\"solidity\":0.2}},\"type\":\"bar\"}],\"scattergeo\":[{\"type\":\"scattergeo\",\"marker\":{\"colorbar\":{\"outlinewidth\":0,\"ticks\":\"\"}}}],\"scatterpolar\":[{\"type\":\"scatterpolar\",\"marker\":{\"colorbar\":{\"outlinewidth\":0,\"ticks\":\"\"}}}],\"histogram\":[{\"marker\":{\"pattern\":{\"fillmode\":\"overlay\",\"size\":10,\"solidity\":0.2}},\"type\":\"histogram\"}],\"scattergl\":[{\"type\":\"scattergl\",\"marker\":{\"colorbar\":{\"outlinewidth\":0,\"ticks\":\"\"}}}],\"scatter3d\":[{\"type\":\"scatter3d\",\"line\":{\"colorbar\":{\"outlinewidth\":0,\"ticks\":\"\"}},\"marker\":{\"colorbar\":{\"outlinewidth\":0,\"ticks\":\"\"}}}],\"scattermapbox\":[{\"type\":\"scattermapbox\",\"marker\":{\"colorbar\":{\"outlinewidth\":0,\"ticks\":\"\"}}}],\"scatterternary\":[{\"type\":\"scatterternary\",\"marker\":{\"colorbar\":{\"outlinewidth\":0,\"ticks\":\"\"}}}],\"scattercarpet\":[{\"type\":\"scattercarpet\",\"marker\":{\"colorbar\":{\"outlinewidth\":0,\"ticks\":\"\"}}}],\"carpet\":[{\"aaxis\":{\"endlinecolor\":\"#2a3f5f\",\"gridcolor\":\"white\",\"linecolor\":\"white\",\"minorgridcolor\":\"white\",\"startlinecolor\":\"#2a3f5f\"},\"baxis\":{\"endlinecolor\":\"#2a3f5f\",\"gridcolor\":\"white\",\"linecolor\":\"white\",\"minorgridcolor\":\"white\",\"startlinecolor\":\"#2a3f5f\"},\"type\":\"carpet\"}],\"table\":[{\"cells\":{\"fill\":{\"color\":\"#EBF0F8\"},\"line\":{\"color\":\"white\"}},\"header\":{\"fill\":{\"color\":\"#C8D4E3\"},\"line\":{\"color\":\"white\"}},\"type\":\"table\"}],\"barpolar\":[{\"marker\":{\"line\":{\"color\":\"#E5ECF6\",\"width\":0.5},\"pattern\":{\"fillmode\":\"overlay\",\"size\":10,\"solidity\":0.2}},\"type\":\"barpolar\"}],\"pie\":[{\"automargin\":true,\"type\":\"pie\"}]},\"layout\":{\"autotypenumbers\":\"strict\",\"colorway\":[\"#636efa\",\"#EF553B\",\"#00cc96\",\"#ab63fa\",\"#FFA15A\",\"#19d3f3\",\"#FF6692\",\"#B6E880\",\"#FF97FF\",\"#FECB52\"],\"font\":{\"color\":\"#2a3f5f\"},\"hovermode\":\"closest\",\"hoverlabel\":{\"align\":\"left\"},\"paper_bgcolor\":\"white\",\"plot_bgcolor\":\"#E5ECF6\",\"polar\":{\"bgcolor\":\"#E5ECF6\",\"angularaxis\":{\"gridcolor\":\"white\",\"linecolor\":\"white\",\"ticks\":\"\"},\"radialaxis\":{\"gridcolor\":\"white\",\"linecolor\":\"white\",\"ticks\":\"\"}},\"ternary\":{\"bgcolor\":\"#E5ECF6\",\"aaxis\":{\"gridcolor\":\"white\",\"linecolor\":\"white\",\"ticks\":\"\"},\"baxis\":{\"gridcolor\":\"white\",\"linecolor\":\"white\",\"ticks\":\"\"},\"caxis\":{\"gridcolor\":\"white\",\"linecolor\":\"white\",\"ticks\":\"\"}},\"coloraxis\":{\"colorbar\":{\"outlinewidth\":0,\"ticks\":\"\"}},\"colorscale\":{\"sequential\":[[0.0,\"#0d0887\"],[0.1111111111111111,\"#46039f\"],[0.2222222222222222,\"#7201a8\"],[0.3333333333333333,\"#9c179e\"],[0.4444444444444444,\"#bd3786\"],[0.5555555555555556,\"#d8576b\"],[0.6666666666666666,\"#ed7953\"],[0.7777777777777778,\"#fb9f3a\"],[0.8888888888888888,\"#fdca26\"],[1.0,\"#f0f921\"]],\"sequentialminus\":[[0.0,\"#0d0887\"],[0.1111111111111111,\"#46039f\"],[0.2222222222222222,\"#7201a8\"],[0.3333333333333333,\"#9c179e\"],[0.4444444444444444,\"#bd3786\"],[0.5555555555555556,\"#d8576b\"],[0.6666666666666666,\"#ed7953\"],[0.7777777777777778,\"#fb9f3a\"],[0.8888888888888888,\"#fdca26\"],[1.0,\"#f0f921\"]],\"diverging\":[[0,\"#8e0152\"],[0.1,\"#c51b7d\"],[0.2,\"#de77ae\"],[0.3,\"#f1b6da\"],[0.4,\"#fde0ef\"],[0.5,\"#f7f7f7\"],[0.6,\"#e6f5d0\"],[0.7,\"#b8e186\"],[0.8,\"#7fbc41\"],[0.9,\"#4d9221\"],[1,\"#276419\"]]},\"xaxis\":{\"gridcolor\":\"white\",\"linecolor\":\"white\",\"ticks\":\"\",\"title\":{\"standoff\":15},\"zerolinecolor\":\"white\",\"automargin\":true,\"zerolinewidth\":2},\"yaxis\":{\"gridcolor\":\"white\",\"linecolor\":\"white\",\"ticks\":\"\",\"title\":{\"standoff\":15},\"zerolinecolor\":\"white\",\"automargin\":true,\"zerolinewidth\":2},\"scene\":{\"xaxis\":{\"backgroundcolor\":\"#E5ECF6\",\"gridcolor\":\"white\",\"linecolor\":\"white\",\"showbackground\":true,\"ticks\":\"\",\"zerolinecolor\":\"white\",\"gridwidth\":2},\"yaxis\":{\"backgroundcolor\":\"#E5ECF6\",\"gridcolor\":\"white\",\"linecolor\":\"white\",\"showbackground\":true,\"ticks\":\"\",\"zerolinecolor\":\"white\",\"gridwidth\":2},\"zaxis\":{\"backgroundcolor\":\"#E5ECF6\",\"gridcolor\":\"white\",\"linecolor\":\"white\",\"showbackground\":true,\"ticks\":\"\",\"zerolinecolor\":\"white\",\"gridwidth\":2}},\"shapedefaults\":{\"line\":{\"color\":\"#2a3f5f\"}},\"annotationdefaults\":{\"arrowcolor\":\"#2a3f5f\",\"arrowhead\":0,\"arrowwidth\":1},\"geo\":{\"bgcolor\":\"white\",\"landcolor\":\"#E5ECF6\",\"subunitcolor\":\"white\",\"showland\":true,\"showlakes\":true,\"lakecolor\":\"white\"},\"title\":{\"x\":0.05},\"mapbox\":{\"style\":\"light\"}}},\"xaxis\":{\"anchor\":\"y\",\"domain\":[0.0,1.0],\"title\":{\"text\":\"ET Predicted\"},\"range\":[0,12]},\"yaxis\":{\"anchor\":\"x\",\"domain\":[0.0,1.0],\"title\":{\"text\":\"ET\"},\"range\":[0,12]},\"legend\":{\"tracegroupgap\":0},\"margin\":{\"t\":60},\"shapes\":[{\"line\":{\"color\":\"Red\"},\"type\":\"line\",\"x0\":0,\"x1\":12,\"y0\":0,\"y1\":12}],\"autosize\":false,\"width\":600,\"height\":600},                        {\"responsive\": true}                    ).then(function(){\n",
              "                            \n",
              "var gd = document.getElementById('67883669-0a87-4b56-8552-a664c6fb6004');\n",
              "var x = new MutationObserver(function (mutations, observer) {{\n",
              "        var display = window.getComputedStyle(gd).display;\n",
              "        if (!display || display === 'none') {{\n",
              "            console.log([gd, 'removed!']);\n",
              "            Plotly.purge(gd);\n",
              "            observer.disconnect();\n",
              "        }}\n",
              "}});\n",
              "\n",
              "// Listen for the removal of the full notebook cells\n",
              "var notebookContainer = gd.closest('#notebook-container');\n",
              "if (notebookContainer) {{\n",
              "    x.observe(notebookContainer, {childList: true});\n",
              "}}\n",
              "\n",
              "// Listen for the clearing of the current output cell\n",
              "var outputEl = gd.closest('.output');\n",
              "if (outputEl) {{\n",
              "    x.observe(outputEl, {childList: true});\n",
              "}}\n",
              "\n",
              "                        })                };                            </script>        </div>\n",
              "</body>\n",
              "</html>"
            ]
          },
          "metadata": {}
        }
      ]
    },
    {
      "cell_type": "code",
      "source": [
        "y_te_pred = rfr.predict(x_te)\n",
        "\n",
        "fig = px.scatter(\n",
        "    x = y_te_pred,\n",
        "    y = y_te,\n",
        ")\n",
        "\n",
        "fig.add_shape(\n",
        "    type='line',\n",
        "    x0 = 0,\n",
        "    y0 = 0,\n",
        "    x1 = 12,\n",
        "    y1 = 12,\n",
        "    line = dict(\n",
        "        color = 'Red',\n",
        "    )\n",
        ")\n",
        "\n",
        "fig.update_layout(\n",
        "    autosize = False,\n",
        "    width = 600,\n",
        "    height = 600,\n",
        "    xaxis_range = [0, 12],\n",
        "    yaxis_range = [0, 12],\n",
        "    xaxis_title = dict(text = 'ET Predicted'),\n",
        "    yaxis_title = dict(text = 'ET')\n",
        ")\n",
        "\n",
        "fig.show()"
      ],
      "metadata": {
        "id": "dZh_gQceQOX0",
        "outputId": "a5c103bd-5b9b-4ebc-be47-9e79b1cb81ed",
        "colab": {
          "base_uri": "https://localhost:8080/",
          "height": 617
        }
      },
      "execution_count": 29,
      "outputs": [
        {
          "output_type": "display_data",
          "data": {
            "text/html": [
              "<html>\n",
              "<head><meta charset=\"utf-8\" /></head>\n",
              "<body>\n",
              "    <div>            <script src=\"https://cdnjs.cloudflare.com/ajax/libs/mathjax/2.7.5/MathJax.js?config=TeX-AMS-MML_SVG\"></script><script type=\"text/javascript\">if (window.MathJax && window.MathJax.Hub && window.MathJax.Hub.Config) {window.MathJax.Hub.Config({SVG: {font: \"STIX-Web\"}});}</script>                <script type=\"text/javascript\">window.PlotlyConfig = {MathJaxConfig: 'local'};</script>\n",
              "        <script charset=\"utf-8\" src=\"https://cdn.plot.ly/plotly-2.24.1.min.js\"></script>                <div id=\"b974f75e-f073-4130-8828-bc9ea2f6961f\" class=\"plotly-graph-div\" style=\"height:600px; width:600px;\"></div>            <script type=\"text/javascript\">                                    window.PLOTLYENV=window.PLOTLYENV || {};                                    if (document.getElementById(\"b974f75e-f073-4130-8828-bc9ea2f6961f\")) {                    Plotly.newPlot(                        \"b974f75e-f073-4130-8828-bc9ea2f6961f\",                        [{\"hovertemplate\":\"x=%{x}\\u003cbr\\u003ey=%{y}\\u003cextra\\u003e\\u003c\\u002fextra\\u003e\",\"legendgroup\":\"\",\"marker\":{\"color\":\"#636efa\",\"symbol\":\"circle\"},\"mode\":\"markers\",\"name\":\"\",\"orientation\":\"v\",\"showlegend\":false,\"x\":[35.094191807273035,6.45600561656963,6.488208227123486,6.2679361669961455,4.366509295138879,1.2748619748990877,39.84949317443573,8.078552460298168,0.6141122350463482,40.78725900018883,5.91642567207011,5.5161576469618945,4.884396253608215,9.465542078624232,35.02454779513977,31.222125777575705,7.15291431292366,2.4457087580133763,11.786133449074436,1.0133163870192299,4.667573561008179,41.734374450282324,9.452332865193096,12.546531686065494,13.413891300229755,23.309003398956655,3.0587585847074292,11.364961827556595,8.995045295321665,6.666180529117801,17.040827953119233,6.0300150426298895,4.9282219976854735,3.1821123898006216,5.860724012133752,3.380718712857942,2.739358960324621,19.300963118740345,0.6867012103509343,2.4301765938493043,10.788414547975606,16.35460907271574,12.205049553490278,34.38660114263033,35.40532575619779,23.712098571148157,22.18316977851688,21.660964364946565,7.794532811580167,4.489076857601665,44.392017589574436,3.6162614343211237,0.663270249258541,2.2930210131332007,7.209558879032358,2.542683125933585,36.52629494575421,20.593991510127843,11.844302656732381,4.885927637314345,6.332538314793161,6.440465618517087,8.970142194493995,2.805432209659445,6.407481665046751,0.8724557873688865,5.097592624857455,12.19272854747152,23.327390716660055,25.289075459368064,5.808375546413028,14.00213352951946,7.2488237543968035,7.311713689547828,32.94918516736931,2.143207642727806,9.762097466496531,14.021880228950032,12.692707702135202,3.4212583357666593,6.418138670109537,8.676769534945137,1.6313168182856026,0.7997623568501057,11.03925718593837,10.269197391513677,0.8130910769270898],\"xaxis\":\"x\",\"y\":[20.082249221468448,6.425211339067429,1.9126133324300858,6.236272211323154,6.661315794393387,0.3955075429581521,20.719524760253776,6.673547877468993,1.3431601061664442,23.701248914301832,6.018636270428694,6.296824215513137,3.637990572302855,11.867594327983504,30.673431468922495,26.22932914905325,8.061287937487851,4.346560852128532,8.522884243606706,0.3996365347386836,5.128488140920552,47.2277405217622,12.316391133085986,12.212650023716998,24.88877504718816,24.439619778953805,2.0656458622077163,8.105176437510732,7.056858712432684,7.932453922254782,23.499067464090693,4.774125836038017,4.309719663915557,3.2437603959989847,5.782582769469155,5.372680908525986,4.473448504934078,23.815988081955876,0.3808147795142661,2.30245635936791,9.983804555362036,23.292818233850348,16.341170885726356,32.3969854489052,19.34244603819666,20.40890008624637,20.62004021568625,27.132290044759127,9.2170887779229,5.068952310101397,43.54272481906171,1.487104708952718,1.950663443244144,4.785497626687674,5.802879310940952,3.735188714215158,47.05351046617838,18.337209949475845,10.651776299289637,4.750680541019356,5.306478078323369,8.694776731267545,7.826571652514925,3.900592734246728,4.834088068692248,1.6522359828681843,2.823602757430426,13.439648637107354,23.911704670218278,27.530691768703868,9.252324019159962,13.347267382754941,8.201495215320039,8.023598302924423,28.637325185944377,1.710462459072565,5.3355214312550885,12.817734903622583,8.834761003265848,1.5667053585116897,6.581604944832875,8.030673404706352,0.9789156926455246,0.5345665328261937,7.068681985899316,10.734622736357245,0.5674249861250357],\"yaxis\":\"y\",\"type\":\"scatter\"}],                        {\"template\":{\"data\":{\"histogram2dcontour\":[{\"type\":\"histogram2dcontour\",\"colorbar\":{\"outlinewidth\":0,\"ticks\":\"\"},\"colorscale\":[[0.0,\"#0d0887\"],[0.1111111111111111,\"#46039f\"],[0.2222222222222222,\"#7201a8\"],[0.3333333333333333,\"#9c179e\"],[0.4444444444444444,\"#bd3786\"],[0.5555555555555556,\"#d8576b\"],[0.6666666666666666,\"#ed7953\"],[0.7777777777777778,\"#fb9f3a\"],[0.8888888888888888,\"#fdca26\"],[1.0,\"#f0f921\"]]}],\"choropleth\":[{\"type\":\"choropleth\",\"colorbar\":{\"outlinewidth\":0,\"ticks\":\"\"}}],\"histogram2d\":[{\"type\":\"histogram2d\",\"colorbar\":{\"outlinewidth\":0,\"ticks\":\"\"},\"colorscale\":[[0.0,\"#0d0887\"],[0.1111111111111111,\"#46039f\"],[0.2222222222222222,\"#7201a8\"],[0.3333333333333333,\"#9c179e\"],[0.4444444444444444,\"#bd3786\"],[0.5555555555555556,\"#d8576b\"],[0.6666666666666666,\"#ed7953\"],[0.7777777777777778,\"#fb9f3a\"],[0.8888888888888888,\"#fdca26\"],[1.0,\"#f0f921\"]]}],\"heatmap\":[{\"type\":\"heatmap\",\"colorbar\":{\"outlinewidth\":0,\"ticks\":\"\"},\"colorscale\":[[0.0,\"#0d0887\"],[0.1111111111111111,\"#46039f\"],[0.2222222222222222,\"#7201a8\"],[0.3333333333333333,\"#9c179e\"],[0.4444444444444444,\"#bd3786\"],[0.5555555555555556,\"#d8576b\"],[0.6666666666666666,\"#ed7953\"],[0.7777777777777778,\"#fb9f3a\"],[0.8888888888888888,\"#fdca26\"],[1.0,\"#f0f921\"]]}],\"heatmapgl\":[{\"type\":\"heatmapgl\",\"colorbar\":{\"outlinewidth\":0,\"ticks\":\"\"},\"colorscale\":[[0.0,\"#0d0887\"],[0.1111111111111111,\"#46039f\"],[0.2222222222222222,\"#7201a8\"],[0.3333333333333333,\"#9c179e\"],[0.4444444444444444,\"#bd3786\"],[0.5555555555555556,\"#d8576b\"],[0.6666666666666666,\"#ed7953\"],[0.7777777777777778,\"#fb9f3a\"],[0.8888888888888888,\"#fdca26\"],[1.0,\"#f0f921\"]]}],\"contourcarpet\":[{\"type\":\"contourcarpet\",\"colorbar\":{\"outlinewidth\":0,\"ticks\":\"\"}}],\"contour\":[{\"type\":\"contour\",\"colorbar\":{\"outlinewidth\":0,\"ticks\":\"\"},\"colorscale\":[[0.0,\"#0d0887\"],[0.1111111111111111,\"#46039f\"],[0.2222222222222222,\"#7201a8\"],[0.3333333333333333,\"#9c179e\"],[0.4444444444444444,\"#bd3786\"],[0.5555555555555556,\"#d8576b\"],[0.6666666666666666,\"#ed7953\"],[0.7777777777777778,\"#fb9f3a\"],[0.8888888888888888,\"#fdca26\"],[1.0,\"#f0f921\"]]}],\"surface\":[{\"type\":\"surface\",\"colorbar\":{\"outlinewidth\":0,\"ticks\":\"\"},\"colorscale\":[[0.0,\"#0d0887\"],[0.1111111111111111,\"#46039f\"],[0.2222222222222222,\"#7201a8\"],[0.3333333333333333,\"#9c179e\"],[0.4444444444444444,\"#bd3786\"],[0.5555555555555556,\"#d8576b\"],[0.6666666666666666,\"#ed7953\"],[0.7777777777777778,\"#fb9f3a\"],[0.8888888888888888,\"#fdca26\"],[1.0,\"#f0f921\"]]}],\"mesh3d\":[{\"type\":\"mesh3d\",\"colorbar\":{\"outlinewidth\":0,\"ticks\":\"\"}}],\"scatter\":[{\"fillpattern\":{\"fillmode\":\"overlay\",\"size\":10,\"solidity\":0.2},\"type\":\"scatter\"}],\"parcoords\":[{\"type\":\"parcoords\",\"line\":{\"colorbar\":{\"outlinewidth\":0,\"ticks\":\"\"}}}],\"scatterpolargl\":[{\"type\":\"scatterpolargl\",\"marker\":{\"colorbar\":{\"outlinewidth\":0,\"ticks\":\"\"}}}],\"bar\":[{\"error_x\":{\"color\":\"#2a3f5f\"},\"error_y\":{\"color\":\"#2a3f5f\"},\"marker\":{\"line\":{\"color\":\"#E5ECF6\",\"width\":0.5},\"pattern\":{\"fillmode\":\"overlay\",\"size\":10,\"solidity\":0.2}},\"type\":\"bar\"}],\"scattergeo\":[{\"type\":\"scattergeo\",\"marker\":{\"colorbar\":{\"outlinewidth\":0,\"ticks\":\"\"}}}],\"scatterpolar\":[{\"type\":\"scatterpolar\",\"marker\":{\"colorbar\":{\"outlinewidth\":0,\"ticks\":\"\"}}}],\"histogram\":[{\"marker\":{\"pattern\":{\"fillmode\":\"overlay\",\"size\":10,\"solidity\":0.2}},\"type\":\"histogram\"}],\"scattergl\":[{\"type\":\"scattergl\",\"marker\":{\"colorbar\":{\"outlinewidth\":0,\"ticks\":\"\"}}}],\"scatter3d\":[{\"type\":\"scatter3d\",\"line\":{\"colorbar\":{\"outlinewidth\":0,\"ticks\":\"\"}},\"marker\":{\"colorbar\":{\"outlinewidth\":0,\"ticks\":\"\"}}}],\"scattermapbox\":[{\"type\":\"scattermapbox\",\"marker\":{\"colorbar\":{\"outlinewidth\":0,\"ticks\":\"\"}}}],\"scatterternary\":[{\"type\":\"scatterternary\",\"marker\":{\"colorbar\":{\"outlinewidth\":0,\"ticks\":\"\"}}}],\"scattercarpet\":[{\"type\":\"scattercarpet\",\"marker\":{\"colorbar\":{\"outlinewidth\":0,\"ticks\":\"\"}}}],\"carpet\":[{\"aaxis\":{\"endlinecolor\":\"#2a3f5f\",\"gridcolor\":\"white\",\"linecolor\":\"white\",\"minorgridcolor\":\"white\",\"startlinecolor\":\"#2a3f5f\"},\"baxis\":{\"endlinecolor\":\"#2a3f5f\",\"gridcolor\":\"white\",\"linecolor\":\"white\",\"minorgridcolor\":\"white\",\"startlinecolor\":\"#2a3f5f\"},\"type\":\"carpet\"}],\"table\":[{\"cells\":{\"fill\":{\"color\":\"#EBF0F8\"},\"line\":{\"color\":\"white\"}},\"header\":{\"fill\":{\"color\":\"#C8D4E3\"},\"line\":{\"color\":\"white\"}},\"type\":\"table\"}],\"barpolar\":[{\"marker\":{\"line\":{\"color\":\"#E5ECF6\",\"width\":0.5},\"pattern\":{\"fillmode\":\"overlay\",\"size\":10,\"solidity\":0.2}},\"type\":\"barpolar\"}],\"pie\":[{\"automargin\":true,\"type\":\"pie\"}]},\"layout\":{\"autotypenumbers\":\"strict\",\"colorway\":[\"#636efa\",\"#EF553B\",\"#00cc96\",\"#ab63fa\",\"#FFA15A\",\"#19d3f3\",\"#FF6692\",\"#B6E880\",\"#FF97FF\",\"#FECB52\"],\"font\":{\"color\":\"#2a3f5f\"},\"hovermode\":\"closest\",\"hoverlabel\":{\"align\":\"left\"},\"paper_bgcolor\":\"white\",\"plot_bgcolor\":\"#E5ECF6\",\"polar\":{\"bgcolor\":\"#E5ECF6\",\"angularaxis\":{\"gridcolor\":\"white\",\"linecolor\":\"white\",\"ticks\":\"\"},\"radialaxis\":{\"gridcolor\":\"white\",\"linecolor\":\"white\",\"ticks\":\"\"}},\"ternary\":{\"bgcolor\":\"#E5ECF6\",\"aaxis\":{\"gridcolor\":\"white\",\"linecolor\":\"white\",\"ticks\":\"\"},\"baxis\":{\"gridcolor\":\"white\",\"linecolor\":\"white\",\"ticks\":\"\"},\"caxis\":{\"gridcolor\":\"white\",\"linecolor\":\"white\",\"ticks\":\"\"}},\"coloraxis\":{\"colorbar\":{\"outlinewidth\":0,\"ticks\":\"\"}},\"colorscale\":{\"sequential\":[[0.0,\"#0d0887\"],[0.1111111111111111,\"#46039f\"],[0.2222222222222222,\"#7201a8\"],[0.3333333333333333,\"#9c179e\"],[0.4444444444444444,\"#bd3786\"],[0.5555555555555556,\"#d8576b\"],[0.6666666666666666,\"#ed7953\"],[0.7777777777777778,\"#fb9f3a\"],[0.8888888888888888,\"#fdca26\"],[1.0,\"#f0f921\"]],\"sequentialminus\":[[0.0,\"#0d0887\"],[0.1111111111111111,\"#46039f\"],[0.2222222222222222,\"#7201a8\"],[0.3333333333333333,\"#9c179e\"],[0.4444444444444444,\"#bd3786\"],[0.5555555555555556,\"#d8576b\"],[0.6666666666666666,\"#ed7953\"],[0.7777777777777778,\"#fb9f3a\"],[0.8888888888888888,\"#fdca26\"],[1.0,\"#f0f921\"]],\"diverging\":[[0,\"#8e0152\"],[0.1,\"#c51b7d\"],[0.2,\"#de77ae\"],[0.3,\"#f1b6da\"],[0.4,\"#fde0ef\"],[0.5,\"#f7f7f7\"],[0.6,\"#e6f5d0\"],[0.7,\"#b8e186\"],[0.8,\"#7fbc41\"],[0.9,\"#4d9221\"],[1,\"#276419\"]]},\"xaxis\":{\"gridcolor\":\"white\",\"linecolor\":\"white\",\"ticks\":\"\",\"title\":{\"standoff\":15},\"zerolinecolor\":\"white\",\"automargin\":true,\"zerolinewidth\":2},\"yaxis\":{\"gridcolor\":\"white\",\"linecolor\":\"white\",\"ticks\":\"\",\"title\":{\"standoff\":15},\"zerolinecolor\":\"white\",\"automargin\":true,\"zerolinewidth\":2},\"scene\":{\"xaxis\":{\"backgroundcolor\":\"#E5ECF6\",\"gridcolor\":\"white\",\"linecolor\":\"white\",\"showbackground\":true,\"ticks\":\"\",\"zerolinecolor\":\"white\",\"gridwidth\":2},\"yaxis\":{\"backgroundcolor\":\"#E5ECF6\",\"gridcolor\":\"white\",\"linecolor\":\"white\",\"showbackground\":true,\"ticks\":\"\",\"zerolinecolor\":\"white\",\"gridwidth\":2},\"zaxis\":{\"backgroundcolor\":\"#E5ECF6\",\"gridcolor\":\"white\",\"linecolor\":\"white\",\"showbackground\":true,\"ticks\":\"\",\"zerolinecolor\":\"white\",\"gridwidth\":2}},\"shapedefaults\":{\"line\":{\"color\":\"#2a3f5f\"}},\"annotationdefaults\":{\"arrowcolor\":\"#2a3f5f\",\"arrowhead\":0,\"arrowwidth\":1},\"geo\":{\"bgcolor\":\"white\",\"landcolor\":\"#E5ECF6\",\"subunitcolor\":\"white\",\"showland\":true,\"showlakes\":true,\"lakecolor\":\"white\"},\"title\":{\"x\":0.05},\"mapbox\":{\"style\":\"light\"}}},\"xaxis\":{\"anchor\":\"y\",\"domain\":[0.0,1.0],\"title\":{\"text\":\"ET Predicted\"},\"range\":[0,12]},\"yaxis\":{\"anchor\":\"x\",\"domain\":[0.0,1.0],\"title\":{\"text\":\"ET\"},\"range\":[0,12]},\"legend\":{\"tracegroupgap\":0},\"margin\":{\"t\":60},\"shapes\":[{\"line\":{\"color\":\"Red\"},\"type\":\"line\",\"x0\":0,\"x1\":12,\"y0\":0,\"y1\":12}],\"autosize\":false,\"width\":600,\"height\":600},                        {\"responsive\": true}                    ).then(function(){\n",
              "                            \n",
              "var gd = document.getElementById('b974f75e-f073-4130-8828-bc9ea2f6961f');\n",
              "var x = new MutationObserver(function (mutations, observer) {{\n",
              "        var display = window.getComputedStyle(gd).display;\n",
              "        if (!display || display === 'none') {{\n",
              "            console.log([gd, 'removed!']);\n",
              "            Plotly.purge(gd);\n",
              "            observer.disconnect();\n",
              "        }}\n",
              "}});\n",
              "\n",
              "// Listen for the removal of the full notebook cells\n",
              "var notebookContainer = gd.closest('#notebook-container');\n",
              "if (notebookContainer) {{\n",
              "    x.observe(notebookContainer, {childList: true});\n",
              "}}\n",
              "\n",
              "// Listen for the clearing of the current output cell\n",
              "var outputEl = gd.closest('.output');\n",
              "if (outputEl) {{\n",
              "    x.observe(outputEl, {childList: true});\n",
              "}}\n",
              "\n",
              "                        })                };                            </script>        </div>\n",
              "</body>\n",
              "</html>"
            ]
          },
          "metadata": {}
        }
      ]
    },
    {
      "cell_type": "markdown",
      "source": [
        "# Monthly data"
      ],
      "metadata": {
        "id": "EL1RnEGlWv-A"
      }
    },
    {
      "cell_type": "markdown",
      "source": [
        "## SelectKBest"
      ],
      "metadata": {
        "id": "tD_ns3HRMIrZ"
      }
    },
    {
      "cell_type": "code",
      "source": [
        "# 1. SelectKBest (optimized)\n",
        "results_kbest = []\n",
        "selector = SelectKBest(score_func=f_regression, k=n_features_to_select)\n",
        "X_new = selector.fit_transform(X_scaled, y)\n",
        "selected_features = X.columns[selector.get_support()].tolist()\n",
        "\n",
        "for est_name, estimator in tqdm(estimators.items()):\n",
        "\n",
        "  scores = cross_val_score(estimator, X_new, y, cv=5, scoring='r2')\n",
        "  print(f\"\\n{est_name}:\")\n",
        "  print(f\"Mean R-squared score: {scores.mean():.3f} (+/- {scores.std() * 2:.3f})\")\n",
        "  results_kbest.append({\n",
        "      'Method': 'SelectKBest',\n",
        "      'Estimator': est_name,\n",
        "      'Selected Features': ', '.join(selected_features),\n",
        "      'R2 Score': scores.mean(),\n",
        "      'R2 Std': scores.std()\n",
        "  })\n",
        "\n",
        "\n"
      ],
      "metadata": {
        "id": "33nRF4h1PAfT",
        "outputId": "617ddb38-0938-42ab-cb43-96462dc97b3e",
        "colab": {
          "base_uri": "https://localhost:8080/"
        }
      },
      "execution_count": null,
      "outputs": [
        {
          "output_type": "stream",
          "name": "stderr",
          "text": [
            " 17%|█▋        | 1/6 [00:41<03:29, 41.89s/it]"
          ]
        },
        {
          "output_type": "stream",
          "name": "stdout",
          "text": [
            "\n",
            "RandomForestRegressor:\n",
            "Mean R-squared score: 0.085 (+/- 1.518)\n"
          ]
        },
        {
          "output_type": "stream",
          "name": "stderr",
          "text": [
            "\r 33%|███▎      | 2/6 [00:42<01:09, 17.48s/it]"
          ]
        },
        {
          "output_type": "stream",
          "name": "stdout",
          "text": [
            "\n",
            "RidgeCV:\n",
            "Mean R-squared score: 0.469 (+/- 0.910)\n"
          ]
        },
        {
          "output_type": "stream",
          "name": "stderr",
          "text": [
            "\r 50%|█████     | 3/6 [00:42<00:29,  9.76s/it]"
          ]
        },
        {
          "output_type": "stream",
          "name": "stdout",
          "text": [
            "\n",
            "DecisionTreeRegressor:\n",
            "Mean R-squared score: 0.043 (+/- 1.589)\n"
          ]
        },
        {
          "output_type": "stream",
          "name": "stderr",
          "text": [
            "\r 67%|██████▋   | 4/6 [00:44<00:13,  6.57s/it]"
          ]
        },
        {
          "output_type": "stream",
          "name": "stdout",
          "text": [
            "\n",
            "KNeighborsRegressor:\n",
            "Mean R-squared score: 0.018 (+/- 1.549)\n"
          ]
        },
        {
          "output_type": "stream",
          "name": "stderr",
          "text": [
            "\r 83%|████████▎ | 5/6 [01:11<00:13, 13.85s/it]"
          ]
        },
        {
          "output_type": "stream",
          "name": "stdout",
          "text": [
            "\n",
            "GradientBoostingRegressor:\n",
            "Mean R-squared score: 0.387 (+/- 1.059)\n"
          ]
        },
        {
          "output_type": "stream",
          "name": "stderr",
          "text": [
            "/usr/local/lib/python3.10/dist-packages/sklearn/neural_network/_multilayer_perceptron.py:686: ConvergenceWarning: Stochastic Optimizer: Maximum iterations (200) reached and the optimization hasn't converged yet.\n",
            "  warnings.warn(\n",
            "/usr/local/lib/python3.10/dist-packages/sklearn/neural_network/_multilayer_perceptron.py:686: ConvergenceWarning: Stochastic Optimizer: Maximum iterations (200) reached and the optimization hasn't converged yet.\n",
            "  warnings.warn(\n",
            "/usr/local/lib/python3.10/dist-packages/sklearn/neural_network/_multilayer_perceptron.py:686: ConvergenceWarning: Stochastic Optimizer: Maximum iterations (200) reached and the optimization hasn't converged yet.\n",
            "  warnings.warn(\n",
            "/usr/local/lib/python3.10/dist-packages/sklearn/neural_network/_multilayer_perceptron.py:686: ConvergenceWarning: Stochastic Optimizer: Maximum iterations (200) reached and the optimization hasn't converged yet.\n",
            "  warnings.warn(\n",
            "/usr/local/lib/python3.10/dist-packages/sklearn/neural_network/_multilayer_perceptron.py:686: ConvergenceWarning: Stochastic Optimizer: Maximum iterations (200) reached and the optimization hasn't converged yet.\n",
            "  warnings.warn(\n",
            "100%|██████████| 6/6 [14:03<00:00, 140.60s/it]"
          ]
        },
        {
          "output_type": "stream",
          "name": "stdout",
          "text": [
            "\n",
            "MLPRegressor:\n",
            "Mean R-squared score: 0.406 (+/- 1.002)\n"
          ]
        },
        {
          "output_type": "stream",
          "name": "stderr",
          "text": [
            "\n"
          ]
        }
      ]
    },
    {
      "cell_type": "markdown",
      "source": [
        "## RFE"
      ],
      "metadata": {
        "id": "9iAi3TFLMUoF"
      }
    },
    {
      "cell_type": "code",
      "source": [
        "# 2. RFE (not suitable for KNN)\n",
        "results_rfe = []\n",
        "for est_name, estimator in tqdm(estimators.items()):\n",
        "    if est_name not in ['KNeighborsRegressor', 'MLPRegressor']:\n",
        "        selector = RFE(estimator, n_features_to_select=n_features_to_select, step=1)\n",
        "        X_new = selector.fit_transform(X_scaled, y)\n",
        "        selected_features = X.columns[selector.support_].tolist()\n",
        "\n",
        "        scores = cross_val_score(estimator, X_new, y, cv=5, scoring='r2')\n",
        "        print(f\"\\n{est_name}:\")\n",
        "        print(f\"Mean R-squared score: {scores.mean():.3f} (+/- {scores.std() * 2:.3f})\")\n",
        "        results_rfe.append({\n",
        "            'Method': 'RFE',\n",
        "            'Estimator': est_name,\n",
        "            'Selected Features': ', '.join(selected_features),\n",
        "            'R2 Score': scores.mean(),\n",
        "            'R2 Std': scores.std()\n",
        "        })\n"
      ],
      "metadata": {
        "id": "JzJkDr2YPi1y",
        "outputId": "01d52367-8fb7-4cec-fa77-7b6326dcf8ee",
        "colab": {
          "base_uri": "https://localhost:8080/"
        }
      },
      "execution_count": null,
      "outputs": [
        {
          "output_type": "stream",
          "name": "stderr",
          "text": [
            " 17%|█▋        | 1/6 [02:14<11:12, 134.46s/it]"
          ]
        },
        {
          "output_type": "stream",
          "name": "stdout",
          "text": [
            "\n",
            "RandomForestRegressor:\n",
            "Mean R-squared score: 0.392 (+/- 0.779)\n"
          ]
        },
        {
          "output_type": "stream",
          "name": "stderr",
          "text": [
            "\r 33%|███▎      | 2/6 [02:16<03:46, 56.59s/it] "
          ]
        },
        {
          "output_type": "stream",
          "name": "stdout",
          "text": [
            "\n",
            "RidgeCV:\n",
            "Mean R-squared score: -1.516 (+/- 7.927)\n"
          ]
        },
        {
          "output_type": "stream",
          "name": "stderr",
          "text": [
            "\r 50%|█████     | 3/6 [02:19<01:36, 32.12s/it]"
          ]
        },
        {
          "output_type": "stream",
          "name": "stdout",
          "text": [
            "\n",
            "DecisionTreeRegressor:\n",
            "Mean R-squared score: 0.357 (+/- 0.821)\n"
          ]
        },
        {
          "output_type": "stream",
          "name": "stderr",
          "text": [
            "100%|██████████| 6/6 [03:43<00:00, 37.20s/it]"
          ]
        },
        {
          "output_type": "stream",
          "name": "stdout",
          "text": [
            "\n",
            "GradientBoostingRegressor:\n",
            "Mean R-squared score: 0.523 (+/- 0.431)\n"
          ]
        },
        {
          "output_type": "stream",
          "name": "stderr",
          "text": [
            "\n"
          ]
        }
      ]
    },
    {
      "cell_type": "markdown",
      "source": [
        "##  SelectFromModel"
      ],
      "metadata": {
        "id": "zCPggUB3Reof"
      }
    },
    {
      "cell_type": "markdown",
      "source": [
        "### tree-based models"
      ],
      "metadata": {
        "id": "W5pHARCOQGIs"
      }
    },
    {
      "cell_type": "code",
      "source": [
        "\n",
        "# 3. Tree-based feature importance\n",
        "results_tree_based = []\n",
        "for est_name in ['DecisionTreeRegressor', 'GradientBoostingRegressor']:\n",
        "    estimator = estimators[est_name]\n",
        "    estimator.fit(X_scaled, y)\n",
        "    importances = estimator.feature_importances_\n",
        "    indices = np.argsort(importances)[-n_features_to_select:]\n",
        "    selected_features = X.columns[indices].tolist()\n",
        "\n",
        "    X_new = X_scaled[:, indices]\n",
        "    for eval_est_name, eval_estimator in estimators.items():\n",
        "        scores = cross_val_score(eval_estimator, X_new, y, cv=5, scoring='r2', n_jobs=-1)\n",
        "        print(f\"\\n{est_name}:\")\n",
        "        print(f\"\\n{eval_est_name}:\")\n",
        "        print(f\"Mean R-squared score: {scores.mean():.3f} (+/- {scores.std() * 2:.3f})\")\n",
        "        results_tree_based.append({\n",
        "            'Method': f'TreeBased-{est_name}',\n",
        "            'Estimator': eval_est_name,\n",
        "            'Selected Features': ', '.join(selected_features),\n",
        "            'R2 Score': scores.mean(),\n",
        "            'R2 Std': scores.std()\n",
        "        })\n"
      ],
      "metadata": {
        "id": "ayo8dpXXQG_B",
        "outputId": "4b561174-a297-40e6-b083-f85f44f9623f",
        "colab": {
          "base_uri": "https://localhost:8080/"
        }
      },
      "execution_count": null,
      "outputs": [
        {
          "output_type": "stream",
          "name": "stdout",
          "text": [
            "\n",
            "DecisionTreeRegressor:\n",
            "\n",
            "RandomForestRegressor:\n",
            "Mean R-squared score: 0.393 (+/- 0.792)\n",
            "\n",
            "DecisionTreeRegressor:\n",
            "\n",
            "RidgeCV:\n",
            "Mean R-squared score: -1.900 (+/- 9.084)\n",
            "\n",
            "DecisionTreeRegressor:\n",
            "\n",
            "DecisionTreeRegressor:\n",
            "Mean R-squared score: 0.300 (+/- 0.845)\n",
            "\n",
            "DecisionTreeRegressor:\n",
            "\n",
            "KNeighborsRegressor:\n",
            "Mean R-squared score: 0.244 (+/- 1.259)\n",
            "\n",
            "DecisionTreeRegressor:\n",
            "\n",
            "GradientBoostingRegressor:\n",
            "Mean R-squared score: 0.714 (+/- 0.122)\n",
            "\n",
            "DecisionTreeRegressor:\n",
            "\n",
            "MLPRegressor:\n",
            "Mean R-squared score: -2.438 (+/- 11.935)\n",
            "\n",
            "GradientBoostingRegressor:\n",
            "\n",
            "RandomForestRegressor:\n",
            "Mean R-squared score: 0.180 (+/- 1.085)\n",
            "\n",
            "GradientBoostingRegressor:\n",
            "\n",
            "RidgeCV:\n",
            "Mean R-squared score: 0.430 (+/- 0.954)\n",
            "\n",
            "GradientBoostingRegressor:\n",
            "\n",
            "DecisionTreeRegressor:\n",
            "Mean R-squared score: 0.077 (+/- 1.286)\n",
            "\n",
            "GradientBoostingRegressor:\n",
            "\n",
            "KNeighborsRegressor:\n",
            "Mean R-squared score: -0.003 (+/- 1.759)\n",
            "\n",
            "GradientBoostingRegressor:\n",
            "\n",
            "GradientBoostingRegressor:\n",
            "Mean R-squared score: 0.407 (+/- 1.108)\n",
            "\n",
            "GradientBoostingRegressor:\n",
            "\n",
            "MLPRegressor:\n",
            "Mean R-squared score: 0.337 (+/- 1.084)\n"
          ]
        }
      ]
    },
    {
      "cell_type": "markdown",
      "source": [
        "### Lasso regularization"
      ],
      "metadata": {
        "id": "UdWZCcFARHWY"
      }
    },
    {
      "cell_type": "code",
      "source": [
        "\n",
        "results_lasso = []\n",
        "# 4. Lasso regularization\n",
        "lasso_selector = LassoSelector(n_features_to_select=n_features_to_select)\n",
        "X_new = lasso_selector.fit_transform(X_scaled, y)\n",
        "selected_features = X.columns[lasso_selector.support_].tolist()\n",
        "\n",
        "for est_name, estimator in estimators.items():\n",
        "    scores = cross_val_score(estimator, X_new, y, cv=5, scoring='r2', n_jobs=-1)\n",
        "    print(f\"\\n{est_name}:\")\n",
        "    print(f\"Mean R-squared score: {scores.mean():.3f} (+/- {scores.std() * 2:.3f})\")\n",
        "    results_lasso.append({\n",
        "        'Method': 'Lasso',\n",
        "        'Estimator': est_name,\n",
        "        'Selected Features': ', '.join(selected_features),\n",
        "        'R2 Score': scores.mean(),\n",
        "        'R2 Std': scores.std()\n",
        "    })"
      ],
      "metadata": {
        "id": "p2LXfx-2RK1f",
        "outputId": "d865885c-7b57-4a64-beb0-6c7d5eaddbc9",
        "colab": {
          "base_uri": "https://localhost:8080/"
        }
      },
      "execution_count": null,
      "outputs": [
        {
          "output_type": "stream",
          "name": "stdout",
          "text": [
            "\n",
            "RandomForestRegressor:\n",
            "Mean R-squared score: 0.325 (+/- 0.948)\n",
            "\n",
            "RidgeCV:\n",
            "Mean R-squared score: -1.517 (+/- 7.645)\n",
            "\n",
            "DecisionTreeRegressor:\n",
            "Mean R-squared score: 0.285 (+/- 0.683)\n",
            "\n",
            "KNeighborsRegressor:\n",
            "Mean R-squared score: 0.348 (+/- 1.035)\n",
            "\n",
            "GradientBoostingRegressor:\n",
            "Mean R-squared score: 0.672 (+/- 0.238)\n",
            "\n",
            "MLPRegressor:\n",
            "Mean R-squared score: -5.996 (+/- 26.207)\n"
          ]
        }
      ]
    },
    {
      "cell_type": "markdown",
      "source": [
        "##  Sequential Feature Selection"
      ],
      "metadata": {
        "id": "YO33R3plYe9g"
      }
    },
    {
      "cell_type": "code",
      "source": [
        "results_sequential_forward = []\n",
        "# 5. Sequential Feature Selection (forward)\n",
        "for est_name, estimator in estimators.items():\n",
        "    selector = SequentialFeatureSelector(estimator, n_features_to_select=n_features_to_select, direction='forward', n_jobs=-1)\n",
        "    X_new = selector.fit_transform(X_scaled, y)\n",
        "    selected_features = X.columns[selector.get_support()].tolist()\n",
        "\n",
        "    scores = cross_val_score(estimator, X_new, y, cv=3, scoring='r2', n_jobs=-1)\n",
        "    print(f\"\\n{est_name}:\")\n",
        "    print(f\"Mean R-squared score: {scores.mean():.3f} (+/- {scores.std() * 2:.3f})\")\n",
        "    results_sequential_forward.append({\n",
        "        'Method': 'SequentialForward',\n",
        "        'Estimator': est_name,\n",
        "        'Direction' : 'forward',\n",
        "        'Selected Features': ', '.join(selected_features),\n",
        "        'R2 Score': scores.mean(),\n",
        "        'R2 Std': scores.std()\n",
        "    })"
      ],
      "metadata": {
        "id": "Nci2pdydYfZZ",
        "outputId": "d7edb136-1804-4d9a-86f0-cac62c5fd36f",
        "colab": {
          "base_uri": "https://localhost:8080/",
          "height": 356
        }
      },
      "execution_count": null,
      "outputs": [
        {
          "ename": "KeyboardInterrupt",
          "evalue": "",
          "output_type": "error",
          "traceback": [
            "\u001b[0;31m---------------------------------------------------------------------------\u001b[0m",
            "\u001b[0;31mKeyboardInterrupt\u001b[0m                         Traceback (most recent call last)",
            "\u001b[0;32m<ipython-input-8-e905517b6903>\u001b[0m in \u001b[0;36m<cell line: 3>\u001b[0;34m()\u001b[0m\n\u001b[1;32m      3\u001b[0m \u001b[0;32mfor\u001b[0m \u001b[0mest_name\u001b[0m\u001b[0;34m,\u001b[0m \u001b[0mestimator\u001b[0m \u001b[0;32min\u001b[0m \u001b[0mestimators\u001b[0m\u001b[0;34m.\u001b[0m\u001b[0mitems\u001b[0m\u001b[0;34m(\u001b[0m\u001b[0;34m)\u001b[0m\u001b[0;34m:\u001b[0m\u001b[0;34m\u001b[0m\u001b[0;34m\u001b[0m\u001b[0m\n\u001b[1;32m      4\u001b[0m     \u001b[0mselector\u001b[0m \u001b[0;34m=\u001b[0m \u001b[0mSequentialFeatureSelector\u001b[0m\u001b[0;34m(\u001b[0m\u001b[0mestimator\u001b[0m\u001b[0;34m,\u001b[0m \u001b[0mn_features_to_select\u001b[0m\u001b[0;34m=\u001b[0m\u001b[0mn_features_to_select\u001b[0m\u001b[0;34m,\u001b[0m \u001b[0mdirection\u001b[0m\u001b[0;34m=\u001b[0m\u001b[0;34m'forward'\u001b[0m\u001b[0;34m,\u001b[0m \u001b[0mn_jobs\u001b[0m\u001b[0;34m=\u001b[0m\u001b[0;34m-\u001b[0m\u001b[0;36m1\u001b[0m\u001b[0;34m)\u001b[0m\u001b[0;34m\u001b[0m\u001b[0;34m\u001b[0m\u001b[0m\n\u001b[0;32m----> 5\u001b[0;31m     \u001b[0mX_new\u001b[0m \u001b[0;34m=\u001b[0m \u001b[0mselector\u001b[0m\u001b[0;34m.\u001b[0m\u001b[0mfit_transform\u001b[0m\u001b[0;34m(\u001b[0m\u001b[0mX_scaled\u001b[0m\u001b[0;34m,\u001b[0m \u001b[0my\u001b[0m\u001b[0;34m)\u001b[0m\u001b[0;34m\u001b[0m\u001b[0;34m\u001b[0m\u001b[0m\n\u001b[0m\u001b[1;32m      6\u001b[0m     \u001b[0mselected_features\u001b[0m \u001b[0;34m=\u001b[0m \u001b[0mX\u001b[0m\u001b[0;34m.\u001b[0m\u001b[0mcolumns\u001b[0m\u001b[0;34m[\u001b[0m\u001b[0mselector\u001b[0m\u001b[0;34m.\u001b[0m\u001b[0mget_support\u001b[0m\u001b[0;34m(\u001b[0m\u001b[0;34m)\u001b[0m\u001b[0;34m]\u001b[0m\u001b[0;34m.\u001b[0m\u001b[0mtolist\u001b[0m\u001b[0;34m(\u001b[0m\u001b[0;34m)\u001b[0m\u001b[0;34m\u001b[0m\u001b[0;34m\u001b[0m\u001b[0m\n\u001b[1;32m      7\u001b[0m \u001b[0;34m\u001b[0m\u001b[0m\n",
            "\u001b[0;32m/usr/local/lib/python3.10/dist-packages/sklearn/utils/_set_output.py\u001b[0m in \u001b[0;36mwrapped\u001b[0;34m(self, X, *args, **kwargs)\u001b[0m\n\u001b[1;32m    138\u001b[0m     \u001b[0;34m@\u001b[0m\u001b[0mwraps\u001b[0m\u001b[0;34m(\u001b[0m\u001b[0mf\u001b[0m\u001b[0;34m)\u001b[0m\u001b[0;34m\u001b[0m\u001b[0;34m\u001b[0m\u001b[0m\n\u001b[1;32m    139\u001b[0m     \u001b[0;32mdef\u001b[0m \u001b[0mwrapped\u001b[0m\u001b[0;34m(\u001b[0m\u001b[0mself\u001b[0m\u001b[0;34m,\u001b[0m \u001b[0mX\u001b[0m\u001b[0;34m,\u001b[0m \u001b[0;34m*\u001b[0m\u001b[0margs\u001b[0m\u001b[0;34m,\u001b[0m \u001b[0;34m**\u001b[0m\u001b[0mkwargs\u001b[0m\u001b[0;34m)\u001b[0m\u001b[0;34m:\u001b[0m\u001b[0;34m\u001b[0m\u001b[0;34m\u001b[0m\u001b[0m\n\u001b[0;32m--> 140\u001b[0;31m         \u001b[0mdata_to_wrap\u001b[0m \u001b[0;34m=\u001b[0m \u001b[0mf\u001b[0m\u001b[0;34m(\u001b[0m\u001b[0mself\u001b[0m\u001b[0;34m,\u001b[0m \u001b[0mX\u001b[0m\u001b[0;34m,\u001b[0m \u001b[0;34m*\u001b[0m\u001b[0margs\u001b[0m\u001b[0;34m,\u001b[0m \u001b[0;34m**\u001b[0m\u001b[0mkwargs\u001b[0m\u001b[0;34m)\u001b[0m\u001b[0;34m\u001b[0m\u001b[0;34m\u001b[0m\u001b[0m\n\u001b[0m\u001b[1;32m    141\u001b[0m         \u001b[0;32mif\u001b[0m \u001b[0misinstance\u001b[0m\u001b[0;34m(\u001b[0m\u001b[0mdata_to_wrap\u001b[0m\u001b[0;34m,\u001b[0m \u001b[0mtuple\u001b[0m\u001b[0;34m)\u001b[0m\u001b[0;34m:\u001b[0m\u001b[0;34m\u001b[0m\u001b[0;34m\u001b[0m\u001b[0m\n\u001b[1;32m    142\u001b[0m             \u001b[0;31m# only wrap the first output for cross decomposition\u001b[0m\u001b[0;34m\u001b[0m\u001b[0;34m\u001b[0m\u001b[0m\n",
            "\u001b[0;32m/usr/local/lib/python3.10/dist-packages/sklearn/base.py\u001b[0m in \u001b[0;36mfit_transform\u001b[0;34m(self, X, y, **fit_params)\u001b[0m\n\u001b[1;32m    879\u001b[0m         \u001b[0;32melse\u001b[0m\u001b[0;34m:\u001b[0m\u001b[0;34m\u001b[0m\u001b[0;34m\u001b[0m\u001b[0m\n\u001b[1;32m    880\u001b[0m             \u001b[0;31m# fit method of arity 2 (supervised transformation)\u001b[0m\u001b[0;34m\u001b[0m\u001b[0;34m\u001b[0m\u001b[0m\n\u001b[0;32m--> 881\u001b[0;31m             \u001b[0;32mreturn\u001b[0m \u001b[0mself\u001b[0m\u001b[0;34m.\u001b[0m\u001b[0mfit\u001b[0m\u001b[0;34m(\u001b[0m\u001b[0mX\u001b[0m\u001b[0;34m,\u001b[0m \u001b[0my\u001b[0m\u001b[0;34m,\u001b[0m \u001b[0;34m**\u001b[0m\u001b[0mfit_params\u001b[0m\u001b[0;34m)\u001b[0m\u001b[0;34m.\u001b[0m\u001b[0mtransform\u001b[0m\u001b[0;34m(\u001b[0m\u001b[0mX\u001b[0m\u001b[0;34m)\u001b[0m\u001b[0;34m\u001b[0m\u001b[0;34m\u001b[0m\u001b[0m\n\u001b[0m\u001b[1;32m    882\u001b[0m \u001b[0;34m\u001b[0m\u001b[0m\n\u001b[1;32m    883\u001b[0m \u001b[0;34m\u001b[0m\u001b[0m\n",
            "\u001b[0;32m/usr/local/lib/python3.10/dist-packages/sklearn/feature_selection/_sequential.py\u001b[0m in \u001b[0;36mfit\u001b[0;34m(self, X, y)\u001b[0m\n\u001b[1;32m    274\u001b[0m         \u001b[0mis_auto_select\u001b[0m \u001b[0;34m=\u001b[0m \u001b[0mself\u001b[0m\u001b[0;34m.\u001b[0m\u001b[0mtol\u001b[0m \u001b[0;32mis\u001b[0m \u001b[0;32mnot\u001b[0m \u001b[0;32mNone\u001b[0m \u001b[0;32mand\u001b[0m \u001b[0mself\u001b[0m\u001b[0;34m.\u001b[0m\u001b[0mn_features_to_select\u001b[0m \u001b[0;34m==\u001b[0m \u001b[0;34m\"auto\"\u001b[0m\u001b[0;34m\u001b[0m\u001b[0;34m\u001b[0m\u001b[0m\n\u001b[1;32m    275\u001b[0m         \u001b[0;32mfor\u001b[0m \u001b[0m_\u001b[0m \u001b[0;32min\u001b[0m \u001b[0mrange\u001b[0m\u001b[0;34m(\u001b[0m\u001b[0mn_iterations\u001b[0m\u001b[0;34m)\u001b[0m\u001b[0;34m:\u001b[0m\u001b[0;34m\u001b[0m\u001b[0;34m\u001b[0m\u001b[0m\n\u001b[0;32m--> 276\u001b[0;31m             new_feature_idx, new_score = self._get_best_new_feature_score(\n\u001b[0m\u001b[1;32m    277\u001b[0m                 \u001b[0mcloned_estimator\u001b[0m\u001b[0;34m,\u001b[0m \u001b[0mX\u001b[0m\u001b[0;34m,\u001b[0m \u001b[0my\u001b[0m\u001b[0;34m,\u001b[0m \u001b[0mcurrent_mask\u001b[0m\u001b[0;34m\u001b[0m\u001b[0;34m\u001b[0m\u001b[0m\n\u001b[1;32m    278\u001b[0m             )\n",
            "\u001b[0;32m/usr/local/lib/python3.10/dist-packages/sklearn/feature_selection/_sequential.py\u001b[0m in \u001b[0;36m_get_best_new_feature_score\u001b[0;34m(self, estimator, X, y, current_mask)\u001b[0m\n\u001b[1;32m    305\u001b[0m                 \u001b[0mcandidate_mask\u001b[0m \u001b[0;34m=\u001b[0m \u001b[0;34m~\u001b[0m\u001b[0mcandidate_mask\u001b[0m\u001b[0;34m\u001b[0m\u001b[0;34m\u001b[0m\u001b[0m\n\u001b[1;32m    306\u001b[0m             \u001b[0mX_new\u001b[0m \u001b[0;34m=\u001b[0m \u001b[0mX\u001b[0m\u001b[0;34m[\u001b[0m\u001b[0;34m:\u001b[0m\u001b[0;34m,\u001b[0m \u001b[0mcandidate_mask\u001b[0m\u001b[0;34m]\u001b[0m\u001b[0;34m\u001b[0m\u001b[0;34m\u001b[0m\u001b[0m\n\u001b[0;32m--> 307\u001b[0;31m             scores[feature_idx] = cross_val_score(\n\u001b[0m\u001b[1;32m    308\u001b[0m                 \u001b[0mestimator\u001b[0m\u001b[0;34m,\u001b[0m\u001b[0;34m\u001b[0m\u001b[0;34m\u001b[0m\u001b[0m\n\u001b[1;32m    309\u001b[0m                 \u001b[0mX_new\u001b[0m\u001b[0;34m,\u001b[0m\u001b[0;34m\u001b[0m\u001b[0;34m\u001b[0m\u001b[0m\n",
            "\u001b[0;32m/usr/local/lib/python3.10/dist-packages/sklearn/model_selection/_validation.py\u001b[0m in \u001b[0;36mcross_val_score\u001b[0;34m(estimator, X, y, groups, scoring, cv, n_jobs, verbose, fit_params, pre_dispatch, error_score)\u001b[0m\n\u001b[1;32m    513\u001b[0m     \u001b[0mscorer\u001b[0m \u001b[0;34m=\u001b[0m \u001b[0mcheck_scoring\u001b[0m\u001b[0;34m(\u001b[0m\u001b[0mestimator\u001b[0m\u001b[0;34m,\u001b[0m \u001b[0mscoring\u001b[0m\u001b[0;34m=\u001b[0m\u001b[0mscoring\u001b[0m\u001b[0;34m)\u001b[0m\u001b[0;34m\u001b[0m\u001b[0;34m\u001b[0m\u001b[0m\n\u001b[1;32m    514\u001b[0m \u001b[0;34m\u001b[0m\u001b[0m\n\u001b[0;32m--> 515\u001b[0;31m     cv_results = cross_validate(\n\u001b[0m\u001b[1;32m    516\u001b[0m         \u001b[0mestimator\u001b[0m\u001b[0;34m=\u001b[0m\u001b[0mestimator\u001b[0m\u001b[0;34m,\u001b[0m\u001b[0;34m\u001b[0m\u001b[0;34m\u001b[0m\u001b[0m\n\u001b[1;32m    517\u001b[0m         \u001b[0mX\u001b[0m\u001b[0;34m=\u001b[0m\u001b[0mX\u001b[0m\u001b[0;34m,\u001b[0m\u001b[0;34m\u001b[0m\u001b[0;34m\u001b[0m\u001b[0m\n",
            "\u001b[0;32m/usr/local/lib/python3.10/dist-packages/sklearn/model_selection/_validation.py\u001b[0m in \u001b[0;36mcross_validate\u001b[0;34m(estimator, X, y, groups, scoring, cv, n_jobs, verbose, fit_params, pre_dispatch, return_train_score, return_estimator, error_score)\u001b[0m\n\u001b[1;32m    264\u001b[0m     \u001b[0;31m# independent, and that it is pickle-able.\u001b[0m\u001b[0;34m\u001b[0m\u001b[0;34m\u001b[0m\u001b[0m\n\u001b[1;32m    265\u001b[0m     \u001b[0mparallel\u001b[0m \u001b[0;34m=\u001b[0m \u001b[0mParallel\u001b[0m\u001b[0;34m(\u001b[0m\u001b[0mn_jobs\u001b[0m\u001b[0;34m=\u001b[0m\u001b[0mn_jobs\u001b[0m\u001b[0;34m,\u001b[0m \u001b[0mverbose\u001b[0m\u001b[0;34m=\u001b[0m\u001b[0mverbose\u001b[0m\u001b[0;34m,\u001b[0m \u001b[0mpre_dispatch\u001b[0m\u001b[0;34m=\u001b[0m\u001b[0mpre_dispatch\u001b[0m\u001b[0;34m)\u001b[0m\u001b[0;34m\u001b[0m\u001b[0;34m\u001b[0m\u001b[0m\n\u001b[0;32m--> 266\u001b[0;31m     results = parallel(\n\u001b[0m\u001b[1;32m    267\u001b[0m         delayed(_fit_and_score)(\n\u001b[1;32m    268\u001b[0m             \u001b[0mclone\u001b[0m\u001b[0;34m(\u001b[0m\u001b[0mestimator\u001b[0m\u001b[0;34m)\u001b[0m\u001b[0;34m,\u001b[0m\u001b[0;34m\u001b[0m\u001b[0;34m\u001b[0m\u001b[0m\n",
            "\u001b[0;32m/usr/local/lib/python3.10/dist-packages/sklearn/utils/parallel.py\u001b[0m in \u001b[0;36m__call__\u001b[0;34m(self, iterable)\u001b[0m\n\u001b[1;32m     61\u001b[0m             \u001b[0;32mfor\u001b[0m \u001b[0mdelayed_func\u001b[0m\u001b[0;34m,\u001b[0m \u001b[0margs\u001b[0m\u001b[0;34m,\u001b[0m \u001b[0mkwargs\u001b[0m \u001b[0;32min\u001b[0m \u001b[0miterable\u001b[0m\u001b[0;34m\u001b[0m\u001b[0;34m\u001b[0m\u001b[0m\n\u001b[1;32m     62\u001b[0m         )\n\u001b[0;32m---> 63\u001b[0;31m         \u001b[0;32mreturn\u001b[0m \u001b[0msuper\u001b[0m\u001b[0;34m(\u001b[0m\u001b[0;34m)\u001b[0m\u001b[0;34m.\u001b[0m\u001b[0m__call__\u001b[0m\u001b[0;34m(\u001b[0m\u001b[0miterable_with_config\u001b[0m\u001b[0;34m)\u001b[0m\u001b[0;34m\u001b[0m\u001b[0;34m\u001b[0m\u001b[0m\n\u001b[0m\u001b[1;32m     64\u001b[0m \u001b[0;34m\u001b[0m\u001b[0m\n\u001b[1;32m     65\u001b[0m \u001b[0;34m\u001b[0m\u001b[0m\n",
            "\u001b[0;32m/usr/local/lib/python3.10/dist-packages/joblib/parallel.py\u001b[0m in \u001b[0;36m__call__\u001b[0;34m(self, iterable)\u001b[0m\n\u001b[1;32m   2005\u001b[0m         \u001b[0mnext\u001b[0m\u001b[0;34m(\u001b[0m\u001b[0moutput\u001b[0m\u001b[0;34m)\u001b[0m\u001b[0;34m\u001b[0m\u001b[0;34m\u001b[0m\u001b[0m\n\u001b[1;32m   2006\u001b[0m \u001b[0;34m\u001b[0m\u001b[0m\n\u001b[0;32m-> 2007\u001b[0;31m         \u001b[0;32mreturn\u001b[0m \u001b[0moutput\u001b[0m \u001b[0;32mif\u001b[0m \u001b[0mself\u001b[0m\u001b[0;34m.\u001b[0m\u001b[0mreturn_generator\u001b[0m \u001b[0;32melse\u001b[0m \u001b[0mlist\u001b[0m\u001b[0;34m(\u001b[0m\u001b[0moutput\u001b[0m\u001b[0;34m)\u001b[0m\u001b[0;34m\u001b[0m\u001b[0;34m\u001b[0m\u001b[0m\n\u001b[0m\u001b[1;32m   2008\u001b[0m \u001b[0;34m\u001b[0m\u001b[0m\n\u001b[1;32m   2009\u001b[0m     \u001b[0;32mdef\u001b[0m \u001b[0m__repr__\u001b[0m\u001b[0;34m(\u001b[0m\u001b[0mself\u001b[0m\u001b[0;34m)\u001b[0m\u001b[0;34m:\u001b[0m\u001b[0;34m\u001b[0m\u001b[0;34m\u001b[0m\u001b[0m\n",
            "\u001b[0;32m/usr/local/lib/python3.10/dist-packages/joblib/parallel.py\u001b[0m in \u001b[0;36m_get_outputs\u001b[0;34m(self, iterator, pre_dispatch)\u001b[0m\n\u001b[1;32m   1648\u001b[0m \u001b[0;34m\u001b[0m\u001b[0m\n\u001b[1;32m   1649\u001b[0m             \u001b[0;32mwith\u001b[0m \u001b[0mself\u001b[0m\u001b[0;34m.\u001b[0m\u001b[0m_backend\u001b[0m\u001b[0;34m.\u001b[0m\u001b[0mretrieval_context\u001b[0m\u001b[0;34m(\u001b[0m\u001b[0;34m)\u001b[0m\u001b[0;34m:\u001b[0m\u001b[0;34m\u001b[0m\u001b[0;34m\u001b[0m\u001b[0m\n\u001b[0;32m-> 1650\u001b[0;31m                 \u001b[0;32myield\u001b[0m \u001b[0;32mfrom\u001b[0m \u001b[0mself\u001b[0m\u001b[0;34m.\u001b[0m\u001b[0m_retrieve\u001b[0m\u001b[0;34m(\u001b[0m\u001b[0;34m)\u001b[0m\u001b[0;34m\u001b[0m\u001b[0;34m\u001b[0m\u001b[0m\n\u001b[0m\u001b[1;32m   1651\u001b[0m \u001b[0;34m\u001b[0m\u001b[0m\n\u001b[1;32m   1652\u001b[0m         \u001b[0;32mexcept\u001b[0m \u001b[0mGeneratorExit\u001b[0m\u001b[0;34m:\u001b[0m\u001b[0;34m\u001b[0m\u001b[0;34m\u001b[0m\u001b[0m\n",
            "\u001b[0;32m/usr/local/lib/python3.10/dist-packages/joblib/parallel.py\u001b[0m in \u001b[0;36m_retrieve\u001b[0;34m(self)\u001b[0m\n\u001b[1;32m   1760\u001b[0m                 (self._jobs[0].get_status(\n\u001b[1;32m   1761\u001b[0m                     timeout=self.timeout) == TASK_PENDING)):\n\u001b[0;32m-> 1762\u001b[0;31m                 \u001b[0mtime\u001b[0m\u001b[0;34m.\u001b[0m\u001b[0msleep\u001b[0m\u001b[0;34m(\u001b[0m\u001b[0;36m0.01\u001b[0m\u001b[0;34m)\u001b[0m\u001b[0;34m\u001b[0m\u001b[0;34m\u001b[0m\u001b[0m\n\u001b[0m\u001b[1;32m   1763\u001b[0m                 \u001b[0;32mcontinue\u001b[0m\u001b[0;34m\u001b[0m\u001b[0;34m\u001b[0m\u001b[0m\n\u001b[1;32m   1764\u001b[0m \u001b[0;34m\u001b[0m\u001b[0m\n",
            "\u001b[0;31mKeyboardInterrupt\u001b[0m: "
          ]
        }
      ]
    },
    {
      "cell_type": "code",
      "source": [
        "results_kbest_df = pd.DataFrame(results_kbest)\n",
        "results_kbest_df.to_csv(\"/content/drive/MyDrive/EC_Tower/result/feature_selection_kbest_results.csv\", index=False)\n",
        "\n",
        "\n",
        "results_rfe_df = pd.DataFrame(results_rfe)\n",
        "results_rfe_df.to_csv(\"/content/drive/MyDrive/EC_Tower/result/feature_selection_rfe_results.csv\", index=False)\n",
        "\n",
        "\n",
        "results_tree_based_df = pd.DataFrame(results_tree_based)\n",
        "results_tree_based_df.to_csv(\"/content/drive/MyDrive/EC_Tower/result/feature_selection_tree_based_results.csv\", index=False)\n",
        "\n",
        "\n",
        "results_lasso_df = pd.DataFrame(results_lasso)\n",
        "results_lasso_df.to_csv(\"/content/drive/MyDrive/EC_Tower/result/feature_selection_lasso_results.csv\", index=False)"
      ],
      "metadata": {
        "id": "QVMuCQXc9OKi"
      },
      "execution_count": null,
      "outputs": []
    },
    {
      "cell_type": "markdown",
      "source": [
        "# yearly data"
      ],
      "metadata": {
        "id": "SjUtpBdcbtYN"
      }
    },
    {
      "cell_type": "code",
      "source": [
        "# Factorize the column\n",
        "yearly_data['category_encoded_Site_ID'], _ = pd.factorize(yearly_data['Site_ID'])\n",
        "yearly_data['category_encoded_General_classification'], _ = pd.factorize(yearly_data['General_classification'])\n",
        "yearly_data['category_encoded_Land_cover_details'], _ = pd.factorize(yearly_data['Land_cover_details'])\n",
        "yearly_data['category_encoded_Land_cover_type'], _ = pd.factorize(yearly_data['Land_cover_type'])"
      ],
      "metadata": {
        "id": "nc4hTOejQdiL"
      },
      "execution_count": null,
      "outputs": []
    },
    {
      "cell_type": "code",
      "source": [
        "# Assuming 'df' is your dataframe and 'target' is your target column\n",
        "X = yearly_data.drop(['ET_fill', 'Site_ID', 'General_classification', 'Land_cover_details', 'Land_cover_type'], axis =1)\n",
        "y = yearly_data['ET_fill']\n",
        "\n",
        "# Standardize features\n",
        "scaler = StandardScaler()\n",
        "X_scaled = scaler.fit_transform(X)\n",
        "\n",
        "# Define estimators\n",
        "estimators = {\n",
        "    'RandomForestRegressor': RandomForestRegressor(),\n",
        "    'RidgeCV': RidgeCV(),\n",
        "    'DecisionTreeRegressor': DecisionTreeRegressor(),\n",
        "    'KNeighborsRegressor': KNeighborsRegressor(),\n",
        "    'GradientBoostingRegressor': GradientBoostingRegressor(),\n",
        "    'MLPRegressor': MLPRegressor()\n",
        "}\n",
        "\n",
        "# Number of features to select\n",
        "n_features_to_select = 4"
      ],
      "metadata": {
        "id": "7uNToqTFQoT2"
      },
      "execution_count": null,
      "outputs": []
    },
    {
      "cell_type": "markdown",
      "source": [
        "## SelectKBest"
      ],
      "metadata": {
        "id": "bdw5ahdScFjx"
      }
    },
    {
      "cell_type": "code",
      "source": [
        "# 1. SelectKBest (optimized)\n",
        "results_kbest_y = []\n",
        "selector = SelectKBest(score_func=f_regression, k=n_features_to_select)\n",
        "X_new = selector.fit_transform(X_scaled, y)\n",
        "selected_features = X.columns[selector.get_support()].tolist()\n",
        "\n",
        "for est_name, estimator in tqdm(estimators.items()):\n",
        "\n",
        "  scores = cross_val_score(estimator, X_new, y, cv=5, scoring='r2')\n",
        "  print(f\"\\n{est_name}:\")\n",
        "  print(f\"Mean R-squared score: {scores.mean():.3f} (+/- {scores.std() * 2:.3f})\")\n",
        "  results_kbest_y.append({\n",
        "      'Method': 'SelectKBest',\n",
        "      'Estimator': est_name,\n",
        "      'Selected Features': ', '.join(selected_features),\n",
        "      'R2 Score': scores.mean(),\n",
        "      'R2 Std': scores.std()\n",
        "  })\n"
      ],
      "metadata": {
        "colab": {
          "base_uri": "https://localhost:8080/"
        },
        "id": "uMzbNemKbxlM",
        "outputId": "f23574d9-ec97-4597-924c-794bda01a01b"
      },
      "execution_count": null,
      "outputs": [
        {
          "output_type": "stream",
          "name": "stderr",
          "text": [
            " 17%|█▋        | 1/6 [00:02<00:14,  2.89s/it]"
          ]
        },
        {
          "output_type": "stream",
          "name": "stdout",
          "text": [
            "\n",
            "RandomForestRegressor:\n",
            "Mean R-squared score: -1.277 (+/- 4.718)\n",
            "\n",
            "RidgeCV:\n",
            "Mean R-squared score: -0.311 (+/- 3.145)\n"
          ]
        },
        {
          "output_type": "stream",
          "name": "stderr",
          "text": [
            " 67%|██████▋   | 4/6 [00:03<00:01,  1.65it/s]"
          ]
        },
        {
          "output_type": "stream",
          "name": "stdout",
          "text": [
            "\n",
            "DecisionTreeRegressor:\n",
            "Mean R-squared score: -1.529 (+/- 3.609)\n",
            "\n",
            "KNeighborsRegressor:\n",
            "Mean R-squared score: -1.487 (+/- 5.828)\n"
          ]
        },
        {
          "output_type": "stream",
          "name": "stderr",
          "text": [
            "\r 83%|████████▎ | 5/6 [00:05<00:01,  1.16s/it]"
          ]
        },
        {
          "output_type": "stream",
          "name": "stdout",
          "text": [
            "\n",
            "GradientBoostingRegressor:\n",
            "Mean R-squared score: -1.096 (+/- 5.076)\n"
          ]
        },
        {
          "output_type": "stream",
          "name": "stderr",
          "text": [
            "/usr/local/lib/python3.10/dist-packages/sklearn/neural_network/_multilayer_perceptron.py:686: ConvergenceWarning: Stochastic Optimizer: Maximum iterations (200) reached and the optimization hasn't converged yet.\n",
            "  warnings.warn(\n",
            "/usr/local/lib/python3.10/dist-packages/sklearn/neural_network/_multilayer_perceptron.py:686: ConvergenceWarning: Stochastic Optimizer: Maximum iterations (200) reached and the optimization hasn't converged yet.\n",
            "  warnings.warn(\n",
            "/usr/local/lib/python3.10/dist-packages/sklearn/neural_network/_multilayer_perceptron.py:686: ConvergenceWarning: Stochastic Optimizer: Maximum iterations (200) reached and the optimization hasn't converged yet.\n",
            "  warnings.warn(\n",
            "/usr/local/lib/python3.10/dist-packages/sklearn/neural_network/_multilayer_perceptron.py:686: ConvergenceWarning: Stochastic Optimizer: Maximum iterations (200) reached and the optimization hasn't converged yet.\n",
            "  warnings.warn(\n",
            "/usr/local/lib/python3.10/dist-packages/sklearn/neural_network/_multilayer_perceptron.py:686: ConvergenceWarning: Stochastic Optimizer: Maximum iterations (200) reached and the optimization hasn't converged yet.\n",
            "  warnings.warn(\n",
            "100%|██████████| 6/6 [01:27<00:00, 14.61s/it]"
          ]
        },
        {
          "output_type": "stream",
          "name": "stdout",
          "text": [
            "\n",
            "MLPRegressor:\n",
            "Mean R-squared score: -0.226 (+/- 3.164)\n"
          ]
        },
        {
          "output_type": "stream",
          "name": "stderr",
          "text": [
            "\n"
          ]
        }
      ]
    },
    {
      "cell_type": "code",
      "source": [
        "results_kbest_y_df = pd.DataFrame(results_kbest_y)\n",
        "results_kbest_y_df.to_csv(\"/content/drive/MyDrive/EC_Tower/result/feature_selection_kbest_yearly_results.csv\", index=False)"
      ],
      "metadata": {
        "id": "dYjvkrM3Roqo"
      },
      "execution_count": null,
      "outputs": []
    },
    {
      "cell_type": "markdown",
      "source": [
        "## RFE"
      ],
      "metadata": {
        "id": "A42GM4_lcGkA"
      }
    },
    {
      "cell_type": "code",
      "source": [
        "# 2. RFE (not suitable for KNN)\n",
        "results_rfe_y = []\n",
        "for est_name, estimator in tqdm(estimators.items()):\n",
        "    if est_name not in ['KNeighborsRegressor', 'MLPRegressor']:\n",
        "        selector = RFE(estimator, n_features_to_select=n_features_to_select, step=1)\n",
        "        X_new = selector.fit_transform(X_scaled, y)\n",
        "        selected_features = X.columns[selector.support_].tolist()\n",
        "\n",
        "        scores = cross_val_score(estimator, X_new, y, cv=5, scoring='r2')\n",
        "        print(f\"\\n{est_name}:\")\n",
        "        print(f\"Mean R-squared score: {scores.mean():.3f} (+/- {scores.std() * 2:.3f})\")\n",
        "        results_rfe_y.append({\n",
        "            'Method': 'RFE',\n",
        "            'Estimator': est_name,\n",
        "            'Selected Features': ', '.join(selected_features),\n",
        "            'R2 Score': scores.mean(),\n",
        "            'R2 Std': scores.std()\n",
        "        })"
      ],
      "metadata": {
        "colab": {
          "base_uri": "https://localhost:8080/"
        },
        "id": "49NBZFKCcJsy",
        "outputId": "71e05156-5016-44ee-e269-50842db6bfed"
      },
      "execution_count": null,
      "outputs": [
        {
          "output_type": "stream",
          "name": "stderr",
          "text": [
            " 17%|█▋        | 1/6 [00:28<02:24, 28.88s/it]"
          ]
        },
        {
          "output_type": "stream",
          "name": "stdout",
          "text": [
            "\n",
            "RandomForestRegressor:\n",
            "Mean R-squared score: -0.539 (+/- 4.188)\n"
          ]
        },
        {
          "output_type": "stream",
          "name": "stderr",
          "text": [
            " 50%|█████     | 3/6 [00:29<00:19,  6.63s/it]"
          ]
        },
        {
          "output_type": "stream",
          "name": "stdout",
          "text": [
            "\n",
            "RidgeCV:\n",
            "Mean R-squared score: -6.777 (+/- 26.093)\n",
            "\n",
            "DecisionTreeRegressor:\n",
            "Mean R-squared score: -0.659 (+/- 3.641)\n"
          ]
        },
        {
          "output_type": "stream",
          "name": "stderr",
          "text": [
            "100%|██████████| 6/6 [00:37<00:00,  6.18s/it]"
          ]
        },
        {
          "output_type": "stream",
          "name": "stdout",
          "text": [
            "\n",
            "GradientBoostingRegressor:\n",
            "Mean R-squared score: -0.352 (+/- 3.825)\n"
          ]
        },
        {
          "output_type": "stream",
          "name": "stderr",
          "text": [
            "\n"
          ]
        }
      ]
    },
    {
      "cell_type": "code",
      "source": [
        "results_rfe_y_df = pd.DataFrame(results_rfe_y)\n",
        "results_rfe_y_df.to_csv(\"/content/drive/MyDrive/EC_Tower/result/feature_selection_rfe_yearly_results.csv\", index=False)"
      ],
      "metadata": {
        "id": "QaxrUTVOSXp9"
      },
      "execution_count": null,
      "outputs": []
    },
    {
      "cell_type": "markdown",
      "source": [
        "##  SelectFromModel"
      ],
      "metadata": {
        "id": "mvSA7ZF4cZwE"
      }
    },
    {
      "cell_type": "markdown",
      "source": [
        "### tree-based models"
      ],
      "metadata": {
        "id": "6v4ZI0D6cdHB"
      }
    },
    {
      "cell_type": "code",
      "source": [
        "# 3. Tree-based feature importance\n",
        "results_tree_based_y = []\n",
        "for est_name in ['DecisionTreeRegressor', 'GradientBoostingRegressor']:\n",
        "    estimator = estimators[est_name]\n",
        "    estimator.fit(X_scaled, y)\n",
        "    importances = estimator.feature_importances_\n",
        "    indices = np.argsort(importances)[-n_features_to_select:]\n",
        "    selected_features = X.columns[indices].tolist()\n",
        "\n",
        "    X_new = X_scaled[:, indices]\n",
        "    for eval_est_name, eval_estimator in estimators.items():\n",
        "        scores = cross_val_score(eval_estimator, X_new, y, cv=5, scoring='r2', n_jobs=-1)\n",
        "        print(f\"\\n{est_name}:\")\n",
        "        print(f\"\\n{eval_est_name}:\")\n",
        "        print(f\"Mean R-squared score: {scores.mean():.3f} (+/- {scores.std() * 2:.3f})\")\n",
        "        results_tree_based_y.append({\n",
        "            'Method': f'TreeBased-{est_name}',\n",
        "            'Estimator': eval_est_name,\n",
        "            'Selected Features': ', '.join(selected_features),\n",
        "            'R2 Score': scores.mean(),\n",
        "            'R2 Std': scores.std()\n",
        "        })\n"
      ],
      "metadata": {
        "colab": {
          "base_uri": "https://localhost:8080/"
        },
        "id": "Ka1DxFZ4cdd4",
        "outputId": "334c5b15-2317-4310-ad64-410c79786c38"
      },
      "execution_count": null,
      "outputs": [
        {
          "output_type": "stream",
          "name": "stdout",
          "text": [
            "\n",
            "DecisionTreeRegressor:\n",
            "\n",
            "RandomForestRegressor:\n",
            "Mean R-squared score: -0.531 (+/- 4.162)\n",
            "\n",
            "DecisionTreeRegressor:\n",
            "\n",
            "RidgeCV:\n",
            "Mean R-squared score: -6.777 (+/- 26.093)\n",
            "\n",
            "DecisionTreeRegressor:\n",
            "\n",
            "DecisionTreeRegressor:\n",
            "Mean R-squared score: -0.678 (+/- 4.735)\n",
            "\n",
            "DecisionTreeRegressor:\n",
            "\n",
            "KNeighborsRegressor:\n",
            "Mean R-squared score: -0.470 (+/- 3.235)\n",
            "\n",
            "DecisionTreeRegressor:\n",
            "\n",
            "GradientBoostingRegressor:\n",
            "Mean R-squared score: -0.348 (+/- 3.857)\n",
            "\n",
            "DecisionTreeRegressor:\n",
            "\n",
            "MLPRegressor:\n",
            "Mean R-squared score: -4.636 (+/- 15.806)\n",
            "\n",
            "GradientBoostingRegressor:\n",
            "\n",
            "RandomForestRegressor:\n",
            "Mean R-squared score: -0.530 (+/- 4.150)\n",
            "\n",
            "GradientBoostingRegressor:\n",
            "\n",
            "RidgeCV:\n",
            "Mean R-squared score: -6.777 (+/- 26.093)\n",
            "\n",
            "GradientBoostingRegressor:\n",
            "\n",
            "DecisionTreeRegressor:\n",
            "Mean R-squared score: -0.484 (+/- 3.885)\n",
            "\n",
            "GradientBoostingRegressor:\n",
            "\n",
            "KNeighborsRegressor:\n",
            "Mean R-squared score: -0.470 (+/- 3.235)\n",
            "\n",
            "GradientBoostingRegressor:\n",
            "\n",
            "GradientBoostingRegressor:\n",
            "Mean R-squared score: -0.391 (+/- 3.908)\n",
            "\n",
            "GradientBoostingRegressor:\n",
            "\n",
            "MLPRegressor:\n",
            "Mean R-squared score: -4.901 (+/- 17.656)\n"
          ]
        }
      ]
    },
    {
      "cell_type": "code",
      "source": [
        "results_tree_based_y_df = pd.DataFrame(results_tree_based_y)\n",
        "results_tree_based_y_df.to_csv(\"/content/drive/MyDrive/EC_Tower/result/feature_selection_tree_based_yearly_results.csv\", index=False)"
      ],
      "metadata": {
        "id": "WBPkjKAXTJY5"
      },
      "execution_count": null,
      "outputs": []
    },
    {
      "cell_type": "markdown",
      "source": [
        "### Lasso regularization"
      ],
      "metadata": {
        "id": "S7p8FpujckHa"
      }
    },
    {
      "cell_type": "code",
      "source": [
        "\n",
        "\n",
        "results_lasso_y = []\n",
        "# 4. Lasso regularization\n",
        "lasso_selector = LassoSelector(n_features_to_select=n_features_to_select)\n",
        "X_new = lasso_selector.fit_transform(X_scaled, y)\n",
        "selected_features = X.columns[lasso_selector.support_].tolist()\n",
        "\n",
        "for est_name, estimator in estimators.items():\n",
        "    scores = cross_val_score(estimator, X_new, y, cv=5, scoring='r2', n_jobs=-1)\n",
        "    print(f\"\\n{est_name}:\")\n",
        "    print(f\"Mean R-squared score: {scores.mean():.3f} (+/- {scores.std() * 2:.3f})\")\n",
        "    results_lasso_y.append({\n",
        "        'Method': 'Lasso',\n",
        "        'Estimator': est_name,\n",
        "        'Selected Features': ', '.join(selected_features),\n",
        "        'R2 Score': scores.mean(),\n",
        "        'R2 Std': scores.std()\n",
        "    })"
      ],
      "metadata": {
        "colab": {
          "base_uri": "https://localhost:8080/"
        },
        "id": "ShqS5f0gcllB",
        "outputId": "5d1dbe2b-d767-4196-c01f-ee5f3d5b3bb7"
      },
      "execution_count": null,
      "outputs": [
        {
          "output_type": "stream",
          "name": "stdout",
          "text": [
            "\n",
            "RandomForestRegressor:\n",
            "Mean R-squared score: -0.515 (+/- 3.623)\n",
            "\n",
            "RidgeCV:\n",
            "Mean R-squared score: -1.715 (+/- 6.799)\n",
            "\n",
            "DecisionTreeRegressor:\n",
            "Mean R-squared score: -0.713 (+/- 3.987)\n",
            "\n",
            "KNeighborsRegressor:\n",
            "Mean R-squared score: -0.535 (+/- 3.449)\n",
            "\n",
            "GradientBoostingRegressor:\n",
            "Mean R-squared score: -0.448 (+/- 3.745)\n",
            "\n",
            "MLPRegressor:\n",
            "Mean R-squared score: -1.299 (+/- 6.472)\n"
          ]
        }
      ]
    },
    {
      "cell_type": "code",
      "source": [
        "results_lasso_y_df = pd.DataFrame(results_lasso_y)\n",
        "results_lasso_y_df.to_csv(\"/content/drive/MyDrive/EC_Tower/result/feature_selection_lasso_yearly_results.csv\", index=False)"
      ],
      "metadata": {
        "id": "YRoq8Sz2UNoG"
      },
      "execution_count": null,
      "outputs": []
    },
    {
      "cell_type": "markdown",
      "source": [
        "##  Sequential Feature Selection"
      ],
      "metadata": {
        "id": "X6IiJOA7cztY"
      }
    },
    {
      "cell_type": "code",
      "source": [
        "# Initialize the estimator\n",
        "estimator = RandomForestRegressor()\n",
        "\n",
        "# Create the SequentialFeatureSelector\n",
        "# n_features_to_select: number of features to select\n",
        "# direction: 'forward' for forward selection, 'backward' for backward selection\n",
        "sfs = SequentialFeatureSelector(estimator, n_features_to_select=4, direction='forward')\n",
        "\n",
        "# Fit the selector\n",
        "sfs.fit(X, y)\n",
        "\n",
        "# Get the selected feature names\n",
        "selected_features = X.columns[sfs.get_support()].tolist()\n",
        "\n",
        "# Create new feature matrix with only selected features\n",
        "X_new = sfs.transform(X)\n",
        "\n",
        "# Evaluate the performance\n",
        "scores = cross_val_score(estimator, X_new, y, cv=5)\n",
        "print(\"SequentialFeatureSelector - Mean cross-validation score: {:.2f}\".format(scores.mean()))\n",
        "print(\"SequentialFeatureSelector - Selected features:\", selected_features)"
      ],
      "metadata": {
        "colab": {
          "base_uri": "https://localhost:8080/"
        },
        "id": "nUrtcLmHc0LI",
        "outputId": "7255aafc-dd5e-48df-9eb1-473af6b8e880"
      },
      "execution_count": null,
      "outputs": [
        {
          "output_type": "stream",
          "name": "stdout",
          "text": [
            "SequentialFeatureSelector - Mean cross-validation score: -0.07\n",
            "SequentialFeatureSelector - Selected features: ['aet_budyko_hargreaves', 'aet_budyko_abtew', 'latitude', 'Elevation']\n"
          ]
        }
      ]
    },
    {
      "cell_type": "markdown",
      "source": [
        "# decade data"
      ],
      "metadata": {
        "id": "bR9OPuGthO4p"
      }
    },
    {
      "cell_type": "markdown",
      "source": [
        "## SelectKBest"
      ],
      "metadata": {
        "id": "8UBUb0Z3hO5F"
      }
    },
    {
      "cell_type": "code",
      "source": [
        "# Assuming 'df' is your dataframe and 'target' is your target column\n",
        "X = decade_data.drop(['ET_fill', 'Site_ID', 'General_classification', 'Land_cover_details', 'Land_cover_type'], axis =1)\n",
        "y = decade_data['ET_fill']\n",
        "\n",
        "# Select top k features\n",
        "selector = SelectKBest(score_func=f_regression, k=4)\n",
        "X_new = selector.fit_transform(X, y)\n",
        "\n",
        "\n",
        "# Get selected feature names\n",
        "selected_features = X.columns[selector.get_support()]\n",
        "\n",
        "\n",
        "rf = RandomForestRegressor()\n",
        "scores = cross_val_score(rf, X_new, y, cv=5)\n",
        "\n",
        "\n",
        "print(\"Mean cross-validation score: {:.2f}\".format(scores.mean()))\n",
        "print(\"SelectKBest - Selected features:\", selected_features)"
      ],
      "metadata": {
        "outputId": "e9be4a13-1406-42a1-8819-57bc1eb5fe76",
        "colab": {
          "base_uri": "https://localhost:8080/"
        },
        "id": "HfFGnZEHhO5F"
      },
      "execution_count": null,
      "outputs": [
        {
          "output_type": "stream",
          "name": "stdout",
          "text": [
            "Mean cross-validation score: 0.03\n",
            "SelectKBest - Selected features: Index(['aet_budyko_oudin', 'aet_budyko_hargreaves', 'aet_budyko_abtew',\n",
            "       'aet_budyko_mcguinness_bordne'],\n",
            "      dtype='object')\n"
          ]
        }
      ]
    },
    {
      "cell_type": "markdown",
      "source": [
        "## RFE"
      ],
      "metadata": {
        "id": "wxMVcORChiRq"
      }
    },
    {
      "cell_type": "code",
      "source": [
        "\n",
        "\n",
        "# Standardize features\n",
        "scaler = StandardScaler()\n",
        "X_scaled = scaler.fit_transform(X)\n",
        "\n",
        "# Create and fit RFE\n",
        "estimator = RandomForestRegressor()\n",
        "selector = RFE(estimator, n_features_to_select=4, step=1)\n",
        "X_new = selector.fit_transform(X_scaled, y)\n",
        "\n",
        "# Get selected feature names\n",
        "selected_features = X.columns[selector.support_]\n",
        "\n",
        "# Evaluate\n",
        "rf = RandomForestRegressor()\n",
        "scores = cross_val_score(rf, X_new, y, cv=5)\n",
        "\n",
        "print(\"RFE - Mean cross-validation score: {:.2f}\".format(scores.mean()))\n",
        "print(\"RFE - Selected features:\", selected_features)"
      ],
      "metadata": {
        "outputId": "f0eec355-c17e-4efb-fcd3-14da11d5da83",
        "colab": {
          "base_uri": "https://localhost:8080/"
        },
        "id": "EzcOisXehiRr"
      },
      "execution_count": null,
      "outputs": [
        {
          "output_type": "stream",
          "name": "stdout",
          "text": [
            "RFE - Mean cross-validation score: 0.15\n",
            "RFE - Selected features: Index(['Month', 'aet_budyko_oudin', 'aet_budyko_hargreaves', 'latitude'], dtype='object')\n"
          ]
        }
      ]
    },
    {
      "cell_type": "markdown",
      "source": [
        "##  SelectFromModel"
      ],
      "metadata": {
        "id": "Nc8-H3gwhiRt"
      }
    },
    {
      "cell_type": "markdown",
      "source": [
        "### tree-based models"
      ],
      "metadata": {
        "id": "cGedgJz_hiRu"
      }
    },
    {
      "cell_type": "code",
      "source": [
        "from sklearn.ensemble import RandomForestRegressor\n",
        "import pandas as pd\n",
        "\n",
        "# Fit Random Forest\n",
        "rf = RandomForestRegressor()\n",
        "rf.fit(X, y)\n",
        "\n",
        "# Get feature importances\n",
        "feature_importance = pd.DataFrame({'feature': X.columns, 'importance': rf.feature_importances_})\n",
        "feature_importance = feature_importance.sort_values('importance', ascending=False)\n",
        "\n",
        "# Select top 4 features\n",
        "top_features = feature_importance['feature'][:4].tolist()\n",
        "X_new = X[top_features]\n",
        "\n",
        "# Evaluate\n",
        "scores = cross_val_score(rf, X_new, y, cv=5)\n",
        "print(\"Random Forest - Mean cross-validation score: {:.2f}\".format(scores.mean()))\n",
        "print(\"Random Forest - Selected features:\", top_features)"
      ],
      "metadata": {
        "outputId": "ca436f05-b70f-478f-f813-437b7d802a82",
        "colab": {
          "base_uri": "https://localhost:8080/"
        },
        "id": "bDRkel39hiRu"
      },
      "execution_count": null,
      "outputs": [
        {
          "output_type": "stream",
          "name": "stdout",
          "text": [
            "Random Forest - Mean cross-validation score: 0.15\n",
            "Random Forest - Selected features: ['aet_budyko_hargreaves', 'aet_budyko_oudin', 'latitude', 'Month']\n"
          ]
        }
      ]
    },
    {
      "cell_type": "markdown",
      "source": [
        "### Lasso regularization"
      ],
      "metadata": {
        "id": "J9yBQ-y2hiRx"
      }
    },
    {
      "cell_type": "code",
      "source": [
        "\n",
        "\n",
        "# Standardize features\n",
        "scaler = StandardScaler()\n",
        "X_scaled = scaler.fit_transform(X)\n",
        "\n",
        "# Fit Lasso\n",
        "lasso = Lasso(alpha=0.1)\n",
        "lasso.fit(X_scaled, y)\n",
        "\n",
        "# Get feature importances\n",
        "feature_importance = pd.DataFrame({'feature': X.columns, 'importance': np.abs(lasso.coef_)})\n",
        "feature_importance = feature_importance.sort_values('importance', ascending=False)\n",
        "\n",
        "# Select features with non-zero coefficients\n",
        "selected_features = feature_importance[feature_importance['importance'] > 0]['feature'].tolist()\n",
        "X_new = X[selected_features]\n",
        "\n",
        "# Evaluate\n",
        "rf = RandomForestRegressor()\n",
        "scores = cross_val_score(rf, X_new, y, cv=5)\n",
        "print(\"Lasso - Mean cross-validation score: {:.2f}\".format(scores.mean()))\n",
        "print(\"Lasso - Selected features:\", selected_features)"
      ],
      "metadata": {
        "outputId": "a5988442-d4f9-4996-959a-227270f448de",
        "colab": {
          "base_uri": "https://localhost:8080/"
        },
        "id": "fvKko8hEhiRx"
      },
      "execution_count": null,
      "outputs": [
        {
          "output_type": "stream",
          "name": "stdout",
          "text": [
            "Lasso - Mean cross-validation score: 0.26\n",
            "Lasso - Selected features: ['aet_budyko_hargreaves', 'latitude', 'Elevation', 'Month']\n"
          ]
        }
      ]
    },
    {
      "cell_type": "markdown",
      "source": [
        "##  Sequential Feature Selection"
      ],
      "metadata": {
        "id": "25UjTDv-hiRy"
      }
    },
    {
      "cell_type": "code",
      "source": [
        "# Initialize the estimator\n",
        "estimator = RandomForestRegressor()\n",
        "\n",
        "# Create the SequentialFeatureSelector\n",
        "# n_features_to_select: number of features to select\n",
        "# direction: 'forward' for forward selection, 'backward' for backward selection\n",
        "sfs = SequentialFeatureSelector(estimator, n_features_to_select=4, direction='forward')\n",
        "\n",
        "# Fit the selector\n",
        "sfs.fit(X, y)\n",
        "\n",
        "# Get the selected feature names\n",
        "selected_features = X.columns[sfs.get_support()].tolist()\n",
        "\n",
        "# Create new feature matrix with only selected features\n",
        "X_new = sfs.transform(X)\n",
        "\n",
        "# Evaluate the performance\n",
        "scores = cross_val_score(estimator, X_new, y, cv=5)\n",
        "print(\"SequentialFeatureSelector - Mean cross-validation score: {:.2f}\".format(scores.mean()))\n",
        "print(\"SequentialFeatureSelector - Selected features:\", selected_features)"
      ],
      "metadata": {
        "id": "2B_omyiQhiRz"
      },
      "execution_count": null,
      "outputs": []
    }
  ],
  "metadata": {
    "language_info": {
      "name": "python"
    },
    "colab": {
      "provenance": []
    },
    "kernelspec": {
      "name": "python3",
      "display_name": "Python 3"
    }
  },
  "nbformat": 4,
  "nbformat_minor": 0
}