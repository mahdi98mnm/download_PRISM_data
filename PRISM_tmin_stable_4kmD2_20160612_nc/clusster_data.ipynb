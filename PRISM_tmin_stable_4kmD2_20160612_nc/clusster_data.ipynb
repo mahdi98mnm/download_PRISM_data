{
  "cells": [
    {
      "cell_type": "code",
      "source": [
        "from google.colab import drive\n",
        "drive.mount('/content/drive')"
      ],
      "metadata": {
        "id": "gtJnyuvqL3vS",
        "outputId": "2654e92f-5bda-409a-c2f6-eab42dd5dde2",
        "colab": {
          "base_uri": "https://localhost:8080/"
        }
      },
      "execution_count": 4,
      "outputs": [
        {
          "output_type": "stream",
          "name": "stdout",
          "text": [
            "Mounted at /content/drive\n"
          ]
        }
      ]
    },
    {
      "cell_type": "code",
      "source": [
        "!source /content/drive/MyDrive/colab_env/bin/activate"
      ],
      "metadata": {
        "id": "KiwkU3-YL482"
      },
      "execution_count": 1,
      "outputs": []
    },
    {
      "cell_type": "code",
      "execution_count": 2,
      "metadata": {
        "id": "NptbZq97JpRU"
      },
      "outputs": [],
      "source": [
        "import pandas as pd\n",
        "import numpy as np\n",
        "from tqdm import tqdm\n",
        "from sklearn.feature_selection import SelectKBest, f_regression, RFE, SequentialFeatureSelector\n",
        "from sklearn.model_selection import cross_val_score\n",
        "from sklearn.preprocessing import StandardScaler\n",
        "from sklearn.linear_model import RidgeCV, Lasso\n",
        "from sklearn.tree import DecisionTreeRegressor\n",
        "from sklearn.neighbors import KNeighborsRegressor\n",
        "from sklearn.ensemble import GradientBoostingRegressor, RandomForestRegressor\n",
        "from sklearn.neural_network import MLPRegressor\n",
        "from sklearn.base import BaseEstimator, TransformerMixin\n",
        "from sklearn.model_selection import train_test_split\n",
        "from sklearn.metrics import r2_score\n",
        "from functools import partial\n"
      ]
    },
    {
      "cell_type": "code",
      "execution_count": 3,
      "metadata": {
        "id": "FQGYBQgVJpRY"
      },
      "outputs": [],
      "source": [
        "daily_data = pd.read_parquet(\"/content/drive/MyDrive/EC_Tower/result/daily_data_central_valley.parquet\", engine='pyarrow')\n",
        "decade_data = pd.read_parquet(\"/content/drive/MyDrive/EC_Tower/result/decade_data_central_valley.parquet\", engine='pyarrow')\n",
        "monthly_data = pd.read_parquet(\"/content/drive/MyDrive/EC_Tower/result/monthly_data_central_valley.parquet\", engine='pyarrow')\n",
        "yearly_data = pd.read_parquet(\"/content/drive/MyDrive/EC_Tower/result/yearly_data_central_valley.parquet\", engine='pyarrow')\n"
      ]
    },
    {
      "cell_type": "code",
      "source": [
        "# Factorize the column\n",
        "monthly_data['category_encoded_Site_ID'], _ = pd.factorize(monthly_data['Site_ID'])\n",
        "monthly_data['category_encoded_General_classification'], _ = pd.factorize(monthly_data['General_classification'])\n",
        "monthly_data['category_encoded_Land_cover_details'], _ = pd.factorize(monthly_data['Land_cover_details'])\n",
        "monthly_data['category_encoded_Land_cover_type'], _ = pd.factorize(monthly_data['Land_cover_type'])\n"
      ],
      "metadata": {
        "id": "3XTiYbCkfx-L"
      },
      "execution_count": 4,
      "outputs": []
    },
    {
      "cell_type": "code",
      "source": [
        "# Custom transformer for Lasso feature selection\n",
        "class LassoSelector(BaseEstimator, TransformerMixin):\n",
        "    def __init__(self, n_features_to_select=10):\n",
        "        self.n_features_to_select = n_features_to_select\n",
        "        self.lasso = Lasso(random_state=42)\n",
        "\n",
        "    def fit(self, X, y):\n",
        "        self.lasso.fit(X, y)\n",
        "        self.support_ = np.argsort(np.abs(self.lasso.coef_))[-self.n_features_to_select:]\n",
        "        return self\n",
        "\n",
        "    def transform(self, X):\n",
        "        return X[:, self.support_]\n"
      ],
      "metadata": {
        "id": "e7HP_zSrf1Oh"
      },
      "execution_count": 5,
      "outputs": []
    },
    {
      "cell_type": "code",
      "source": [
        "# Assuming 'df' is your dataframe and 'target' is your target column\n",
        "X = monthly_data.drop(['ET_fill', 'Site_ID', 'General_classification', 'Land_cover_details', 'Land_cover_type'], axis =1)\n",
        "y = monthly_data['ET_fill']\n",
        "\n",
        "# Standardize features\n",
        "scaler = StandardScaler()\n",
        "X_scaled = scaler.fit_transform(X)\n",
        "\n",
        "# Define estimators\n",
        "estimators = {\n",
        "    'RandomForestRegressor': RandomForestRegressor(),\n",
        "    'RidgeCV': RidgeCV(),\n",
        "    'DecisionTreeRegressor': DecisionTreeRegressor(),\n",
        "    'KNeighborsRegressor': KNeighborsRegressor(),\n",
        "    'GradientBoostingRegressor': GradientBoostingRegressor(),\n",
        "    'MLPRegressor': MLPRegressor()\n",
        "}\n",
        "\n",
        "# Number of features to select\n",
        "n_features_to_select = 4"
      ],
      "metadata": {
        "id": "eQG4jGvTf4Q_"
      },
      "execution_count": 6,
      "outputs": []
    },
    {
      "cell_type": "markdown",
      "source": [
        "# Monthly data"
      ],
      "metadata": {
        "id": "EL1RnEGlWv-A"
      }
    },
    {
      "cell_type": "markdown",
      "source": [
        "## SelectKBest"
      ],
      "metadata": {
        "id": "tD_ns3HRMIrZ"
      }
    },
    {
      "cell_type": "code",
      "source": [
        "# 1. SelectKBest (optimized)\n",
        "results_kbest = []\n",
        "selector = SelectKBest(score_func=f_regression, k=n_features_to_select)\n",
        "X_new = selector.fit_transform(X_scaled, y)\n",
        "selected_features = X.columns[selector.get_support()].tolist()\n",
        "\n",
        "for est_name, estimator in tqdm(estimators.items()):\n",
        "\n",
        "  scores = cross_val_score(estimator, X_new, y, cv=5, scoring='r2')\n",
        "  print(f\"\\n{est_name}:\")\n",
        "  print(f\"Mean R-squared score: {scores.mean():.3f} (+/- {scores.std() * 2:.3f})\")\n",
        "  results_kbest.append({\n",
        "      'Method': 'SelectKBest',\n",
        "      'Estimator': est_name,\n",
        "      'Selected Features': ', '.join(selected_features),\n",
        "      'R2 Score': scores.mean(),\n",
        "      'R2 Std': scores.std()\n",
        "  })\n",
        "\n",
        "\n"
      ],
      "metadata": {
        "id": "33nRF4h1PAfT",
        "outputId": "617ddb38-0938-42ab-cb43-96462dc97b3e",
        "colab": {
          "base_uri": "https://localhost:8080/"
        }
      },
      "execution_count": 10,
      "outputs": [
        {
          "output_type": "stream",
          "name": "stderr",
          "text": [
            " 17%|█▋        | 1/6 [00:41<03:29, 41.89s/it]"
          ]
        },
        {
          "output_type": "stream",
          "name": "stdout",
          "text": [
            "\n",
            "RandomForestRegressor:\n",
            "Mean R-squared score: 0.085 (+/- 1.518)\n"
          ]
        },
        {
          "output_type": "stream",
          "name": "stderr",
          "text": [
            "\r 33%|███▎      | 2/6 [00:42<01:09, 17.48s/it]"
          ]
        },
        {
          "output_type": "stream",
          "name": "stdout",
          "text": [
            "\n",
            "RidgeCV:\n",
            "Mean R-squared score: 0.469 (+/- 0.910)\n"
          ]
        },
        {
          "output_type": "stream",
          "name": "stderr",
          "text": [
            "\r 50%|█████     | 3/6 [00:42<00:29,  9.76s/it]"
          ]
        },
        {
          "output_type": "stream",
          "name": "stdout",
          "text": [
            "\n",
            "DecisionTreeRegressor:\n",
            "Mean R-squared score: 0.043 (+/- 1.589)\n"
          ]
        },
        {
          "output_type": "stream",
          "name": "stderr",
          "text": [
            "\r 67%|██████▋   | 4/6 [00:44<00:13,  6.57s/it]"
          ]
        },
        {
          "output_type": "stream",
          "name": "stdout",
          "text": [
            "\n",
            "KNeighborsRegressor:\n",
            "Mean R-squared score: 0.018 (+/- 1.549)\n"
          ]
        },
        {
          "output_type": "stream",
          "name": "stderr",
          "text": [
            "\r 83%|████████▎ | 5/6 [01:11<00:13, 13.85s/it]"
          ]
        },
        {
          "output_type": "stream",
          "name": "stdout",
          "text": [
            "\n",
            "GradientBoostingRegressor:\n",
            "Mean R-squared score: 0.387 (+/- 1.059)\n"
          ]
        },
        {
          "output_type": "stream",
          "name": "stderr",
          "text": [
            "/usr/local/lib/python3.10/dist-packages/sklearn/neural_network/_multilayer_perceptron.py:686: ConvergenceWarning: Stochastic Optimizer: Maximum iterations (200) reached and the optimization hasn't converged yet.\n",
            "  warnings.warn(\n",
            "/usr/local/lib/python3.10/dist-packages/sklearn/neural_network/_multilayer_perceptron.py:686: ConvergenceWarning: Stochastic Optimizer: Maximum iterations (200) reached and the optimization hasn't converged yet.\n",
            "  warnings.warn(\n",
            "/usr/local/lib/python3.10/dist-packages/sklearn/neural_network/_multilayer_perceptron.py:686: ConvergenceWarning: Stochastic Optimizer: Maximum iterations (200) reached and the optimization hasn't converged yet.\n",
            "  warnings.warn(\n",
            "/usr/local/lib/python3.10/dist-packages/sklearn/neural_network/_multilayer_perceptron.py:686: ConvergenceWarning: Stochastic Optimizer: Maximum iterations (200) reached and the optimization hasn't converged yet.\n",
            "  warnings.warn(\n",
            "/usr/local/lib/python3.10/dist-packages/sklearn/neural_network/_multilayer_perceptron.py:686: ConvergenceWarning: Stochastic Optimizer: Maximum iterations (200) reached and the optimization hasn't converged yet.\n",
            "  warnings.warn(\n",
            "100%|██████████| 6/6 [14:03<00:00, 140.60s/it]"
          ]
        },
        {
          "output_type": "stream",
          "name": "stdout",
          "text": [
            "\n",
            "MLPRegressor:\n",
            "Mean R-squared score: 0.406 (+/- 1.002)\n"
          ]
        },
        {
          "output_type": "stream",
          "name": "stderr",
          "text": [
            "\n"
          ]
        }
      ]
    },
    {
      "cell_type": "markdown",
      "source": [
        "## RFE"
      ],
      "metadata": {
        "id": "9iAi3TFLMUoF"
      }
    },
    {
      "cell_type": "code",
      "source": [
        "# 2. RFE (not suitable for KNN)\n",
        "results_rfe = []\n",
        "for est_name, estimator in tqdm(estimators.items()):\n",
        "    if est_name not in ['KNeighborsRegressor', 'MLPRegressor']:\n",
        "        selector = RFE(estimator, n_features_to_select=n_features_to_select, step=1)\n",
        "        X_new = selector.fit_transform(X_scaled, y)\n",
        "        selected_features = X.columns[selector.support_].tolist()\n",
        "\n",
        "        scores = cross_val_score(estimator, X_new, y, cv=5, scoring='r2')\n",
        "        print(f\"\\n{est_name}:\")\n",
        "        print(f\"Mean R-squared score: {scores.mean():.3f} (+/- {scores.std() * 2:.3f})\")\n",
        "        results_rfe.append({\n",
        "            'Method': 'RFE',\n",
        "            'Estimator': est_name,\n",
        "            'Selected Features': ', '.join(selected_features),\n",
        "            'R2 Score': scores.mean(),\n",
        "            'R2 Std': scores.std()\n",
        "        })\n"
      ],
      "metadata": {
        "id": "JzJkDr2YPi1y",
        "outputId": "01d52367-8fb7-4cec-fa77-7b6326dcf8ee",
        "colab": {
          "base_uri": "https://localhost:8080/"
        }
      },
      "execution_count": 26,
      "outputs": [
        {
          "output_type": "stream",
          "name": "stderr",
          "text": [
            " 17%|█▋        | 1/6 [02:14<11:12, 134.46s/it]"
          ]
        },
        {
          "output_type": "stream",
          "name": "stdout",
          "text": [
            "\n",
            "RandomForestRegressor:\n",
            "Mean R-squared score: 0.392 (+/- 0.779)\n"
          ]
        },
        {
          "output_type": "stream",
          "name": "stderr",
          "text": [
            "\r 33%|███▎      | 2/6 [02:16<03:46, 56.59s/it] "
          ]
        },
        {
          "output_type": "stream",
          "name": "stdout",
          "text": [
            "\n",
            "RidgeCV:\n",
            "Mean R-squared score: -1.516 (+/- 7.927)\n"
          ]
        },
        {
          "output_type": "stream",
          "name": "stderr",
          "text": [
            "\r 50%|█████     | 3/6 [02:19<01:36, 32.12s/it]"
          ]
        },
        {
          "output_type": "stream",
          "name": "stdout",
          "text": [
            "\n",
            "DecisionTreeRegressor:\n",
            "Mean R-squared score: 0.357 (+/- 0.821)\n"
          ]
        },
        {
          "output_type": "stream",
          "name": "stderr",
          "text": [
            "100%|██████████| 6/6 [03:43<00:00, 37.20s/it]"
          ]
        },
        {
          "output_type": "stream",
          "name": "stdout",
          "text": [
            "\n",
            "GradientBoostingRegressor:\n",
            "Mean R-squared score: 0.523 (+/- 0.431)\n"
          ]
        },
        {
          "output_type": "stream",
          "name": "stderr",
          "text": [
            "\n"
          ]
        }
      ]
    },
    {
      "cell_type": "markdown",
      "source": [
        "##  SelectFromModel"
      ],
      "metadata": {
        "id": "zCPggUB3Reof"
      }
    },
    {
      "cell_type": "markdown",
      "source": [
        "### tree-based models"
      ],
      "metadata": {
        "id": "W5pHARCOQGIs"
      }
    },
    {
      "cell_type": "code",
      "source": [
        "\n",
        "# 3. Tree-based feature importance\n",
        "results_tree_based = []\n",
        "for est_name in ['DecisionTreeRegressor', 'GradientBoostingRegressor']:\n",
        "    estimator = estimators[est_name]\n",
        "    estimator.fit(X_scaled, y)\n",
        "    importances = estimator.feature_importances_\n",
        "    indices = np.argsort(importances)[-n_features_to_select:]\n",
        "    selected_features = X.columns[indices].tolist()\n",
        "\n",
        "    X_new = X_scaled[:, indices]\n",
        "    for eval_est_name, eval_estimator in estimators.items():\n",
        "        scores = cross_val_score(eval_estimator, X_new, y, cv=5, scoring='r2', n_jobs=-1)\n",
        "        print(f\"\\n{est_name}:\")\n",
        "        print(f\"\\n{eval_est_name}:\")\n",
        "        print(f\"Mean R-squared score: {scores.mean():.3f} (+/- {scores.std() * 2:.3f})\")\n",
        "        results_tree_based.append({\n",
        "            'Method': f'TreeBased-{est_name}',\n",
        "            'Estimator': eval_est_name,\n",
        "            'Selected Features': ', '.join(selected_features),\n",
        "            'R2 Score': scores.mean(),\n",
        "            'R2 Std': scores.std()\n",
        "        })\n"
      ],
      "metadata": {
        "id": "ayo8dpXXQG_B",
        "outputId": "4b561174-a297-40e6-b083-f85f44f9623f",
        "colab": {
          "base_uri": "https://localhost:8080/"
        }
      },
      "execution_count": 23,
      "outputs": [
        {
          "output_type": "stream",
          "name": "stdout",
          "text": [
            "\n",
            "DecisionTreeRegressor:\n",
            "\n",
            "RandomForestRegressor:\n",
            "Mean R-squared score: 0.393 (+/- 0.792)\n",
            "\n",
            "DecisionTreeRegressor:\n",
            "\n",
            "RidgeCV:\n",
            "Mean R-squared score: -1.900 (+/- 9.084)\n",
            "\n",
            "DecisionTreeRegressor:\n",
            "\n",
            "DecisionTreeRegressor:\n",
            "Mean R-squared score: 0.300 (+/- 0.845)\n",
            "\n",
            "DecisionTreeRegressor:\n",
            "\n",
            "KNeighborsRegressor:\n",
            "Mean R-squared score: 0.244 (+/- 1.259)\n",
            "\n",
            "DecisionTreeRegressor:\n",
            "\n",
            "GradientBoostingRegressor:\n",
            "Mean R-squared score: 0.714 (+/- 0.122)\n",
            "\n",
            "DecisionTreeRegressor:\n",
            "\n",
            "MLPRegressor:\n",
            "Mean R-squared score: -2.438 (+/- 11.935)\n",
            "\n",
            "GradientBoostingRegressor:\n",
            "\n",
            "RandomForestRegressor:\n",
            "Mean R-squared score: 0.180 (+/- 1.085)\n",
            "\n",
            "GradientBoostingRegressor:\n",
            "\n",
            "RidgeCV:\n",
            "Mean R-squared score: 0.430 (+/- 0.954)\n",
            "\n",
            "GradientBoostingRegressor:\n",
            "\n",
            "DecisionTreeRegressor:\n",
            "Mean R-squared score: 0.077 (+/- 1.286)\n",
            "\n",
            "GradientBoostingRegressor:\n",
            "\n",
            "KNeighborsRegressor:\n",
            "Mean R-squared score: -0.003 (+/- 1.759)\n",
            "\n",
            "GradientBoostingRegressor:\n",
            "\n",
            "GradientBoostingRegressor:\n",
            "Mean R-squared score: 0.407 (+/- 1.108)\n",
            "\n",
            "GradientBoostingRegressor:\n",
            "\n",
            "MLPRegressor:\n",
            "Mean R-squared score: 0.337 (+/- 1.084)\n"
          ]
        }
      ]
    },
    {
      "cell_type": "markdown",
      "source": [
        "### Lasso regularization"
      ],
      "metadata": {
        "id": "UdWZCcFARHWY"
      }
    },
    {
      "cell_type": "code",
      "source": [
        "\n",
        "results_lasso = []\n",
        "# 4. Lasso regularization\n",
        "lasso_selector = LassoSelector(n_features_to_select=n_features_to_select)\n",
        "X_new = lasso_selector.fit_transform(X_scaled, y)\n",
        "selected_features = X.columns[lasso_selector.support_].tolist()\n",
        "\n",
        "for est_name, estimator in estimators.items():\n",
        "    scores = cross_val_score(estimator, X_new, y, cv=5, scoring='r2', n_jobs=-1)\n",
        "    print(f\"\\n{est_name}:\")\n",
        "    print(f\"Mean R-squared score: {scores.mean():.3f} (+/- {scores.std() * 2:.3f})\")\n",
        "    results_lasso.append({\n",
        "        'Method': 'Lasso',\n",
        "        'Estimator': est_name,\n",
        "        'Selected Features': ', '.join(selected_features),\n",
        "        'R2 Score': scores.mean(),\n",
        "        'R2 Std': scores.std()\n",
        "    })"
      ],
      "metadata": {
        "id": "p2LXfx-2RK1f",
        "outputId": "d865885c-7b57-4a64-beb0-6c7d5eaddbc9",
        "colab": {
          "base_uri": "https://localhost:8080/"
        }
      },
      "execution_count": 29,
      "outputs": [
        {
          "output_type": "stream",
          "name": "stdout",
          "text": [
            "\n",
            "RandomForestRegressor:\n",
            "Mean R-squared score: 0.325 (+/- 0.948)\n",
            "\n",
            "RidgeCV:\n",
            "Mean R-squared score: -1.517 (+/- 7.645)\n",
            "\n",
            "DecisionTreeRegressor:\n",
            "Mean R-squared score: 0.285 (+/- 0.683)\n",
            "\n",
            "KNeighborsRegressor:\n",
            "Mean R-squared score: 0.348 (+/- 1.035)\n",
            "\n",
            "GradientBoostingRegressor:\n",
            "Mean R-squared score: 0.672 (+/- 0.238)\n",
            "\n",
            "MLPRegressor:\n",
            "Mean R-squared score: -5.996 (+/- 26.207)\n"
          ]
        }
      ]
    },
    {
      "cell_type": "markdown",
      "source": [
        "##  Sequential Feature Selection"
      ],
      "metadata": {
        "id": "YO33R3plYe9g"
      }
    },
    {
      "cell_type": "code",
      "source": [
        "results_sequential_forward = []\n",
        "# 5. Sequential Feature Selection (forward)\n",
        "for est_name, estimator in estimators.items():\n",
        "    selector = SequentialFeatureSelector(estimator, n_features_to_select=n_features_to_select, direction='forward', n_jobs=-1)\n",
        "    X_new = selector.fit_transform(X_scaled, y)\n",
        "    selected_features = X.columns[selector.get_support()].tolist()\n",
        "\n",
        "    scores = cross_val_score(estimator, X_new, y, cv=3, scoring='r2', n_jobs=-1)\n",
        "    print(f\"\\n{est_name}:\")\n",
        "    print(f\"Mean R-squared score: {scores.mean():.3f} (+/- {scores.std() * 2:.3f})\")\n",
        "    results_sequential_forward.append({\n",
        "        'Method': 'SequentialForward',\n",
        "        'Estimator': est_name,\n",
        "        'Direction' : 'forward',\n",
        "        'Selected Features': ', '.join(selected_features),\n",
        "        'R2 Score': scores.mean(),\n",
        "        'R2 Std': scores.std()\n",
        "    })"
      ],
      "metadata": {
        "id": "Nci2pdydYfZZ",
        "outputId": "d7edb136-1804-4d9a-86f0-cac62c5fd36f",
        "colab": {
          "base_uri": "https://localhost:8080/",
          "height": 356
        }
      },
      "execution_count": 8,
      "outputs": [
        {
          "ename": "KeyboardInterrupt",
          "evalue": "",
          "output_type": "error",
          "traceback": [
            "\u001b[0;31m---------------------------------------------------------------------------\u001b[0m",
            "\u001b[0;31mKeyboardInterrupt\u001b[0m                         Traceback (most recent call last)",
            "\u001b[0;32m<ipython-input-8-e905517b6903>\u001b[0m in \u001b[0;36m<cell line: 3>\u001b[0;34m()\u001b[0m\n\u001b[1;32m      3\u001b[0m \u001b[0;32mfor\u001b[0m \u001b[0mest_name\u001b[0m\u001b[0;34m,\u001b[0m \u001b[0mestimator\u001b[0m \u001b[0;32min\u001b[0m \u001b[0mestimators\u001b[0m\u001b[0;34m.\u001b[0m\u001b[0mitems\u001b[0m\u001b[0;34m(\u001b[0m\u001b[0;34m)\u001b[0m\u001b[0;34m:\u001b[0m\u001b[0;34m\u001b[0m\u001b[0;34m\u001b[0m\u001b[0m\n\u001b[1;32m      4\u001b[0m     \u001b[0mselector\u001b[0m \u001b[0;34m=\u001b[0m \u001b[0mSequentialFeatureSelector\u001b[0m\u001b[0;34m(\u001b[0m\u001b[0mestimator\u001b[0m\u001b[0;34m,\u001b[0m \u001b[0mn_features_to_select\u001b[0m\u001b[0;34m=\u001b[0m\u001b[0mn_features_to_select\u001b[0m\u001b[0;34m,\u001b[0m \u001b[0mdirection\u001b[0m\u001b[0;34m=\u001b[0m\u001b[0;34m'forward'\u001b[0m\u001b[0;34m,\u001b[0m \u001b[0mn_jobs\u001b[0m\u001b[0;34m=\u001b[0m\u001b[0;34m-\u001b[0m\u001b[0;36m1\u001b[0m\u001b[0;34m)\u001b[0m\u001b[0;34m\u001b[0m\u001b[0;34m\u001b[0m\u001b[0m\n\u001b[0;32m----> 5\u001b[0;31m     \u001b[0mX_new\u001b[0m \u001b[0;34m=\u001b[0m \u001b[0mselector\u001b[0m\u001b[0;34m.\u001b[0m\u001b[0mfit_transform\u001b[0m\u001b[0;34m(\u001b[0m\u001b[0mX_scaled\u001b[0m\u001b[0;34m,\u001b[0m \u001b[0my\u001b[0m\u001b[0;34m)\u001b[0m\u001b[0;34m\u001b[0m\u001b[0;34m\u001b[0m\u001b[0m\n\u001b[0m\u001b[1;32m      6\u001b[0m     \u001b[0mselected_features\u001b[0m \u001b[0;34m=\u001b[0m \u001b[0mX\u001b[0m\u001b[0;34m.\u001b[0m\u001b[0mcolumns\u001b[0m\u001b[0;34m[\u001b[0m\u001b[0mselector\u001b[0m\u001b[0;34m.\u001b[0m\u001b[0mget_support\u001b[0m\u001b[0;34m(\u001b[0m\u001b[0;34m)\u001b[0m\u001b[0;34m]\u001b[0m\u001b[0;34m.\u001b[0m\u001b[0mtolist\u001b[0m\u001b[0;34m(\u001b[0m\u001b[0;34m)\u001b[0m\u001b[0;34m\u001b[0m\u001b[0;34m\u001b[0m\u001b[0m\n\u001b[1;32m      7\u001b[0m \u001b[0;34m\u001b[0m\u001b[0m\n",
            "\u001b[0;32m/usr/local/lib/python3.10/dist-packages/sklearn/utils/_set_output.py\u001b[0m in \u001b[0;36mwrapped\u001b[0;34m(self, X, *args, **kwargs)\u001b[0m\n\u001b[1;32m    138\u001b[0m     \u001b[0;34m@\u001b[0m\u001b[0mwraps\u001b[0m\u001b[0;34m(\u001b[0m\u001b[0mf\u001b[0m\u001b[0;34m)\u001b[0m\u001b[0;34m\u001b[0m\u001b[0;34m\u001b[0m\u001b[0m\n\u001b[1;32m    139\u001b[0m     \u001b[0;32mdef\u001b[0m \u001b[0mwrapped\u001b[0m\u001b[0;34m(\u001b[0m\u001b[0mself\u001b[0m\u001b[0;34m,\u001b[0m \u001b[0mX\u001b[0m\u001b[0;34m,\u001b[0m \u001b[0;34m*\u001b[0m\u001b[0margs\u001b[0m\u001b[0;34m,\u001b[0m \u001b[0;34m**\u001b[0m\u001b[0mkwargs\u001b[0m\u001b[0;34m)\u001b[0m\u001b[0;34m:\u001b[0m\u001b[0;34m\u001b[0m\u001b[0;34m\u001b[0m\u001b[0m\n\u001b[0;32m--> 140\u001b[0;31m         \u001b[0mdata_to_wrap\u001b[0m \u001b[0;34m=\u001b[0m \u001b[0mf\u001b[0m\u001b[0;34m(\u001b[0m\u001b[0mself\u001b[0m\u001b[0;34m,\u001b[0m \u001b[0mX\u001b[0m\u001b[0;34m,\u001b[0m \u001b[0;34m*\u001b[0m\u001b[0margs\u001b[0m\u001b[0;34m,\u001b[0m \u001b[0;34m**\u001b[0m\u001b[0mkwargs\u001b[0m\u001b[0;34m)\u001b[0m\u001b[0;34m\u001b[0m\u001b[0;34m\u001b[0m\u001b[0m\n\u001b[0m\u001b[1;32m    141\u001b[0m         \u001b[0;32mif\u001b[0m \u001b[0misinstance\u001b[0m\u001b[0;34m(\u001b[0m\u001b[0mdata_to_wrap\u001b[0m\u001b[0;34m,\u001b[0m \u001b[0mtuple\u001b[0m\u001b[0;34m)\u001b[0m\u001b[0;34m:\u001b[0m\u001b[0;34m\u001b[0m\u001b[0;34m\u001b[0m\u001b[0m\n\u001b[1;32m    142\u001b[0m             \u001b[0;31m# only wrap the first output for cross decomposition\u001b[0m\u001b[0;34m\u001b[0m\u001b[0;34m\u001b[0m\u001b[0m\n",
            "\u001b[0;32m/usr/local/lib/python3.10/dist-packages/sklearn/base.py\u001b[0m in \u001b[0;36mfit_transform\u001b[0;34m(self, X, y, **fit_params)\u001b[0m\n\u001b[1;32m    879\u001b[0m         \u001b[0;32melse\u001b[0m\u001b[0;34m:\u001b[0m\u001b[0;34m\u001b[0m\u001b[0;34m\u001b[0m\u001b[0m\n\u001b[1;32m    880\u001b[0m             \u001b[0;31m# fit method of arity 2 (supervised transformation)\u001b[0m\u001b[0;34m\u001b[0m\u001b[0;34m\u001b[0m\u001b[0m\n\u001b[0;32m--> 881\u001b[0;31m             \u001b[0;32mreturn\u001b[0m \u001b[0mself\u001b[0m\u001b[0;34m.\u001b[0m\u001b[0mfit\u001b[0m\u001b[0;34m(\u001b[0m\u001b[0mX\u001b[0m\u001b[0;34m,\u001b[0m \u001b[0my\u001b[0m\u001b[0;34m,\u001b[0m \u001b[0;34m**\u001b[0m\u001b[0mfit_params\u001b[0m\u001b[0;34m)\u001b[0m\u001b[0;34m.\u001b[0m\u001b[0mtransform\u001b[0m\u001b[0;34m(\u001b[0m\u001b[0mX\u001b[0m\u001b[0;34m)\u001b[0m\u001b[0;34m\u001b[0m\u001b[0;34m\u001b[0m\u001b[0m\n\u001b[0m\u001b[1;32m    882\u001b[0m \u001b[0;34m\u001b[0m\u001b[0m\n\u001b[1;32m    883\u001b[0m \u001b[0;34m\u001b[0m\u001b[0m\n",
            "\u001b[0;32m/usr/local/lib/python3.10/dist-packages/sklearn/feature_selection/_sequential.py\u001b[0m in \u001b[0;36mfit\u001b[0;34m(self, X, y)\u001b[0m\n\u001b[1;32m    274\u001b[0m         \u001b[0mis_auto_select\u001b[0m \u001b[0;34m=\u001b[0m \u001b[0mself\u001b[0m\u001b[0;34m.\u001b[0m\u001b[0mtol\u001b[0m \u001b[0;32mis\u001b[0m \u001b[0;32mnot\u001b[0m \u001b[0;32mNone\u001b[0m \u001b[0;32mand\u001b[0m \u001b[0mself\u001b[0m\u001b[0;34m.\u001b[0m\u001b[0mn_features_to_select\u001b[0m \u001b[0;34m==\u001b[0m \u001b[0;34m\"auto\"\u001b[0m\u001b[0;34m\u001b[0m\u001b[0;34m\u001b[0m\u001b[0m\n\u001b[1;32m    275\u001b[0m         \u001b[0;32mfor\u001b[0m \u001b[0m_\u001b[0m \u001b[0;32min\u001b[0m \u001b[0mrange\u001b[0m\u001b[0;34m(\u001b[0m\u001b[0mn_iterations\u001b[0m\u001b[0;34m)\u001b[0m\u001b[0;34m:\u001b[0m\u001b[0;34m\u001b[0m\u001b[0;34m\u001b[0m\u001b[0m\n\u001b[0;32m--> 276\u001b[0;31m             new_feature_idx, new_score = self._get_best_new_feature_score(\n\u001b[0m\u001b[1;32m    277\u001b[0m                 \u001b[0mcloned_estimator\u001b[0m\u001b[0;34m,\u001b[0m \u001b[0mX\u001b[0m\u001b[0;34m,\u001b[0m \u001b[0my\u001b[0m\u001b[0;34m,\u001b[0m \u001b[0mcurrent_mask\u001b[0m\u001b[0;34m\u001b[0m\u001b[0;34m\u001b[0m\u001b[0m\n\u001b[1;32m    278\u001b[0m             )\n",
            "\u001b[0;32m/usr/local/lib/python3.10/dist-packages/sklearn/feature_selection/_sequential.py\u001b[0m in \u001b[0;36m_get_best_new_feature_score\u001b[0;34m(self, estimator, X, y, current_mask)\u001b[0m\n\u001b[1;32m    305\u001b[0m                 \u001b[0mcandidate_mask\u001b[0m \u001b[0;34m=\u001b[0m \u001b[0;34m~\u001b[0m\u001b[0mcandidate_mask\u001b[0m\u001b[0;34m\u001b[0m\u001b[0;34m\u001b[0m\u001b[0m\n\u001b[1;32m    306\u001b[0m             \u001b[0mX_new\u001b[0m \u001b[0;34m=\u001b[0m \u001b[0mX\u001b[0m\u001b[0;34m[\u001b[0m\u001b[0;34m:\u001b[0m\u001b[0;34m,\u001b[0m \u001b[0mcandidate_mask\u001b[0m\u001b[0;34m]\u001b[0m\u001b[0;34m\u001b[0m\u001b[0;34m\u001b[0m\u001b[0m\n\u001b[0;32m--> 307\u001b[0;31m             scores[feature_idx] = cross_val_score(\n\u001b[0m\u001b[1;32m    308\u001b[0m                 \u001b[0mestimator\u001b[0m\u001b[0;34m,\u001b[0m\u001b[0;34m\u001b[0m\u001b[0;34m\u001b[0m\u001b[0m\n\u001b[1;32m    309\u001b[0m                 \u001b[0mX_new\u001b[0m\u001b[0;34m,\u001b[0m\u001b[0;34m\u001b[0m\u001b[0;34m\u001b[0m\u001b[0m\n",
            "\u001b[0;32m/usr/local/lib/python3.10/dist-packages/sklearn/model_selection/_validation.py\u001b[0m in \u001b[0;36mcross_val_score\u001b[0;34m(estimator, X, y, groups, scoring, cv, n_jobs, verbose, fit_params, pre_dispatch, error_score)\u001b[0m\n\u001b[1;32m    513\u001b[0m     \u001b[0mscorer\u001b[0m \u001b[0;34m=\u001b[0m \u001b[0mcheck_scoring\u001b[0m\u001b[0;34m(\u001b[0m\u001b[0mestimator\u001b[0m\u001b[0;34m,\u001b[0m \u001b[0mscoring\u001b[0m\u001b[0;34m=\u001b[0m\u001b[0mscoring\u001b[0m\u001b[0;34m)\u001b[0m\u001b[0;34m\u001b[0m\u001b[0;34m\u001b[0m\u001b[0m\n\u001b[1;32m    514\u001b[0m \u001b[0;34m\u001b[0m\u001b[0m\n\u001b[0;32m--> 515\u001b[0;31m     cv_results = cross_validate(\n\u001b[0m\u001b[1;32m    516\u001b[0m         \u001b[0mestimator\u001b[0m\u001b[0;34m=\u001b[0m\u001b[0mestimator\u001b[0m\u001b[0;34m,\u001b[0m\u001b[0;34m\u001b[0m\u001b[0;34m\u001b[0m\u001b[0m\n\u001b[1;32m    517\u001b[0m         \u001b[0mX\u001b[0m\u001b[0;34m=\u001b[0m\u001b[0mX\u001b[0m\u001b[0;34m,\u001b[0m\u001b[0;34m\u001b[0m\u001b[0;34m\u001b[0m\u001b[0m\n",
            "\u001b[0;32m/usr/local/lib/python3.10/dist-packages/sklearn/model_selection/_validation.py\u001b[0m in \u001b[0;36mcross_validate\u001b[0;34m(estimator, X, y, groups, scoring, cv, n_jobs, verbose, fit_params, pre_dispatch, return_train_score, return_estimator, error_score)\u001b[0m\n\u001b[1;32m    264\u001b[0m     \u001b[0;31m# independent, and that it is pickle-able.\u001b[0m\u001b[0;34m\u001b[0m\u001b[0;34m\u001b[0m\u001b[0m\n\u001b[1;32m    265\u001b[0m     \u001b[0mparallel\u001b[0m \u001b[0;34m=\u001b[0m \u001b[0mParallel\u001b[0m\u001b[0;34m(\u001b[0m\u001b[0mn_jobs\u001b[0m\u001b[0;34m=\u001b[0m\u001b[0mn_jobs\u001b[0m\u001b[0;34m,\u001b[0m \u001b[0mverbose\u001b[0m\u001b[0;34m=\u001b[0m\u001b[0mverbose\u001b[0m\u001b[0;34m,\u001b[0m \u001b[0mpre_dispatch\u001b[0m\u001b[0;34m=\u001b[0m\u001b[0mpre_dispatch\u001b[0m\u001b[0;34m)\u001b[0m\u001b[0;34m\u001b[0m\u001b[0;34m\u001b[0m\u001b[0m\n\u001b[0;32m--> 266\u001b[0;31m     results = parallel(\n\u001b[0m\u001b[1;32m    267\u001b[0m         delayed(_fit_and_score)(\n\u001b[1;32m    268\u001b[0m             \u001b[0mclone\u001b[0m\u001b[0;34m(\u001b[0m\u001b[0mestimator\u001b[0m\u001b[0;34m)\u001b[0m\u001b[0;34m,\u001b[0m\u001b[0;34m\u001b[0m\u001b[0;34m\u001b[0m\u001b[0m\n",
            "\u001b[0;32m/usr/local/lib/python3.10/dist-packages/sklearn/utils/parallel.py\u001b[0m in \u001b[0;36m__call__\u001b[0;34m(self, iterable)\u001b[0m\n\u001b[1;32m     61\u001b[0m             \u001b[0;32mfor\u001b[0m \u001b[0mdelayed_func\u001b[0m\u001b[0;34m,\u001b[0m \u001b[0margs\u001b[0m\u001b[0;34m,\u001b[0m \u001b[0mkwargs\u001b[0m \u001b[0;32min\u001b[0m \u001b[0miterable\u001b[0m\u001b[0;34m\u001b[0m\u001b[0;34m\u001b[0m\u001b[0m\n\u001b[1;32m     62\u001b[0m         )\n\u001b[0;32m---> 63\u001b[0;31m         \u001b[0;32mreturn\u001b[0m \u001b[0msuper\u001b[0m\u001b[0;34m(\u001b[0m\u001b[0;34m)\u001b[0m\u001b[0;34m.\u001b[0m\u001b[0m__call__\u001b[0m\u001b[0;34m(\u001b[0m\u001b[0miterable_with_config\u001b[0m\u001b[0;34m)\u001b[0m\u001b[0;34m\u001b[0m\u001b[0;34m\u001b[0m\u001b[0m\n\u001b[0m\u001b[1;32m     64\u001b[0m \u001b[0;34m\u001b[0m\u001b[0m\n\u001b[1;32m     65\u001b[0m \u001b[0;34m\u001b[0m\u001b[0m\n",
            "\u001b[0;32m/usr/local/lib/python3.10/dist-packages/joblib/parallel.py\u001b[0m in \u001b[0;36m__call__\u001b[0;34m(self, iterable)\u001b[0m\n\u001b[1;32m   2005\u001b[0m         \u001b[0mnext\u001b[0m\u001b[0;34m(\u001b[0m\u001b[0moutput\u001b[0m\u001b[0;34m)\u001b[0m\u001b[0;34m\u001b[0m\u001b[0;34m\u001b[0m\u001b[0m\n\u001b[1;32m   2006\u001b[0m \u001b[0;34m\u001b[0m\u001b[0m\n\u001b[0;32m-> 2007\u001b[0;31m         \u001b[0;32mreturn\u001b[0m \u001b[0moutput\u001b[0m \u001b[0;32mif\u001b[0m \u001b[0mself\u001b[0m\u001b[0;34m.\u001b[0m\u001b[0mreturn_generator\u001b[0m \u001b[0;32melse\u001b[0m \u001b[0mlist\u001b[0m\u001b[0;34m(\u001b[0m\u001b[0moutput\u001b[0m\u001b[0;34m)\u001b[0m\u001b[0;34m\u001b[0m\u001b[0;34m\u001b[0m\u001b[0m\n\u001b[0m\u001b[1;32m   2008\u001b[0m \u001b[0;34m\u001b[0m\u001b[0m\n\u001b[1;32m   2009\u001b[0m     \u001b[0;32mdef\u001b[0m \u001b[0m__repr__\u001b[0m\u001b[0;34m(\u001b[0m\u001b[0mself\u001b[0m\u001b[0;34m)\u001b[0m\u001b[0;34m:\u001b[0m\u001b[0;34m\u001b[0m\u001b[0;34m\u001b[0m\u001b[0m\n",
            "\u001b[0;32m/usr/local/lib/python3.10/dist-packages/joblib/parallel.py\u001b[0m in \u001b[0;36m_get_outputs\u001b[0;34m(self, iterator, pre_dispatch)\u001b[0m\n\u001b[1;32m   1648\u001b[0m \u001b[0;34m\u001b[0m\u001b[0m\n\u001b[1;32m   1649\u001b[0m             \u001b[0;32mwith\u001b[0m \u001b[0mself\u001b[0m\u001b[0;34m.\u001b[0m\u001b[0m_backend\u001b[0m\u001b[0;34m.\u001b[0m\u001b[0mretrieval_context\u001b[0m\u001b[0;34m(\u001b[0m\u001b[0;34m)\u001b[0m\u001b[0;34m:\u001b[0m\u001b[0;34m\u001b[0m\u001b[0;34m\u001b[0m\u001b[0m\n\u001b[0;32m-> 1650\u001b[0;31m                 \u001b[0;32myield\u001b[0m \u001b[0;32mfrom\u001b[0m \u001b[0mself\u001b[0m\u001b[0;34m.\u001b[0m\u001b[0m_retrieve\u001b[0m\u001b[0;34m(\u001b[0m\u001b[0;34m)\u001b[0m\u001b[0;34m\u001b[0m\u001b[0;34m\u001b[0m\u001b[0m\n\u001b[0m\u001b[1;32m   1651\u001b[0m \u001b[0;34m\u001b[0m\u001b[0m\n\u001b[1;32m   1652\u001b[0m         \u001b[0;32mexcept\u001b[0m \u001b[0mGeneratorExit\u001b[0m\u001b[0;34m:\u001b[0m\u001b[0;34m\u001b[0m\u001b[0;34m\u001b[0m\u001b[0m\n",
            "\u001b[0;32m/usr/local/lib/python3.10/dist-packages/joblib/parallel.py\u001b[0m in \u001b[0;36m_retrieve\u001b[0;34m(self)\u001b[0m\n\u001b[1;32m   1760\u001b[0m                 (self._jobs[0].get_status(\n\u001b[1;32m   1761\u001b[0m                     timeout=self.timeout) == TASK_PENDING)):\n\u001b[0;32m-> 1762\u001b[0;31m                 \u001b[0mtime\u001b[0m\u001b[0;34m.\u001b[0m\u001b[0msleep\u001b[0m\u001b[0;34m(\u001b[0m\u001b[0;36m0.01\u001b[0m\u001b[0;34m)\u001b[0m\u001b[0;34m\u001b[0m\u001b[0;34m\u001b[0m\u001b[0m\n\u001b[0m\u001b[1;32m   1763\u001b[0m                 \u001b[0;32mcontinue\u001b[0m\u001b[0;34m\u001b[0m\u001b[0;34m\u001b[0m\u001b[0m\n\u001b[1;32m   1764\u001b[0m \u001b[0;34m\u001b[0m\u001b[0m\n",
            "\u001b[0;31mKeyboardInterrupt\u001b[0m: "
          ]
        }
      ]
    },
    {
      "cell_type": "code",
      "source": [
        "results_kbest_df = pd.DataFrame(results_kbest)\n",
        "results_kbest_df.to_csv(\"/content/drive/MyDrive/EC_Tower/result/feature_selection_kbest_results.csv\", index=False)\n",
        "\n",
        "\n",
        "results_rfe_df = pd.DataFrame(results_rfe)\n",
        "results_rfe_df.to_csv(\"/content/drive/MyDrive/EC_Tower/result/feature_selection_rfe_results.csv\", index=False)\n",
        "\n",
        "\n",
        "results_tree_based_df = pd.DataFrame(results_tree_based)\n",
        "results_tree_based_df.to_csv(\"/content/drive/MyDrive/EC_Tower/result/feature_selection_tree_based_results.csv\", index=False)\n",
        "\n",
        "\n",
        "results_lasso_df = pd.DataFrame(results_lasso)\n",
        "results_lasso_df.to_csv(\"/content/drive/MyDrive/EC_Tower/result/feature_selection_lasso_results.csv\", index=False)"
      ],
      "metadata": {
        "id": "QVMuCQXc9OKi"
      },
      "execution_count": 24,
      "outputs": []
    },
    {
      "cell_type": "markdown",
      "source": [
        "# yearly data"
      ],
      "metadata": {
        "id": "SjUtpBdcbtYN"
      }
    },
    {
      "cell_type": "code",
      "source": [
        "# Factorize the column\n",
        "yearly_data['category_encoded_Site_ID'], _ = pd.factorize(yearly_data['Site_ID'])\n",
        "yearly_data['category_encoded_General_classification'], _ = pd.factorize(yearly_data['General_classification'])\n",
        "yearly_data['category_encoded_Land_cover_details'], _ = pd.factorize(yearly_data['Land_cover_details'])\n",
        "yearly_data['category_encoded_Land_cover_type'], _ = pd.factorize(yearly_data['Land_cover_type'])"
      ],
      "metadata": {
        "id": "nc4hTOejQdiL"
      },
      "execution_count": 9,
      "outputs": []
    },
    {
      "cell_type": "code",
      "source": [
        "# Assuming 'df' is your dataframe and 'target' is your target column\n",
        "X = yearly_data.drop(['ET_fill', 'Site_ID', 'General_classification', 'Land_cover_details', 'Land_cover_type'], axis =1)\n",
        "y = yearly_data['ET_fill']\n",
        "\n",
        "# Standardize features\n",
        "scaler = StandardScaler()\n",
        "X_scaled = scaler.fit_transform(X)\n",
        "\n",
        "# Define estimators\n",
        "estimators = {\n",
        "    'RandomForestRegressor': RandomForestRegressor(),\n",
        "    'RidgeCV': RidgeCV(),\n",
        "    'DecisionTreeRegressor': DecisionTreeRegressor(),\n",
        "    'KNeighborsRegressor': KNeighborsRegressor(),\n",
        "    'GradientBoostingRegressor': GradientBoostingRegressor(),\n",
        "    'MLPRegressor': MLPRegressor()\n",
        "}\n",
        "\n",
        "# Number of features to select\n",
        "n_features_to_select = 4"
      ],
      "metadata": {
        "id": "7uNToqTFQoT2"
      },
      "execution_count": 10,
      "outputs": []
    },
    {
      "cell_type": "markdown",
      "source": [
        "## SelectKBest"
      ],
      "metadata": {
        "id": "bdw5ahdScFjx"
      }
    },
    {
      "cell_type": "code",
      "source": [
        "# 1. SelectKBest (optimized)\n",
        "results_kbest_y = []\n",
        "selector = SelectKBest(score_func=f_regression, k=n_features_to_select)\n",
        "X_new = selector.fit_transform(X_scaled, y)\n",
        "selected_features = X.columns[selector.get_support()].tolist()\n",
        "\n",
        "for est_name, estimator in tqdm(estimators.items()):\n",
        "\n",
        "  scores = cross_val_score(estimator, X_new, y, cv=5, scoring='r2')\n",
        "  print(f\"\\n{est_name}:\")\n",
        "  print(f\"Mean R-squared score: {scores.mean():.3f} (+/- {scores.std() * 2:.3f})\")\n",
        "  results_kbest_y.append({\n",
        "      'Method': 'SelectKBest',\n",
        "      'Estimator': est_name,\n",
        "      'Selected Features': ', '.join(selected_features),\n",
        "      'R2 Score': scores.mean(),\n",
        "      'R2 Std': scores.std()\n",
        "  })\n"
      ],
      "metadata": {
        "colab": {
          "base_uri": "https://localhost:8080/"
        },
        "id": "uMzbNemKbxlM",
        "outputId": "f23574d9-ec97-4597-924c-794bda01a01b"
      },
      "execution_count": 11,
      "outputs": [
        {
          "output_type": "stream",
          "name": "stderr",
          "text": [
            " 17%|█▋        | 1/6 [00:02<00:14,  2.89s/it]"
          ]
        },
        {
          "output_type": "stream",
          "name": "stdout",
          "text": [
            "\n",
            "RandomForestRegressor:\n",
            "Mean R-squared score: -1.277 (+/- 4.718)\n",
            "\n",
            "RidgeCV:\n",
            "Mean R-squared score: -0.311 (+/- 3.145)\n"
          ]
        },
        {
          "output_type": "stream",
          "name": "stderr",
          "text": [
            " 67%|██████▋   | 4/6 [00:03<00:01,  1.65it/s]"
          ]
        },
        {
          "output_type": "stream",
          "name": "stdout",
          "text": [
            "\n",
            "DecisionTreeRegressor:\n",
            "Mean R-squared score: -1.529 (+/- 3.609)\n",
            "\n",
            "KNeighborsRegressor:\n",
            "Mean R-squared score: -1.487 (+/- 5.828)\n"
          ]
        },
        {
          "output_type": "stream",
          "name": "stderr",
          "text": [
            "\r 83%|████████▎ | 5/6 [00:05<00:01,  1.16s/it]"
          ]
        },
        {
          "output_type": "stream",
          "name": "stdout",
          "text": [
            "\n",
            "GradientBoostingRegressor:\n",
            "Mean R-squared score: -1.096 (+/- 5.076)\n"
          ]
        },
        {
          "output_type": "stream",
          "name": "stderr",
          "text": [
            "/usr/local/lib/python3.10/dist-packages/sklearn/neural_network/_multilayer_perceptron.py:686: ConvergenceWarning: Stochastic Optimizer: Maximum iterations (200) reached and the optimization hasn't converged yet.\n",
            "  warnings.warn(\n",
            "/usr/local/lib/python3.10/dist-packages/sklearn/neural_network/_multilayer_perceptron.py:686: ConvergenceWarning: Stochastic Optimizer: Maximum iterations (200) reached and the optimization hasn't converged yet.\n",
            "  warnings.warn(\n",
            "/usr/local/lib/python3.10/dist-packages/sklearn/neural_network/_multilayer_perceptron.py:686: ConvergenceWarning: Stochastic Optimizer: Maximum iterations (200) reached and the optimization hasn't converged yet.\n",
            "  warnings.warn(\n",
            "/usr/local/lib/python3.10/dist-packages/sklearn/neural_network/_multilayer_perceptron.py:686: ConvergenceWarning: Stochastic Optimizer: Maximum iterations (200) reached and the optimization hasn't converged yet.\n",
            "  warnings.warn(\n",
            "/usr/local/lib/python3.10/dist-packages/sklearn/neural_network/_multilayer_perceptron.py:686: ConvergenceWarning: Stochastic Optimizer: Maximum iterations (200) reached and the optimization hasn't converged yet.\n",
            "  warnings.warn(\n",
            "100%|██████████| 6/6 [01:27<00:00, 14.61s/it]"
          ]
        },
        {
          "output_type": "stream",
          "name": "stdout",
          "text": [
            "\n",
            "MLPRegressor:\n",
            "Mean R-squared score: -0.226 (+/- 3.164)\n"
          ]
        },
        {
          "output_type": "stream",
          "name": "stderr",
          "text": [
            "\n"
          ]
        }
      ]
    },
    {
      "cell_type": "code",
      "source": [
        "results_kbest_y_df = pd.DataFrame(results_kbest_y)\n",
        "results_kbest_y_df.to_csv(\"/content/drive/MyDrive/EC_Tower/result/feature_selection_kbest_yearly_results.csv\", index=False)"
      ],
      "metadata": {
        "id": "dYjvkrM3Roqo"
      },
      "execution_count": 12,
      "outputs": []
    },
    {
      "cell_type": "markdown",
      "source": [
        "## RFE"
      ],
      "metadata": {
        "id": "A42GM4_lcGkA"
      }
    },
    {
      "cell_type": "code",
      "source": [
        "# 2. RFE (not suitable for KNN)\n",
        "results_rfe_y = []\n",
        "for est_name, estimator in tqdm(estimators.items()):\n",
        "    if est_name not in ['KNeighborsRegressor', 'MLPRegressor']:\n",
        "        selector = RFE(estimator, n_features_to_select=n_features_to_select, step=1)\n",
        "        X_new = selector.fit_transform(X_scaled, y)\n",
        "        selected_features = X.columns[selector.support_].tolist()\n",
        "\n",
        "        scores = cross_val_score(estimator, X_new, y, cv=5, scoring='r2')\n",
        "        print(f\"\\n{est_name}:\")\n",
        "        print(f\"Mean R-squared score: {scores.mean():.3f} (+/- {scores.std() * 2:.3f})\")\n",
        "        results_rfe_y.append({\n",
        "            'Method': 'RFE',\n",
        "            'Estimator': est_name,\n",
        "            'Selected Features': ', '.join(selected_features),\n",
        "            'R2 Score': scores.mean(),\n",
        "            'R2 Std': scores.std()\n",
        "        })"
      ],
      "metadata": {
        "colab": {
          "base_uri": "https://localhost:8080/"
        },
        "id": "49NBZFKCcJsy",
        "outputId": "71e05156-5016-44ee-e269-50842db6bfed"
      },
      "execution_count": 13,
      "outputs": [
        {
          "output_type": "stream",
          "name": "stderr",
          "text": [
            " 17%|█▋        | 1/6 [00:28<02:24, 28.88s/it]"
          ]
        },
        {
          "output_type": "stream",
          "name": "stdout",
          "text": [
            "\n",
            "RandomForestRegressor:\n",
            "Mean R-squared score: -0.539 (+/- 4.188)\n"
          ]
        },
        {
          "output_type": "stream",
          "name": "stderr",
          "text": [
            " 50%|█████     | 3/6 [00:29<00:19,  6.63s/it]"
          ]
        },
        {
          "output_type": "stream",
          "name": "stdout",
          "text": [
            "\n",
            "RidgeCV:\n",
            "Mean R-squared score: -6.777 (+/- 26.093)\n",
            "\n",
            "DecisionTreeRegressor:\n",
            "Mean R-squared score: -0.659 (+/- 3.641)\n"
          ]
        },
        {
          "output_type": "stream",
          "name": "stderr",
          "text": [
            "100%|██████████| 6/6 [00:37<00:00,  6.18s/it]"
          ]
        },
        {
          "output_type": "stream",
          "name": "stdout",
          "text": [
            "\n",
            "GradientBoostingRegressor:\n",
            "Mean R-squared score: -0.352 (+/- 3.825)\n"
          ]
        },
        {
          "output_type": "stream",
          "name": "stderr",
          "text": [
            "\n"
          ]
        }
      ]
    },
    {
      "cell_type": "code",
      "source": [
        "results_rfe_y_df = pd.DataFrame(results_rfe_y)\n",
        "results_rfe_y_df.to_csv(\"/content/drive/MyDrive/EC_Tower/result/feature_selection_rfe_yearly_results.csv\", index=False)"
      ],
      "metadata": {
        "id": "QaxrUTVOSXp9"
      },
      "execution_count": 14,
      "outputs": []
    },
    {
      "cell_type": "markdown",
      "source": [
        "##  SelectFromModel"
      ],
      "metadata": {
        "id": "mvSA7ZF4cZwE"
      }
    },
    {
      "cell_type": "markdown",
      "source": [
        "### tree-based models"
      ],
      "metadata": {
        "id": "6v4ZI0D6cdHB"
      }
    },
    {
      "cell_type": "code",
      "source": [
        "# 3. Tree-based feature importance\n",
        "results_tree_based_y = []\n",
        "for est_name in ['DecisionTreeRegressor', 'GradientBoostingRegressor']:\n",
        "    estimator = estimators[est_name]\n",
        "    estimator.fit(X_scaled, y)\n",
        "    importances = estimator.feature_importances_\n",
        "    indices = np.argsort(importances)[-n_features_to_select:]\n",
        "    selected_features = X.columns[indices].tolist()\n",
        "\n",
        "    X_new = X_scaled[:, indices]\n",
        "    for eval_est_name, eval_estimator in estimators.items():\n",
        "        scores = cross_val_score(eval_estimator, X_new, y, cv=5, scoring='r2', n_jobs=-1)\n",
        "        print(f\"\\n{est_name}:\")\n",
        "        print(f\"\\n{eval_est_name}:\")\n",
        "        print(f\"Mean R-squared score: {scores.mean():.3f} (+/- {scores.std() * 2:.3f})\")\n",
        "        results_tree_based_y.append({\n",
        "            'Method': f'TreeBased-{est_name}',\n",
        "            'Estimator': eval_est_name,\n",
        "            'Selected Features': ', '.join(selected_features),\n",
        "            'R2 Score': scores.mean(),\n",
        "            'R2 Std': scores.std()\n",
        "        })\n"
      ],
      "metadata": {
        "colab": {
          "base_uri": "https://localhost:8080/"
        },
        "id": "Ka1DxFZ4cdd4",
        "outputId": "334c5b15-2317-4310-ad64-410c79786c38"
      },
      "execution_count": 15,
      "outputs": [
        {
          "output_type": "stream",
          "name": "stdout",
          "text": [
            "\n",
            "DecisionTreeRegressor:\n",
            "\n",
            "RandomForestRegressor:\n",
            "Mean R-squared score: -0.531 (+/- 4.162)\n",
            "\n",
            "DecisionTreeRegressor:\n",
            "\n",
            "RidgeCV:\n",
            "Mean R-squared score: -6.777 (+/- 26.093)\n",
            "\n",
            "DecisionTreeRegressor:\n",
            "\n",
            "DecisionTreeRegressor:\n",
            "Mean R-squared score: -0.678 (+/- 4.735)\n",
            "\n",
            "DecisionTreeRegressor:\n",
            "\n",
            "KNeighborsRegressor:\n",
            "Mean R-squared score: -0.470 (+/- 3.235)\n",
            "\n",
            "DecisionTreeRegressor:\n",
            "\n",
            "GradientBoostingRegressor:\n",
            "Mean R-squared score: -0.348 (+/- 3.857)\n",
            "\n",
            "DecisionTreeRegressor:\n",
            "\n",
            "MLPRegressor:\n",
            "Mean R-squared score: -4.636 (+/- 15.806)\n",
            "\n",
            "GradientBoostingRegressor:\n",
            "\n",
            "RandomForestRegressor:\n",
            "Mean R-squared score: -0.530 (+/- 4.150)\n",
            "\n",
            "GradientBoostingRegressor:\n",
            "\n",
            "RidgeCV:\n",
            "Mean R-squared score: -6.777 (+/- 26.093)\n",
            "\n",
            "GradientBoostingRegressor:\n",
            "\n",
            "DecisionTreeRegressor:\n",
            "Mean R-squared score: -0.484 (+/- 3.885)\n",
            "\n",
            "GradientBoostingRegressor:\n",
            "\n",
            "KNeighborsRegressor:\n",
            "Mean R-squared score: -0.470 (+/- 3.235)\n",
            "\n",
            "GradientBoostingRegressor:\n",
            "\n",
            "GradientBoostingRegressor:\n",
            "Mean R-squared score: -0.391 (+/- 3.908)\n",
            "\n",
            "GradientBoostingRegressor:\n",
            "\n",
            "MLPRegressor:\n",
            "Mean R-squared score: -4.901 (+/- 17.656)\n"
          ]
        }
      ]
    },
    {
      "cell_type": "code",
      "source": [
        "results_tree_based_y_df = pd.DataFrame(results_tree_based_y)\n",
        "results_tree_based_y_df.to_csv(\"/content/drive/MyDrive/EC_Tower/result/feature_selection_tree_based_yearly_results.csv\", index=False)"
      ],
      "metadata": {
        "id": "WBPkjKAXTJY5"
      },
      "execution_count": 16,
      "outputs": []
    },
    {
      "cell_type": "markdown",
      "source": [
        "### Lasso regularization"
      ],
      "metadata": {
        "id": "S7p8FpujckHa"
      }
    },
    {
      "cell_type": "code",
      "source": [
        "\n",
        "\n",
        "results_lasso_y = []\n",
        "# 4. Lasso regularization\n",
        "lasso_selector = LassoSelector(n_features_to_select=n_features_to_select)\n",
        "X_new = lasso_selector.fit_transform(X_scaled, y)\n",
        "selected_features = X.columns[lasso_selector.support_].tolist()\n",
        "\n",
        "for est_name, estimator in estimators.items():\n",
        "    scores = cross_val_score(estimator, X_new, y, cv=5, scoring='r2', n_jobs=-1)\n",
        "    print(f\"\\n{est_name}:\")\n",
        "    print(f\"Mean R-squared score: {scores.mean():.3f} (+/- {scores.std() * 2:.3f})\")\n",
        "    results_lasso_y.append({\n",
        "        'Method': 'Lasso',\n",
        "        'Estimator': est_name,\n",
        "        'Selected Features': ', '.join(selected_features),\n",
        "        'R2 Score': scores.mean(),\n",
        "        'R2 Std': scores.std()\n",
        "    })"
      ],
      "metadata": {
        "colab": {
          "base_uri": "https://localhost:8080/"
        },
        "id": "ShqS5f0gcllB",
        "outputId": "5d1dbe2b-d767-4196-c01f-ee5f3d5b3bb7"
      },
      "execution_count": 17,
      "outputs": [
        {
          "output_type": "stream",
          "name": "stdout",
          "text": [
            "\n",
            "RandomForestRegressor:\n",
            "Mean R-squared score: -0.515 (+/- 3.623)\n",
            "\n",
            "RidgeCV:\n",
            "Mean R-squared score: -1.715 (+/- 6.799)\n",
            "\n",
            "DecisionTreeRegressor:\n",
            "Mean R-squared score: -0.713 (+/- 3.987)\n",
            "\n",
            "KNeighborsRegressor:\n",
            "Mean R-squared score: -0.535 (+/- 3.449)\n",
            "\n",
            "GradientBoostingRegressor:\n",
            "Mean R-squared score: -0.448 (+/- 3.745)\n",
            "\n",
            "MLPRegressor:\n",
            "Mean R-squared score: -1.299 (+/- 6.472)\n"
          ]
        }
      ]
    },
    {
      "cell_type": "code",
      "source": [
        "results_lasso_y_df = pd.DataFrame(results_lasso_y)\n",
        "results_lasso_y_df.to_csv(\"/content/drive/MyDrive/EC_Tower/result/feature_selection_lasso_yearly_results.csv\", index=False)"
      ],
      "metadata": {
        "id": "YRoq8Sz2UNoG"
      },
      "execution_count": 18,
      "outputs": []
    },
    {
      "cell_type": "markdown",
      "source": [
        "##  Sequential Feature Selection"
      ],
      "metadata": {
        "id": "X6IiJOA7cztY"
      }
    },
    {
      "cell_type": "code",
      "source": [
        "# Initialize the estimator\n",
        "estimator = RandomForestRegressor()\n",
        "\n",
        "# Create the SequentialFeatureSelector\n",
        "# n_features_to_select: number of features to select\n",
        "# direction: 'forward' for forward selection, 'backward' for backward selection\n",
        "sfs = SequentialFeatureSelector(estimator, n_features_to_select=4, direction='forward')\n",
        "\n",
        "# Fit the selector\n",
        "sfs.fit(X, y)\n",
        "\n",
        "# Get the selected feature names\n",
        "selected_features = X.columns[sfs.get_support()].tolist()\n",
        "\n",
        "# Create new feature matrix with only selected features\n",
        "X_new = sfs.transform(X)\n",
        "\n",
        "# Evaluate the performance\n",
        "scores = cross_val_score(estimator, X_new, y, cv=5)\n",
        "print(\"SequentialFeatureSelector - Mean cross-validation score: {:.2f}\".format(scores.mean()))\n",
        "print(\"SequentialFeatureSelector - Selected features:\", selected_features)"
      ],
      "metadata": {
        "colab": {
          "base_uri": "https://localhost:8080/"
        },
        "id": "nUrtcLmHc0LI",
        "outputId": "7255aafc-dd5e-48df-9eb1-473af6b8e880"
      },
      "execution_count": null,
      "outputs": [
        {
          "output_type": "stream",
          "name": "stdout",
          "text": [
            "SequentialFeatureSelector - Mean cross-validation score: -0.07\n",
            "SequentialFeatureSelector - Selected features: ['aet_budyko_hargreaves', 'aet_budyko_abtew', 'latitude', 'Elevation']\n"
          ]
        }
      ]
    },
    {
      "cell_type": "markdown",
      "source": [
        "# decade data"
      ],
      "metadata": {
        "id": "bR9OPuGthO4p"
      }
    },
    {
      "cell_type": "markdown",
      "source": [
        "## SelectKBest"
      ],
      "metadata": {
        "id": "8UBUb0Z3hO5F"
      }
    },
    {
      "cell_type": "code",
      "source": [
        "# Assuming 'df' is your dataframe and 'target' is your target column\n",
        "X = decade_data.drop(['ET_fill', 'Site_ID', 'General_classification', 'Land_cover_details', 'Land_cover_type'], axis =1)\n",
        "y = decade_data['ET_fill']\n",
        "\n",
        "# Select top k features\n",
        "selector = SelectKBest(score_func=f_regression, k=4)\n",
        "X_new = selector.fit_transform(X, y)\n",
        "\n",
        "\n",
        "# Get selected feature names\n",
        "selected_features = X.columns[selector.get_support()]\n",
        "\n",
        "\n",
        "rf = RandomForestRegressor()\n",
        "scores = cross_val_score(rf, X_new, y, cv=5)\n",
        "\n",
        "\n",
        "print(\"Mean cross-validation score: {:.2f}\".format(scores.mean()))\n",
        "print(\"SelectKBest - Selected features:\", selected_features)"
      ],
      "metadata": {
        "outputId": "e9be4a13-1406-42a1-8819-57bc1eb5fe76",
        "colab": {
          "base_uri": "https://localhost:8080/"
        },
        "id": "HfFGnZEHhO5F"
      },
      "execution_count": null,
      "outputs": [
        {
          "output_type": "stream",
          "name": "stdout",
          "text": [
            "Mean cross-validation score: 0.03\n",
            "SelectKBest - Selected features: Index(['aet_budyko_oudin', 'aet_budyko_hargreaves', 'aet_budyko_abtew',\n",
            "       'aet_budyko_mcguinness_bordne'],\n",
            "      dtype='object')\n"
          ]
        }
      ]
    },
    {
      "cell_type": "markdown",
      "source": [
        "## RFE"
      ],
      "metadata": {
        "id": "wxMVcORChiRq"
      }
    },
    {
      "cell_type": "code",
      "source": [
        "\n",
        "\n",
        "# Standardize features\n",
        "scaler = StandardScaler()\n",
        "X_scaled = scaler.fit_transform(X)\n",
        "\n",
        "# Create and fit RFE\n",
        "estimator = RandomForestRegressor()\n",
        "selector = RFE(estimator, n_features_to_select=4, step=1)\n",
        "X_new = selector.fit_transform(X_scaled, y)\n",
        "\n",
        "# Get selected feature names\n",
        "selected_features = X.columns[selector.support_]\n",
        "\n",
        "# Evaluate\n",
        "rf = RandomForestRegressor()\n",
        "scores = cross_val_score(rf, X_new, y, cv=5)\n",
        "\n",
        "print(\"RFE - Mean cross-validation score: {:.2f}\".format(scores.mean()))\n",
        "print(\"RFE - Selected features:\", selected_features)"
      ],
      "metadata": {
        "outputId": "f0eec355-c17e-4efb-fcd3-14da11d5da83",
        "colab": {
          "base_uri": "https://localhost:8080/"
        },
        "id": "EzcOisXehiRr"
      },
      "execution_count": null,
      "outputs": [
        {
          "output_type": "stream",
          "name": "stdout",
          "text": [
            "RFE - Mean cross-validation score: 0.15\n",
            "RFE - Selected features: Index(['Month', 'aet_budyko_oudin', 'aet_budyko_hargreaves', 'latitude'], dtype='object')\n"
          ]
        }
      ]
    },
    {
      "cell_type": "markdown",
      "source": [
        "##  SelectFromModel"
      ],
      "metadata": {
        "id": "Nc8-H3gwhiRt"
      }
    },
    {
      "cell_type": "markdown",
      "source": [
        "### tree-based models"
      ],
      "metadata": {
        "id": "cGedgJz_hiRu"
      }
    },
    {
      "cell_type": "code",
      "source": [
        "from sklearn.ensemble import RandomForestRegressor\n",
        "import pandas as pd\n",
        "\n",
        "# Fit Random Forest\n",
        "rf = RandomForestRegressor()\n",
        "rf.fit(X, y)\n",
        "\n",
        "# Get feature importances\n",
        "feature_importance = pd.DataFrame({'feature': X.columns, 'importance': rf.feature_importances_})\n",
        "feature_importance = feature_importance.sort_values('importance', ascending=False)\n",
        "\n",
        "# Select top 4 features\n",
        "top_features = feature_importance['feature'][:4].tolist()\n",
        "X_new = X[top_features]\n",
        "\n",
        "# Evaluate\n",
        "scores = cross_val_score(rf, X_new, y, cv=5)\n",
        "print(\"Random Forest - Mean cross-validation score: {:.2f}\".format(scores.mean()))\n",
        "print(\"Random Forest - Selected features:\", top_features)"
      ],
      "metadata": {
        "outputId": "ca436f05-b70f-478f-f813-437b7d802a82",
        "colab": {
          "base_uri": "https://localhost:8080/"
        },
        "id": "bDRkel39hiRu"
      },
      "execution_count": null,
      "outputs": [
        {
          "output_type": "stream",
          "name": "stdout",
          "text": [
            "Random Forest - Mean cross-validation score: 0.15\n",
            "Random Forest - Selected features: ['aet_budyko_hargreaves', 'aet_budyko_oudin', 'latitude', 'Month']\n"
          ]
        }
      ]
    },
    {
      "cell_type": "markdown",
      "source": [
        "### Lasso regularization"
      ],
      "metadata": {
        "id": "J9yBQ-y2hiRx"
      }
    },
    {
      "cell_type": "code",
      "source": [
        "\n",
        "\n",
        "# Standardize features\n",
        "scaler = StandardScaler()\n",
        "X_scaled = scaler.fit_transform(X)\n",
        "\n",
        "# Fit Lasso\n",
        "lasso = Lasso(alpha=0.1)\n",
        "lasso.fit(X_scaled, y)\n",
        "\n",
        "# Get feature importances\n",
        "feature_importance = pd.DataFrame({'feature': X.columns, 'importance': np.abs(lasso.coef_)})\n",
        "feature_importance = feature_importance.sort_values('importance', ascending=False)\n",
        "\n",
        "# Select features with non-zero coefficients\n",
        "selected_features = feature_importance[feature_importance['importance'] > 0]['feature'].tolist()\n",
        "X_new = X[selected_features]\n",
        "\n",
        "# Evaluate\n",
        "rf = RandomForestRegressor()\n",
        "scores = cross_val_score(rf, X_new, y, cv=5)\n",
        "print(\"Lasso - Mean cross-validation score: {:.2f}\".format(scores.mean()))\n",
        "print(\"Lasso - Selected features:\", selected_features)"
      ],
      "metadata": {
        "outputId": "a5988442-d4f9-4996-959a-227270f448de",
        "colab": {
          "base_uri": "https://localhost:8080/"
        },
        "id": "fvKko8hEhiRx"
      },
      "execution_count": null,
      "outputs": [
        {
          "output_type": "stream",
          "name": "stdout",
          "text": [
            "Lasso - Mean cross-validation score: 0.26\n",
            "Lasso - Selected features: ['aet_budyko_hargreaves', 'latitude', 'Elevation', 'Month']\n"
          ]
        }
      ]
    },
    {
      "cell_type": "markdown",
      "source": [
        "##  Sequential Feature Selection"
      ],
      "metadata": {
        "id": "25UjTDv-hiRy"
      }
    },
    {
      "cell_type": "code",
      "source": [
        "# Initialize the estimator\n",
        "estimator = RandomForestRegressor()\n",
        "\n",
        "# Create the SequentialFeatureSelector\n",
        "# n_features_to_select: number of features to select\n",
        "# direction: 'forward' for forward selection, 'backward' for backward selection\n",
        "sfs = SequentialFeatureSelector(estimator, n_features_to_select=4, direction='forward')\n",
        "\n",
        "# Fit the selector\n",
        "sfs.fit(X, y)\n",
        "\n",
        "# Get the selected feature names\n",
        "selected_features = X.columns[sfs.get_support()].tolist()\n",
        "\n",
        "# Create new feature matrix with only selected features\n",
        "X_new = sfs.transform(X)\n",
        "\n",
        "# Evaluate the performance\n",
        "scores = cross_val_score(estimator, X_new, y, cv=5)\n",
        "print(\"SequentialFeatureSelector - Mean cross-validation score: {:.2f}\".format(scores.mean()))\n",
        "print(\"SequentialFeatureSelector - Selected features:\", selected_features)"
      ],
      "metadata": {
        "id": "2B_omyiQhiRz"
      },
      "execution_count": null,
      "outputs": []
    }
  ],
  "metadata": {
    "language_info": {
      "name": "python"
    },
    "colab": {
      "provenance": []
    },
    "kernelspec": {
      "name": "python3",
      "display_name": "Python 3"
    }
  },
  "nbformat": 4,
  "nbformat_minor": 0
}