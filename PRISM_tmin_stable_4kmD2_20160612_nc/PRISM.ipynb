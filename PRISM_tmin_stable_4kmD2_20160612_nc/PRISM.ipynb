{
 "cells": [
  {
   "cell_type": "code",
   "execution_count": null,
   "metadata": {},
   "outputs": [],
   "source": [
    "import geopandas as gpd\n",
    "soa_shape_map_path = '/home/mahdi/data/PRISM_tmin_stable_4kmD2_20160612_nc/doc_2024-03-26_15-21-36.gridpoint_2000.shp/.gridpoint_2000.shp.shp'\n",
    "sub_basin_path = '/home/mahdi/data/PRISM_tmin_stable_4kmD2_20160612_nc/central_valley_3857/central_valley_3857.shp'\n",
    "\n",
    "soa_shape_map = gpd.read_file(soa_shape_map_path)\n",
    "sub_basin_map = gpd.read_file(sub_basin_path)\n",
    "\n",
    "soa_shape_map_geo = soa_shape_map.to_crs(epsg=4326)\n",
    "sub_basin_map_geo = sub_basin_map.to_crs(epsg=4326)\n",
    "\n",
    "sub_basin_1 = sub_basin_map_geo[sub_basin_map_geo['Subregion_'] == 1]\n",
    "\n",
    "\n"
   ]
  },
  {
   "cell_type": "code",
   "execution_count": null,
   "metadata": {},
   "outputs": [],
   "source": [
    "clipped_points = gpd.clip(soa_shape_map_geo, sub_basin_1)\n",
    "\n",
    "lat_lon_tuples = list(zip(clipped_points.geometry.y, clipped_points.geometry.x))\n"
   ]
  },
  {
   "cell_type": "code",
   "execution_count": null,
   "metadata": {},
   "outputs": [],
   "source": [
    "import datetime\n",
    "\n",
    "def generate_time_series(start_date, end_date, freq):\n",
    "    \"\"\"\n",
    "    Generate a time series of dates in the format \"YYYYMMDD\".\n",
    "\n",
    "    Args:\n",
    "        start_date (str): The start date in the format \"YYYY-MM-DD\".\n",
    "        end_date (str): The end date in the format \"YYYY-MM-DD\".\n",
    "        freq (str): The frequency of the time series. Possible values are\n",
    "            \"D\" (daily), \"W\" (weekly), \"M\" (monthly), etc.\n",
    "\n",
    "    Returns:\n",
    "        list: A list of dates in the format \"YYYYMMDD\".\n",
    "    \"\"\"\n",
    "    date_series = []\n",
    "    start = datetime.datetime.strptime(start_date, \"%Y-%m-%d\")\n",
    "    end = datetime.datetime.strptime(end_date, \"%Y-%m-%d\")\n",
    "    current_date = start\n",
    "\n",
    "    while current_date <= end:\n",
    "        date_series.append(current_date.strftime(\"%Y%m%d\"))\n",
    "        current_date += datetime.timedelta(days=1) if freq == \"D\" else datetime.timedelta(weeks=1) if freq == \"W\" else datetime.timedelta(days=30.4375)\n",
    "\n",
    "    return date_series"
   ]
  },
  {
   "cell_type": "code",
   "execution_count": null,
   "metadata": {},
   "outputs": [],
   "source": [
    "import requests\n",
    "import pandas as pd\n",
    "\n",
    "def download_file(url):\n",
    "  \"\"\"Downloads a file from the given URL and saves it locally.\"\"\"\n",
    "  local_filename = url.split('/')[-1]\n",
    "  # NOTE the stream=True parameter below\n",
    "  with requests.get(url, stream=True) as r:\n",
    "    r.raise_for_status()\n",
    "    with open(local_filename, 'wb') as f:\n",
    "      for chunk in r.iter_content(chunk_size=8192): \n",
    "        f.write(chunk)\n",
    "  return local_filename\n",
    "\n",
    "\n",
    "def download_prism_data(lat_lon_tuples, output_folder):\n",
    "  \"\"\"Downloads PIRISM data for a list of latitude and longitude tuples.\n",
    "\n",
    "  Args:\n",
    "    lat_lon_tuples: A list of tuples containing (latitude, longitude) coordinates.\n",
    "    output_folder: The folder where downloaded data files will be saved.\n",
    "  \"\"\"\n",
    "  session = requests.Session()\n",
    "  base_url = \"https://prism.oregonstate.edu/explorer/dataexplorer/rpc.php\"\n",
    "  data = {\n",
    "    \"spares\": \"4km\",\n",
    "    \"interp\": \"0\",\n",
    "    \"stats\": \"ppt tmin tmean tmax\",  # You can customize the variables here\n",
    "    \"units\": \"si\",\n",
    "    \"range\": \"daily\",\n",
    "    \"start\": \"19910101\",\n",
    "    \"end\": \"20201231\",\n",
    "    \"stability\": \"stable\",\n",
    "    \"call\": \"pp/daily_timeseries\",\n",
    "    \"proc\": \"gridserv\"\n",
    "  }\n",
    "  headers = {\n",
    "    \"Accept\": \"application/json, text/javascript, */*; q=0.01\",\n",
    "    \"Accept-Encoding\": \"gzip, deflate, br\",\n",
    "    \"Content-Type\": \"application/x-www-form-urlencoded; charset=UTF-8\",\n",
    "    \"User-Agent\": \"Mozilla/5.0 (Windows NT 10.0; Win64; x64; rv:123.0) Gecko/20100101 Firefox/123.0\",\n",
    "    \"DNT\": \"1\",\n",
    "    \"Sec-GPC\": \"1\",\n",
    "  }\n",
    "\n",
    "  for lat, lon in lat_lon_tuples:\n",
    "    data[\"lat\"] = str(lat)\n",
    "    data[\"lon\"] = str(lon)\n",
    "    response = session.post(base_url, data=data, headers=headers)\n",
    "    res_json = response.json()\n",
    "\n",
    "    \n",
    "    download_url = \"https://prism.oregonstate.edu/explorer/tmp/\" + res_json[\"result\"][\"csv\"]\n",
    "    filename = f\"{output_folder}/{lat}_{lon}.csv\"  # Customize filename format\n",
    "    download_file(download_url)\n",
    "    print(f\"Downloaded data for ({lat}, {lon}) to {filename}\")\n",
    "    \n"
   ]
  },
  {
   "cell_type": "code",
   "execution_count": null,
   "metadata": {},
   "outputs": [],
   "source": [
    "# Example usage\n",
    "output_folder = \"/home/mahdi/data/export\"  # Change this if needed\n",
    "download_prism_data(lat_lon_tuples, output_folder)"
   ]
  },
  {
   "cell_type": "code",
   "execution_count": null,
   "metadata": {},
   "outputs": [],
   "source": [
    "import requests\n",
    "import pandas as pd\n",
    "\n",
    "def download_file(url):\n",
    "    local_filename = url.split('/')[-1]\n",
    "    # NOTE the stream=True parameter below\n",
    "    with requests.get(url, stream=True) as r:\n",
    "        r.raise_for_status()\n",
    "        with open(local_filename, 'wb') as f:\n",
    "            for chunk in r.iter_content(chunk_size=8192): \n",
    "                # If you have chunk encoded response uncomment if\n",
    "                # and set chunk_size parameter to None.\n",
    "                #if chunk: \n",
    "                f.write(chunk)\n",
    "    return local_filename\n",
    "\n",
    "\n",
    "\n",
    "\n",
    "\n",
    "\n",
    "for lat, lon in lat_lon_tuples:\n",
    "    session = requests.Session()\n",
    "    response = session.post(\"https://prism.oregonstate.edu/explorer/dataexplorer/rpc.php\",\n",
    "                            data={\n",
    "                                \"spares\": \"4km\",\n",
    "                                \"interp\": \"0\",\n",
    "                                \"stats\": \"ppt tmin tmean tmax\",\n",
    "                                \"units\": \"si\",\n",
    "                                \"range\": \"daily\",\n",
    "                                \"start\": \"19910101\",\n",
    "                                \"end\": \"20201231\",\n",
    "                                \"stability\": \"stable\",\n",
    "                                \"lon\": str(lon),\n",
    "                                \"lat\": str(lat),\n",
    "                                \"elev\": \"8\",\n",
    "                                \"call\": \"pp/daily_timeseries\",\n",
    "                                \"proc\": \"gridserv\"\n",
    "                            },\n",
    "                            headers={\n",
    "                                \"Accept\": \"application/json, text/javascript, */*; q=0.01\",\n",
    "                                \"Accept-Encoding\": \"gzip, deflate, br\",\n",
    "                                \"Content-Type\": \"application/x-www-form-urlencoded; charset=UTF-8\",\n",
    "                                \"User-Agent\": \"Mozilla/5.0 (Windows NT 10.0; Win64; x64; rv:123.0) Gecko/20100101 Firefox/123.0\",\n",
    "                                \"DNT\": \"1\",\n",
    "                                \"Sec-GPC\": \"1\",\n",
    "                            },\n",
    "                            )\n",
    "\n",
    "    res_json = response.json()\n",
    "    print(res_json)\n",
    "    \n",
    "    download_url = \"https://prism.oregonstate.edu/explorer/tmp/\" + res_json[\"result\"][\"csv\"]\n",
    "\n",
    "    download_file(download_url)\n",
    "        "
   ]
  },
  {
   "cell_type": "code",
   "execution_count": 2,
   "metadata": {},
   "outputs": [],
   "source": [
    "import os\n",
    "import sys\n",
    "sys.path.append('/home/mahdi/data/pyPRISMClimate')\n",
    "from pyPRISMClimate.quick_tools import *"
   ]
  },
  {
   "cell_type": "code",
   "execution_count": 4,
   "metadata": {},
   "outputs": [],
   "source": [
    "\n",
    "data = get_prism_dailys(\n",
    "    variable =\"tmean\",\n",
    "    min_date=\"1991-01-01\",\n",
    "    max_date=\"2020-12-31\",\n",
    "    dest_path=\"/home/mahdi/data/export\"\n",
    ")"
   ]
  },
  {
   "cell_type": "code",
   "execution_count": 16,
   "metadata": {},
   "outputs": [],
   "source": [
    "\n",
    " \n",
    "from osgeo import gdal\n",
    "\n",
    "# Open the BIL file\n",
    "dataset = gdal.Open(\"/home/mahdi/data/export/PRISM_tmean_stable_4kmD2_20201227_bil.bil\")"
   ]
  },
  {
   "cell_type": "code",
   "execution_count": 19,
   "metadata": {},
   "outputs": [
    {
     "data": {
      "text/plain": [
       "(-125.0208333333335,\n",
       " 0.041666666667,\n",
       " 0.0,\n",
       " 49.9374999999995,\n",
       " 0.0,\n",
       " -0.041666666667)"
      ]
     },
     "execution_count": 19,
     "metadata": {},
     "output_type": "execute_result"
    }
   ],
   "source": [
    "# Get the number of bands and data type\n",
    "num_bands = dataset.RasterCount\n",
    "data_type = dataset.GetRasterBand(1).DataType\n",
    "# Read the data as a NumPy array\n",
    "data = dataset.GetRasterBand(1).ReadAsArray()\n",
    "# (Optional) Get geotransform information\n",
    "geotransform = dataset.GetGeoTransform()\n",
    "geotransform"
   ]
  }
 ],
 "metadata": {
  "kernelspec": {
   "display_name": "Python 3",
   "language": "python",
   "name": "python3"
  },
  "language_info": {
   "codemirror_mode": {
    "name": "ipython",
    "version": 3
   },
   "file_extension": ".py",
   "mimetype": "text/x-python",
   "name": "python",
   "nbconvert_exporter": "python",
   "pygments_lexer": "ipython3",
   "version": "3.8.10"
  }
 },
 "nbformat": 4,
 "nbformat_minor": 2
}
