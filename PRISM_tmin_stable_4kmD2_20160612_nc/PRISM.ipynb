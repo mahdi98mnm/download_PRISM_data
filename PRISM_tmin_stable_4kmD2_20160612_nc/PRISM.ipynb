{
 "cells": [
  {
   "cell_type": "markdown",
   "metadata": {},
   "source": [
    "# read shape files"
   ]
  },
  {
   "cell_type": "code",
   "execution_count": 1,
   "metadata": {},
   "outputs": [
    {
     "data": {
      "text/html": [
       "<div>\n",
       "<style scoped>\n",
       "    .dataframe tbody tr th:only-of-type {\n",
       "        vertical-align: middle;\n",
       "    }\n",
       "\n",
       "    .dataframe tbody tr th {\n",
       "        vertical-align: top;\n",
       "    }\n",
       "\n",
       "    .dataframe thead th {\n",
       "        text-align: right;\n",
       "    }\n",
       "</style>\n",
       "<table border=\"1\" class=\"dataframe\">\n",
       "  <thead>\n",
       "    <tr style=\"text-align: right;\">\n",
       "      <th></th>\n",
       "      <th>col</th>\n",
       "      <th>row</th>\n",
       "      <th>lon</th>\n",
       "      <th>lat</th>\n",
       "      <th>geometry</th>\n",
       "    </tr>\n",
       "  </thead>\n",
       "  <tbody>\n",
       "    <tr>\n",
       "      <th>0</th>\n",
       "      <td>717</td>\n",
       "      <td>12</td>\n",
       "      <td>-95.125000</td>\n",
       "      <td>49.416667</td>\n",
       "      <td>POLYGON ((-95.14583 49.43750, -95.10417 49.437...</td>\n",
       "    </tr>\n",
       "    <tr>\n",
       "      <th>1</th>\n",
       "      <td>716</td>\n",
       "      <td>13</td>\n",
       "      <td>-95.166667</td>\n",
       "      <td>49.375000</td>\n",
       "      <td>POLYGON ((-95.18750 49.39583, -95.14583 49.395...</td>\n",
       "    </tr>\n",
       "    <tr>\n",
       "      <th>2</th>\n",
       "      <td>717</td>\n",
       "      <td>13</td>\n",
       "      <td>-95.125000</td>\n",
       "      <td>49.375000</td>\n",
       "      <td>POLYGON ((-95.14583 49.39583, -95.10417 49.395...</td>\n",
       "    </tr>\n",
       "    <tr>\n",
       "      <th>3</th>\n",
       "      <td>718</td>\n",
       "      <td>13</td>\n",
       "      <td>-95.083333</td>\n",
       "      <td>49.375000</td>\n",
       "      <td>POLYGON ((-95.10417 49.39583, -95.06250 49.395...</td>\n",
       "    </tr>\n",
       "    <tr>\n",
       "      <th>4</th>\n",
       "      <td>719</td>\n",
       "      <td>13</td>\n",
       "      <td>-95.041667</td>\n",
       "      <td>49.375000</td>\n",
       "      <td>POLYGON ((-95.06250 49.39583, -95.02083 49.395...</td>\n",
       "    </tr>\n",
       "    <tr>\n",
       "      <th>...</th>\n",
       "      <td>...</td>\n",
       "      <td>...</td>\n",
       "      <td>...</td>\n",
       "      <td>...</td>\n",
       "      <td>...</td>\n",
       "    </tr>\n",
       "    <tr>\n",
       "      <th>481626</th>\n",
       "      <td>1040</td>\n",
       "      <td>609</td>\n",
       "      <td>-81.666667</td>\n",
       "      <td>24.541667</td>\n",
       "      <td>POLYGON ((-81.68750 24.56250, -81.64583 24.562...</td>\n",
       "    </tr>\n",
       "    <tr>\n",
       "      <th>481627</th>\n",
       "      <td>1041</td>\n",
       "      <td>609</td>\n",
       "      <td>-81.625000</td>\n",
       "      <td>24.541667</td>\n",
       "      <td>POLYGON ((-81.64583 24.56250, -81.60417 24.562...</td>\n",
       "    </tr>\n",
       "    <tr>\n",
       "      <th>481628</th>\n",
       "      <td>1028</td>\n",
       "      <td>610</td>\n",
       "      <td>-82.166667</td>\n",
       "      <td>24.500000</td>\n",
       "      <td>POLYGON ((-82.18750 24.52083, -82.14583 24.520...</td>\n",
       "    </tr>\n",
       "    <tr>\n",
       "      <th>481629</th>\n",
       "      <td>1029</td>\n",
       "      <td>610</td>\n",
       "      <td>-82.125000</td>\n",
       "      <td>24.500000</td>\n",
       "      <td>POLYGON ((-82.14583 24.52083, -82.10417 24.520...</td>\n",
       "    </tr>\n",
       "    <tr>\n",
       "      <th>481630</th>\n",
       "      <td>1037</td>\n",
       "      <td>610</td>\n",
       "      <td>-81.791667</td>\n",
       "      <td>24.500000</td>\n",
       "      <td>POLYGON ((-81.81250 24.52083, -81.77083 24.520...</td>\n",
       "    </tr>\n",
       "  </tbody>\n",
       "</table>\n",
       "<p>481631 rows × 5 columns</p>\n",
       "</div>"
      ],
      "text/plain": [
       "         col  row        lon        lat   \n",
       "0        717   12 -95.125000  49.416667  \\\n",
       "1        716   13 -95.166667  49.375000   \n",
       "2        717   13 -95.125000  49.375000   \n",
       "3        718   13 -95.083333  49.375000   \n",
       "4        719   13 -95.041667  49.375000   \n",
       "...      ...  ...        ...        ...   \n",
       "481626  1040  609 -81.666667  24.541667   \n",
       "481627  1041  609 -81.625000  24.541667   \n",
       "481628  1028  610 -82.166667  24.500000   \n",
       "481629  1029  610 -82.125000  24.500000   \n",
       "481630  1037  610 -81.791667  24.500000   \n",
       "\n",
       "                                                 geometry  \n",
       "0       POLYGON ((-95.14583 49.43750, -95.10417 49.437...  \n",
       "1       POLYGON ((-95.18750 49.39583, -95.14583 49.395...  \n",
       "2       POLYGON ((-95.14583 49.39583, -95.10417 49.395...  \n",
       "3       POLYGON ((-95.10417 49.39583, -95.06250 49.395...  \n",
       "4       POLYGON ((-95.06250 49.39583, -95.02083 49.395...  \n",
       "...                                                   ...  \n",
       "481626  POLYGON ((-81.68750 24.56250, -81.64583 24.562...  \n",
       "481627  POLYGON ((-81.64583 24.56250, -81.60417 24.562...  \n",
       "481628  POLYGON ((-82.18750 24.52083, -82.14583 24.520...  \n",
       "481629  POLYGON ((-82.14583 24.52083, -82.10417 24.520...  \n",
       "481630  POLYGON ((-81.81250 24.52083, -81.77083 24.520...  \n",
       "\n",
       "[481631 rows x 5 columns]"
      ]
     },
     "execution_count": 1,
     "metadata": {},
     "output_type": "execute_result"
    }
   ],
   "source": [
    "import geopandas as gpd\n",
    "soa_shape_map_path = '/home/mahdi/data/PRISM_tmin_stable_4kmD2_20160612_nc/doc_2024-03-26_15-21-36.gridpoint_2000.shp/.gridpoint_2000.shp.shp'\n",
    "sub_basin_path = '/home/mahdi/data/PRISM_tmin_stable_4kmD2_20160612_nc/central_valley_3857/central_valley_3857.shp'\n",
    "\n",
    "mesh_grid_path = \"/home/mahdi/data/PRISM_tmin_stable_4kmD2_20160612_nc/prism_4km_mesh/prism_4km_mesh.shp\"\n",
    "\n",
    "# soa_shape_map = gpd.read_file(soa_shape_map_path)\n",
    "# sub_basin_map = gpd.read_file(sub_basin_path)\n",
    "\n",
    "mesh = gpd.read_file(mesh_grid_path)\n",
    "\n",
    "# soa_shape_map_geo = soa_shape_map.to_crs(epsg=4326)\n",
    "# sub_basin_map_geo = sub_basin_map.to_crs(epsg=4326)\n",
    "# mesh_geo = mesh.to_crs(epsg=4326)\n",
    "\n",
    "# sub_basin_1 = sub_basin_map_geo[sub_basin_map_geo['Subregion_'] == 1]\n",
    "\n",
    "mesh\n"
   ]
  },
  {
   "cell_type": "markdown",
   "metadata": {},
   "source": [
    "## sample"
   ]
  },
  {
   "cell_type": "code",
   "execution_count": 7,
   "metadata": {},
   "outputs": [],
   "source": [
    "mesh_center = mesh[(mesh['col'] == 71) & (mesh['row'] == 220)]\n",
    "mesh_up = mesh[(mesh['col'] == 71) & (mesh['row'] == 219)]\n",
    "mesh_down = mesh[(mesh['col'] == 71) & (mesh['row'] == 221)]\n",
    "mesh_right = mesh[(mesh['col'] == 72) & (mesh['row'] == 220)]\n",
    "mesh_left = mesh[(mesh['col'] == 70) & (mesh['row'] == 220)]"
   ]
  },
  {
   "cell_type": "markdown",
   "metadata": {},
   "source": [
    "## create a point layer and list of coordinates"
   ]
  },
  {
   "cell_type": "code",
   "execution_count": 24,
   "metadata": {},
   "outputs": [
    {
     "data": {
      "text/plain": [
       "[(40.7500000000013, -122.04166666666643),\n",
       " (40.791666666667965, -122.04166666666643),\n",
       " (40.70833333333463, -122.04166666666643),\n",
       " (40.7500000000013, -121.99999999999974),\n",
       " (40.7500000000013, -122.08333333333309)]"
      ]
     },
     "execution_count": 24,
     "metadata": {},
     "output_type": "execute_result"
    }
   ],
   "source": [
    "from shapely.geometry import Point\n",
    "\n",
    "# Create a list of points with latitude and longitude\n",
    "points = [\n",
    "    Point(lon, lat) for lon, lat in [\n",
    "        (mesh_center[\"lon\"].item(), mesh_center[\"lat\"].item()),\n",
    "        (mesh_up[\"lon\"].item(), mesh_up[\"lat\"].item()),\n",
    "        (mesh_down[\"lon\"].item(), mesh_down[\"lat\"].item()),\n",
    "        (mesh_right[\"lon\"].item(), mesh_right[\"lat\"].item()),\n",
    "        (mesh_left[\"lon\"].item(), mesh_left[\"lat\"].item())\n",
    "        # Add more points as needed\n",
    "    ]\n",
    "]\n",
    "\n",
    "# Create a GeoDataFrame from the list of points\n",
    "shape_four = gpd.GeoDataFrame(geometry=points)\n",
    "\n",
    "lat_lon_tuples_shape_four = list(zip(shape_four.geometry.y, shape_four.geometry.x))\n",
    "lat_lon_tuples_shape_four"
   ]
  },
  {
   "cell_type": "code",
   "execution_count": null,
   "metadata": {},
   "outputs": [],
   "source": [
    "# clipped_points = gpd.clip(soa_shape_map_geo, sub_basin_1)\n",
    "\n",
    "# lat_lon_tuples = list(zip(clipped_points.geometry.y, clipped_points.geometry.x))\n"
   ]
  },
  {
   "cell_type": "markdown",
   "metadata": {},
   "source": [
    "# generate time series"
   ]
  },
  {
   "cell_type": "code",
   "execution_count": 25,
   "metadata": {},
   "outputs": [],
   "source": [
    "import datetime\n",
    "\n",
    "def generate_time_series(start_date, end_date, freq):\n",
    "    \"\"\"\n",
    "    Generate a time series of dates in the format \"YYYYMMDD\".\n",
    "\n",
    "    Args:\n",
    "        start_date (str): The start date in the format \"YYYY-MM-DD\".\n",
    "        end_date (str): The end date in the format \"YYYY-MM-DD\".\n",
    "        freq (str): The frequency of the time series. Possible values are\n",
    "            \"D\" (daily), \"W\" (weekly), \"M\" (monthly), etc.\n",
    "\n",
    "    Returns:\n",
    "        list: A list of dates in the format \"YYYYMMDD\".\n",
    "    \"\"\"\n",
    "    date_series = []\n",
    "    start = datetime.datetime.strptime(start_date, \"%Y-%m-%d\")\n",
    "    end = datetime.datetime.strptime(end_date, \"%Y-%m-%d\")\n",
    "    current_date = start\n",
    "\n",
    "    while current_date <= end:\n",
    "        date_series.append(current_date.strftime(\"%Y%m%d\"))\n",
    "        current_date += datetime.timedelta(days=1) if freq == \"D\" else datetime.timedelta(weeks=1) if freq == \"W\" else datetime.timedelta(days=30.4375)\n",
    "\n",
    "    return date_series"
   ]
  },
  {
   "cell_type": "markdown",
   "metadata": {},
   "source": [
    "# function of download prism data"
   ]
  },
  {
   "cell_type": "code",
   "execution_count": 26,
   "metadata": {},
   "outputs": [],
   "source": [
    "import requests\n",
    "import pandas as pd\n",
    "\n",
    "def download_file(url):\n",
    "  \"\"\"Downloads a file from the given URL and saves it locally.\"\"\"\n",
    "  local_filename = url.split('/')[-1]\n",
    "  # NOTE the stream=True parameter below\n",
    "  with requests.get(url, stream=True) as r:\n",
    "    r.raise_for_status()\n",
    "    with open(local_filename, 'wb') as f:\n",
    "      for chunk in r.iter_content(chunk_size=8192): \n",
    "        f.write(chunk)\n",
    "  return local_filename\n",
    "\n",
    "\n",
    "def download_prism_data(lat_lon_tuples, output_folder):\n",
    "  \"\"\"Downloads PIRISM data for a list of latitude and longitude tuples.\n",
    "\n",
    "  Args:\n",
    "    lat_lon_tuples: A list of tuples containing (latitude, longitude) coordinates.\n",
    "    output_folder: The folder where downloaded data files will be saved.\n",
    "  \"\"\"\n",
    "  session = requests.Session()\n",
    "  base_url = \"https://prism.oregonstate.edu/explorer/dataexplorer/rpc.php\"\n",
    "  data = {\n",
    "    \"spares\": \"4km\",\n",
    "    \"interp\": \"0\",\n",
    "    \"stats\": \"ppt tmin tmean tmax\",  # You can customize the variables here\n",
    "    \"units\": \"si\",\n",
    "    \"range\": \"daily\",\n",
    "    \"start\": \"19910101\",\n",
    "    \"end\": \"19911231\",\n",
    "    \"stability\": \"stable\",\n",
    "    \"call\": \"pp/daily_timeseries\",\n",
    "    \"proc\": \"gridserv\"\n",
    "  }\n",
    "  headers = {\n",
    "    \"Accept\": \"application/json, text/javascript, */*; q=0.01\",\n",
    "    \"Accept-Encoding\": \"gzip, deflate, br\",\n",
    "    \"Content-Type\": \"application/x-www-form-urlencoded; charset=UTF-8\",\n",
    "    \"User-Agent\": \"Mozilla/5.0 (Windows NT 10.0; Win64; x64; rv:123.0) Gecko/20100101 Firefox/123.0\",\n",
    "    \"DNT\": \"1\",\n",
    "    \"Sec-GPC\": \"1\",\n",
    "  }\n",
    "\n",
    "  for lat, lon in lat_lon_tuples:\n",
    "    data[\"lat\"] = str(lat)\n",
    "    data[\"lon\"] = str(lon)\n",
    "    response = session.post(base_url, data=data, headers=headers)\n",
    "    res_json = response.json()\n",
    "\n",
    "    \n",
    "    download_url = \"https://prism.oregonstate.edu/explorer/tmp/\" + res_json[\"result\"][\"csv\"]\n",
    "    filename = f\"{output_folder}/{lat}_{lon}.csv\"  # Customize filename format\n",
    "    download_file(download_url)\n",
    "    print(f\"Downloaded data for ({lat}, {lon}) to {filename}\")\n",
    "    \n"
   ]
  },
  {
   "cell_type": "markdown",
   "metadata": {},
   "source": [
    "## example"
   ]
  },
  {
   "cell_type": "code",
   "execution_count": 27,
   "metadata": {},
   "outputs": [
    {
     "name": "stdout",
     "output_type": "stream",
     "text": [
      "Downloaded data for (40.7500000000013, -122.04166666666643) to /home/mahdi/data/export/40.7500000000013_-122.04166666666643.csv\n",
      "Downloaded data for (40.791666666667965, -122.04166666666643) to /home/mahdi/data/export/40.791666666667965_-122.04166666666643.csv\n",
      "Downloaded data for (40.70833333333463, -122.04166666666643) to /home/mahdi/data/export/40.70833333333463_-122.04166666666643.csv\n",
      "Downloaded data for (40.7500000000013, -121.99999999999974) to /home/mahdi/data/export/40.7500000000013_-121.99999999999974.csv\n",
      "Downloaded data for (40.7500000000013, -122.08333333333309) to /home/mahdi/data/export/40.7500000000013_-122.08333333333309.csv\n"
     ]
    }
   ],
   "source": [
    "# Example usage\n",
    "output_folder = \"/home/mahdi/data/export\"  # Change this if needed\n",
    "download_prism_data(lat_lon_tuples_shape_four, output_folder)"
   ]
  },
  {
   "cell_type": "markdown",
   "metadata": {},
   "source": [
    "# use pyPRISMClimate library and FTP"
   ]
  },
  {
   "cell_type": "code",
   "execution_count": null,
   "metadata": {},
   "outputs": [],
   "source": [
    "import os\n",
    "import sys\n",
    "sys.path.append('/home/mahdi/data/pyPRISMClimate')\n",
    "from pyPRISMClimate.quick_tools import *"
   ]
  },
  {
   "cell_type": "markdown",
   "metadata": {},
   "source": [
    "## download daily data"
   ]
  },
  {
   "cell_type": "code",
   "execution_count": null,
   "metadata": {},
   "outputs": [],
   "source": [
    "data = get_prism_dailys(\n",
    "    variable =\"tmean\",\n",
    "    min_date=\"1991-01-01\",\n",
    "    max_date=\"2020-12-31\",\n",
    "    dest_path=\"/home/mahdi/data/export\"\n",
    ")"
   ]
  },
  {
   "cell_type": "markdown",
   "metadata": {},
   "source": [
    "### open bil file"
   ]
  },
  {
   "cell_type": "code",
   "execution_count": null,
   "metadata": {},
   "outputs": [],
   "source": [
    "from osgeo import gdal\n",
    "\n",
    "# Open the BIL file\n",
    "dataset = gdal.Open(\"/home/mahdi/data/export/PRISM_tmean_stable_4kmD2_20201227_bil.bil\")"
   ]
  },
  {
   "cell_type": "markdown",
   "metadata": {},
   "source": [
    "### convert to array"
   ]
  },
  {
   "cell_type": "code",
   "execution_count": null,
   "metadata": {},
   "outputs": [],
   "source": [
    "# Get the number of bands and data type\n",
    "num_bands = dataset.RasterCount\n",
    "data_type = dataset.GetRasterBand(1).DataType\n",
    "# Read the data as a NumPy array\n",
    "data = dataset.GetRasterBand(1).ReadAsArray()\n",
    "# (Optional) Get geotransform information\n",
    "geotransform = dataset.GetGeoTransform()\n",
    "geotransform"
   ]
  }
 ],
 "metadata": {
  "kernelspec": {
   "display_name": "Python 3",
   "language": "python",
   "name": "python3"
  },
  "language_info": {
   "codemirror_mode": {
    "name": "ipython",
    "version": 3
   },
   "file_extension": ".py",
   "mimetype": "text/x-python",
   "name": "python",
   "nbconvert_exporter": "python",
   "pygments_lexer": "ipython3",
   "version": "3.8.10"
  }
 },
 "nbformat": 4,
 "nbformat_minor": 2
}
