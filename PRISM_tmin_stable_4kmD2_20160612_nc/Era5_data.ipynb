{
 "cells": [
  {
   "cell_type": "code",
   "execution_count": null,
   "metadata": {},
   "outputs": [],
   "source": [
    "import cdsapi\n",
    "\n",
    "c = cdsapi.Client()\n",
    "\n",
    "years = list(range(1950, 2023))\n",
    "\n",
    "for year in years:\n",
    "    c.retrieve(\n",
    "        'reanalysis-era5-pressure-levels',\n",
    "        {\n",
    "            'product_type': 'reanalysis',\n",
    "            'variable': [\n",
    "                'divergence', 'fraction_of_cloud_cover', 'geopotential',\n",
    "                'ozone_mass_mixing_ratio', 'potential_vorticity', 'relative_humidity',\n",
    "                'specific_cloud_ice_water_content', 'specific_cloud_liquid_water_content', 'specific_humidity',\n",
    "                'specific_rain_water_content', 'specific_snow_water_content', 'temperature',\n",
    "                'u_component_of_wind', 'v_component_of_wind', 'vertical_velocity',\n",
    "                'vorticity',\n",
    "            ],\n",
    "            'pressure_level': '500',\n",
    "            'year': '2022',\n",
    "            'month': [\n",
    "                '01', '02', '03',\n",
    "                '04', '05', '06',\n",
    "                '07', '08', '09',\n",
    "                '10', '11', '12',\n",
    "            ],\n",
    "            'day': [\n",
    "                '01', '02', '03',\n",
    "                '04', '05', '06',\n",
    "                '07', '08', '09',\n",
    "                '10', '11', '12',\n",
    "                '13', '14', '15',\n",
    "                '16', '17', '18',\n",
    "                '19', '20', '21',\n",
    "                '22', '23', '24',\n",
    "                '25', '26', '27',\n",
    "                '28', '29', '30',\n",
    "                '31',\n",
    "            ],\n",
    "            'time': '00:00',\n",
    "            'area': [\n",
    "                38.28899868843215, -122.02635927086914, 36.169668221548285,\n",
    "                -119.58014102395923,\n",
    "            ],\n",
    "            'format': 'netcdf',\n",
    "        },\n",
    "        'era5land_' + str(year) + '.nc')\n",
    "    print('era5land_' + str(year) + '.nc' + ' downloaded.')\n",
    "\n"
   ]
  }
 ],
 "metadata": {
  "language_info": {
   "name": "python"
  }
 },
 "nbformat": 4,
 "nbformat_minor": 2
}
