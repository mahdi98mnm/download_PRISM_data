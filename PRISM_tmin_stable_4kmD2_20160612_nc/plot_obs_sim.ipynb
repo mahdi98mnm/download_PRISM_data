{
 "cells": [
  {
   "cell_type": "code",
   "execution_count": 4,
   "metadata": {},
   "outputs": [],
   "source": [
    "import pandas as pd\n",
    "import numpy as np\n",
    "import math\n",
    "from sklearn.model_selection import train_test_split\n",
    "import plotly.express as px\n",
    "from sklearn.ensemble import GradientBoostingRegressor, RandomForestRegressor, AdaBoostRegressor, ExtraTreesRegressor\n",
    "from sklearn.feature_selection import RFE\n",
    "from sklearn.metrics import mean_squared_error\n",
    "from scipy import stats"
   ]
  },
  {
   "cell_type": "code",
   "execution_count": 5,
   "metadata": {},
   "outputs": [],
   "source": [
    "monthly_dataset = pd.read_parquet(\"e:/flux_ET_dataset/monthly_dataset_3sep.parquet\", engine='pyarrow')\n",
    "budyko_train = pd.read_excel(\"e:/Term2/WERI/ML_Budyko/3- result/train_test_result_Budyko_11Nov.xlsx\", sheet_name = \"train\")\n",
    "budyko_test = pd.read_excel(\"e:/Term2/WERI/ML_Budyko/3- result/train_test_result_Budyko_11Nov.xlsx\", sheet_name = \"test\")"
   ]
  },
  {
   "cell_type": "code",
   "execution_count": 6,
   "metadata": {},
   "outputs": [],
   "source": [
    "monthly_dataset = monthly_dataset.drop([\"evaporation_from_bare_soil_max\",\n",
    "                                        \"evaporation_from_bare_soil_min\",\n",
    "                                        \"evaporation_from_bare_soil_sum\",\n",
    "                                        \"evaporation_from_open_water_surfaces_excluding_oceans_max\",\n",
    "                                        \"evaporation_from_open_water_surfaces_excluding_oceans_min\",\n",
    "                                        \"evaporation_from_open_water_surfaces_excluding_oceans_sum\",\n",
    "                                        \"evaporation_from_the_top_of_canopy_max\",\n",
    "                                        \"evaporation_from_the_top_of_canopy_min\",\n",
    "                                        \"evaporation_from_the_top_of_canopy_sum\",\n",
    "                                        \"evaporation_from_vegetation_transpiration_max\",\n",
    "                                        \"evaporation_from_vegetation_transpiration_min\",\n",
    "                                        \"evaporation_from_vegetation_transpiration_sum\",\n",
    "                                        \"forecast_albedo_min\",\n",
    "                                        \"lake_bottom_temperature\",\n",
    "                                        \"lake_bottom_temperature_max\",\n",
    "                                        \"lake_bottom_temperature_min\",\n",
    "                                        \"lake_ice_depth\",\n",
    "                                        \"lake_ice_depth_max\",\n",
    "                                        \"lake_ice_depth_min\",\n",
    "                                        \"lake_ice_temperature\",\n",
    "                                        \"lake_ice_temperature_max\",\n",
    "                                        \"lake_ice_temperature_min\",\n",
    "                                        \"lake_mix_layer_depth\",\n",
    "                                        \"lake_mix_layer_depth_max\",\n",
    "                                        \"lake_mix_layer_depth_min\",\n",
    "                                        \"lake_mix_layer_temperature\",\n",
    "                                        \"lake_mix_layer_temperature_max\",\n",
    "                                        \"lake_mix_layer_temperature_min\",\n",
    "                                        \"lake_shape_factor\",\n",
    "                                        \"lake_shape_factor_max\",\n",
    "                                        \"lake_shape_factor_min\",\n",
    "                                        \"lake_total_layer_temperature\",\n",
    "                                        \"lake_total_layer_temperature_max\",\n",
    "                                        \"lake_total_layer_temperature_min\",\n",
    "                                        \"potential_evaporation_max\",\n",
    "                                        \"potential_evaporation_min\",\n",
    "                                        \"potential_evaporation_sum\",\n",
    "                                        \"runoff_max\",\n",
    "                                        \"runoff_min\",\n",
    "                                        \"runoff_sum\",\n",
    "                                        \"skin_reservoir_content\",\n",
    "                                        \"skin_reservoir_content_max\",\n",
    "                                        \"skin_reservoir_content_min\",\n",
    "                                        \"skin_temperature\",\n",
    "                                        \"skin_temperature_max\",\n",
    "                                        \"skin_temperature_min\",\n",
    "                                        \"snow_albedo\",\n",
    "                                        \"snow_albedo_max\",\n",
    "                                        \"snow_albedo_min\",\n",
    "                                        \"snow_cover\",\n",
    "                                        \"snow_cover_max\",\n",
    "                                        \"snow_cover_min\",\n",
    "                                        \"snow_density\",\n",
    "                                        \"snow_density_max\",\n",
    "                                        \"snow_density_min\",\n",
    "                                        \"snow_depth\",\n",
    "                                        \"snow_depth_max\",\n",
    "                                        \"snow_depth_min\",\n",
    "                                        \"snow_depth_water_equivalent\",\n",
    "                                        \"snow_depth_water_equivalent_max\",\n",
    "                                        \"snow_depth_water_equivalent_min\",\n",
    "                                        \"snow_evaporation_max\",\n",
    "                                        \"snow_evaporation_min\",\n",
    "                                        \"snow_evaporation_sum\",\n",
    "                                        \"snowfall_max\",\n",
    "                                        \"snowfall_min\",\n",
    "                                        \"snowfall_sum\",\n",
    "                                        \"snowmelt_max\",\n",
    "                                        \"snowmelt_min\",\n",
    "                                        \"snowmelt_sum\",\n",
    "                                        \"sub_surface_runoff_max\",\n",
    "                                        \"sub_surface_runoff_min\",\n",
    "                                        \"sub_surface_runoff_sum\",\n",
    "                                        \"surface_latent_heat_flux_max\",\n",
    "                                        \"surface_latent_heat_flux_min\",\n",
    "                                        \"surface_latent_heat_flux_sum\",\n",
    "                                        \"surface_net_solar_radiation_min\",\n",
    "                                        \"surface_net_thermal_radiation_max\",\n",
    "                                        \"surface_net_thermal_radiation_min\",\n",
    "                                        \"surface_net_thermal_radiation_sum\",\n",
    "                                        \"surface_runoff_max\",\n",
    "                                        \"surface_runoff_min\",\n",
    "                                        \"surface_runoff_sum\",\n",
    "                                        \"surface_sensible_heat_flux_min\",\n",
    "                                        \"surface_sensible_heat_flux_sum\",\n",
    "                                        \"surface_solar_radiation_downwards_min\",\n",
    "                                        \"surface_solar_radiation_downwards_sum\",\n",
    "                                        \"surface_thermal_radiation_downwards_sum\",\n",
    "                                        \"temperature_of_snow_layer\",\n",
    "                                        \"temperature_of_snow_layer_max\",\n",
    "                                        \"temperature_of_snow_layer_min\",\n",
    "                                        \"total_evaporation_max\",\n",
    "                                        \"total_evaporation_min\",\n",
    "                                        \"total_evaporation_sum\",\n",
    "                                        \"total_precipitation_min\",\n",
    "                                        \"total_precipitation_sum\",\n",
    "                                        \"u_component_of_wind_10m\",\n",
    "                                        \"u_component_of_wind_10m_min\",\n",
    "                                        \"v_component_of_wind_10m\",\n",
    "                                        \"v_component_of_wind_10m_min\",\n",
    "                                        \"leaf_area_index_low_vegetation_max\",\n",
    "                                        \"leaf_area_index_low_vegetation_min\",\n",
    "                                        \"leaf_area_index_high_vegetation_max\",\n",
    "                                        \"leaf_area_index_high_vegetation_min\",\n",
    "                                        \"forecast_albedo_max\",\n",
    "                                        \"soil_temperature_level_1_max\",\n",
    "                                        \"soil_temperature_level_1_min\",\n",
    "                                        \"soil_temperature_level_2_max\",\n",
    "                                        \"soil_temperature_level_2_min\",\n",
    "                                        \"soil_temperature_level_3_max\",\n",
    "                                        \"soil_temperature_level_3_min\",\n",
    "                                        \"soil_temperature_level_4_min\",\n",
    "                                        \"soil_temperature_level_4_max\",\n",
    "                                        \"volumetric_soil_water_layer_1_max\",\n",
    "                                        \"volumetric_soil_water_layer_1_min\",\n",
    "                                        \"volumetric_soil_water_layer_2_max\",\n",
    "                                        \"volumetric_soil_water_layer_2_min\",\n",
    "                                        \"volumetric_soil_water_layer_3_max\",\n",
    "                                        \"volumetric_soil_water_layer_3_min\",\n",
    "                                        \"volumetric_soil_water_layer_4_max\",\n",
    "                                        \"volumetric_soil_water_layer_4_min\",\n",
    "                                        \"swe\"], axis = 1)\n",
    "\n",
    "X = monthly_dataset.drop(['ET_fill',\n",
    "                          'Site_ID',\n",
    "                          'General_classification',\n",
    "                          'Land_cover_details',\n",
    "                          'Land_cover_type',\n",
    "                          'eto_hargreaves',\n",
    "                          'time',\n",
    "                          'date',\n",
    "                          'aet',\n",
    "                          'pet',\n",
    "                          'delta_s',\n",
    "                          'def'], axis =1)\n",
    "\n",
    "y = monthly_dataset['ET_fill']\n",
    "\n",
    "\n",
    "X_train, X_test, y_train, y_test = train_test_split(X, y, test_size=0.3, random_state=10)\n"
   ]
  },
  {
   "cell_type": "code",
   "execution_count": 7,
   "metadata": {},
   "outputs": [],
   "source": [
    "def calculate_metrics(actual, predicted):\n",
    "\n",
    "    actual = actual\n",
    "    predicted = predicted\n",
    "\n",
    "    rmse = np.sqrt(mean_squared_error(actual, predicted))\n",
    "\n",
    "    nse = 1 - (np.sum((actual - predicted) ** 2) / np.sum((actual - np.mean(actual)) ** 2))\n",
    "\n",
    "    nrmse = rmse / (np.max(actual) - np.min(actual))\n",
    "\n",
    "    r = stats.pearsonr(predicted,actual)[0]\n",
    "    r2= r**2\n",
    "\n",
    "    mean_value = sum(predicted) / len(predicted)\n",
    "    var_value = sum(pow(x-mean_value,2) for x in predicted) / len(predicted)  # variance\n",
    "    std  = math.sqrt(var_value)  # standard deviation\n",
    "\n",
    "    mbe = np.mean(predicted - actual)  # Mean Bias Error\n",
    "\n",
    "    return rmse, nse, nrmse, r2, r, std, mbe"
   ]
  },
  {
   "cell_type": "code",
   "execution_count": 10,
   "metadata": {},
   "outputs": [],
   "source": [
    "best_model_rf = RandomForestRegressor(\n",
    "    max_depth= None,\n",
    "    max_leaf_nodes= 20,\n",
    "    min_samples_split= 5,\n",
    "    n_estimators= 50,\n",
    "    random_state= None)\n",
    "\n",
    "selector_rf = RFE(estimator=best_model_rf, n_features_to_select = 3)\n",
    "selector_rf.fit(X_train, y_train)\n",
    "\n",
    "selected_features_rf = X.columns[selector_rf.support_]\n",
    "\n",
    "y_train_pred_rf = selector_rf.predict(X_train)\n",
    "y_test_pred_rf = selector_rf.predict(X_test)"
   ]
  },
  {
   "cell_type": "code",
   "execution_count": 26,
   "metadata": {},
   "outputs": [
    {
     "name": "stdout",
     "output_type": "stream",
     "text": [
      "RandombForest Regressor :\n",
      "RMSE train : 3.814783797300799\n",
      " NSE train : 0.8396438912628077\n",
      " NRMSE train : 0.06866681102508222\n",
      " R2 train : 0.8585706904585748\n",
      " R train : 0.9265908970298461\n",
      " std train : 7.516680007588366\n",
      " MBE train : 0.0242568840143343\n",
      "----------------------------------------\n",
      "RMSE test : 4.996721269039347\n",
      " NSE test : 0.7081347650369934\n",
      " NRMSE test : 0.11938009442387058\n",
      " R2 test : 0.7129253037026407\n",
      " R test : 0.844349041393807\n",
      " std test : 8.123092597449197\n",
      " MBE test : 0.5580124408133759\n"
     ]
    }
   ],
   "source": [
    "rmse_train, nse_train, nrmse_train, r2_train, r_train, std_train, mbe_train = calculate_metrics(actual=y_train, predicted=y_train_pred_rf)\n",
    "print(\"RandombForest Regressor :\")\n",
    "print(f\"RMSE train : {rmse_train}\\n\",\n",
    "      f\"NSE train : {nse_train}\\n\",\n",
    "      f\"NRMSE train : {nrmse_train}\\n\",\n",
    "      f\"R2 train : {r2_train}\\n\",\n",
    "      f\"R train : {r_train}\\n\",\n",
    "      f\"std train : {std_train}\\n\",\n",
    "      f\"MBE train : {mbe_train}\")\n",
    "rmse_test, nse_test, nrmse_test, r2_test, r_test, std_test, mbe_test = calculate_metrics(actual=y_test, predicted=y_test_pred_rf)\n",
    "print(\"----------------------------------------\")\n",
    "\n",
    "print(f\"RMSE test : {rmse_test}\\n\",\n",
    "      f\"NSE test : {nse_test}\\n\",\n",
    "      f\"NRMSE test : {nrmse_test}\\n\",\n",
    "      f\"R2 test : {r2_test}\\n\",\n",
    "      f\"R test : {r_test}\\n\",\n",
    "      f\"std test : {std_test}\\n\",\n",
    "      f\"MBE test : {mbe_test}\")\n"
   ]
  },
  {
   "cell_type": "code",
   "execution_count": 11,
   "metadata": {},
   "outputs": [],
   "source": [
    "best_model_GB = GradientBoostingRegressor(\n",
    "    learning_rate= 0.1,\n",
    "    max_depth= 6,\n",
    "    n_estimators= 200,\n",
    "    subsample= 0.75)\n",
    "\n",
    "\n",
    "selector_GB = RFE(estimator=best_model_GB, n_features_to_select = 5)\n",
    "selector_GB.fit(X_train, y_train)\n",
    "\n",
    "selected_features_GB = X.columns[selector_GB.support_]\n",
    "\n",
    "y_train_pred_GB = selector_GB.predict(X_train)\n",
    "y_test_pred_GB = selector_GB.predict(X_test)"
   ]
  },
  {
   "cell_type": "code",
   "execution_count": 28,
   "metadata": {},
   "outputs": [
    {
     "name": "stdout",
     "output_type": "stream",
     "text": [
      "Gradient Boosting Regressor :\n",
      "RMSE train : 0.03300256270736279\n",
      " NSE train : 0.9999879983493748\n",
      " NRMSE train : 0.0005940522077223283\n",
      " R2 train : 0.999988945735466\n",
      " R train : 0.9999944728524583\n",
      " std train : 9.517040903239868\n",
      " MBE train : -0.00018555811326147857\n",
      "----------------------------------------\n",
      "RMSE test : 4.849285896042127\n",
      " NSE test : 0.7251044570471292\n",
      " NRMSE test : 0.11585761482131901\n",
      " R2 test : 0.7337645855742578\n",
      " R test : 0.856600598630574\n",
      " std test : 8.672438854961191\n",
      " MBE test : 0.4227129919887\n"
     ]
    }
   ],
   "source": [
    "rmse_train, nse_train, nrmse_train, r2_train, r_train, std_train, mbe_train = calculate_metrics(actual=y_train, predicted=y_train_pred_GB)\n",
    "print(\"Gradient Boosting Regressor :\")\n",
    "print(f\"RMSE train : {rmse_train}\\n\",\n",
    "      f\"NSE train : {nse_train}\\n\",\n",
    "      f\"NRMSE train : {nrmse_train}\\n\",\n",
    "      f\"R2 train : {r2_train}\\n\",\n",
    "      f\"R train : {r_train}\\n\",\n",
    "      f\"std train : {std_train}\\n\",\n",
    "      f\"MBE train : {mbe_train}\")\n",
    "rmse_test, nse_test, nrmse_test, r2_test, r_test, std_test, mbe_test = calculate_metrics(actual=y_test, predicted=y_test_pred_GB)\n",
    "print(\"----------------------------------------\")\n",
    "\n",
    "print(f\"RMSE test : {rmse_test}\\n\",\n",
    "      f\"NSE test : {nse_test}\\n\",\n",
    "      f\"NRMSE test : {nrmse_test}\\n\",\n",
    "      f\"R2 test : {r2_test}\\n\",\n",
    "      f\"R test : {r_test}\\n\",\n",
    "      f\"std test : {std_test}\\n\",\n",
    "      f\"MBE test : {mbe_test}\")"
   ]
  },
  {
   "cell_type": "code",
   "execution_count": 12,
   "metadata": {},
   "outputs": [],
   "source": [
    "best_model_Ada = AdaBoostRegressor(\n",
    "    learning_rate = 0.25,\n",
    "    loss = 'linear',\n",
    "    n_estimators = 50)\n",
    "\n",
    "selector_Ada = RFE(estimator=best_model_Ada, n_features_to_select = 6)\n",
    "selector_Ada.fit(X_train, y_train)\n",
    "\n",
    "selected_features_Ada = X.columns[selector_Ada.support_]\n",
    "\n",
    "y_train_pred_Ada = selector_Ada.predict(X_train)\n",
    "y_test_pred_Ada = selector_Ada.predict(X_test)"
   ]
  },
  {
   "cell_type": "code",
   "execution_count": 29,
   "metadata": {},
   "outputs": [
    {
     "name": "stdout",
     "output_type": "stream",
     "text": [
      "Ada Boost Regressor :\n",
      "RMSE train : 4.945477802459704\n",
      " NSE train : 0.7304978935602164\n",
      " NRMSE train : 0.08901951138896022\n",
      " R2 train : 0.7885704463982166\n",
      " R train : 0.8880148908651344\n",
      " std train : 6.322133404394461\n",
      " MBE train : 0.8376244036322996\n",
      "----------------------------------------\n",
      "RMSE test : 5.797031705587225\n",
      " NSE test : 0.6071529726754192\n",
      " NRMSE test : 0.1385008598897144\n",
      " R2 test : 0.6345219645589353\n",
      " R test : 0.796568869940908\n",
      " std test : 6.1185712381716515\n",
      " MBE test : 0.8840490729807127\n"
     ]
    }
   ],
   "source": [
    "rmse_train, nse_train, nrmse_train, r2_train, r_train, std_train, mbe_train = calculate_metrics(actual=y_train, predicted=y_train_pred_Ada)\n",
    "print(\"Ada Boost Regressor :\")\n",
    "print(f\"RMSE train : {rmse_train}\\n\",\n",
    "      f\"NSE train : {nse_train}\\n\",\n",
    "      f\"NRMSE train : {nrmse_train}\\n\",\n",
    "      f\"R2 train : {r2_train}\\n\",\n",
    "      f\"R train : {r_train}\\n\",\n",
    "      f\"std train : {std_train}\\n\",\n",
    "      f\"MBE train : {mbe_train}\")\n",
    "rmse_test, nse_test, nrmse_test, r2_test, r_test, std_test, mbe_test = calculate_metrics(actual=y_test, predicted=y_test_pred_Ada)\n",
    "print(\"----------------------------------------\")\n",
    "\n",
    "print(f\"RMSE test : {rmse_test}\\n\",\n",
    "      f\"NSE test : {nse_test}\\n\",\n",
    "      f\"NRMSE test : {nrmse_test}\\n\",\n",
    "      f\"R2 test : {r2_test}\\n\",\n",
    "      f\"R test : {r_test}\\n\",\n",
    "      f\"std test : {std_test}\\n\",\n",
    "      f\"MBE test : {mbe_test}\")"
   ]
  },
  {
   "cell_type": "code",
   "execution_count": 13,
   "metadata": {},
   "outputs": [],
   "source": [
    "best_model_ExtraTrees = ExtraTreesRegressor(\n",
    "    bootstrap = True,\n",
    "    max_depth = 10,\n",
    "    max_features = 0.5,\n",
    "    min_impurity_decrease = 0.1,\n",
    "    min_samples_split = 5,\n",
    "    n_estimators = 50)\n",
    "\n",
    "selector_ExtraTrees = RFE(estimator=best_model_ExtraTrees, n_features_to_select = 10)\n",
    "selector_ExtraTrees.fit(X_train, y_train)\n",
    "\n",
    "selected_features_ExtraTrees = X.columns[selector_ExtraTrees.support_]\n",
    "\n",
    "y_train_pred_ExtraTrees = selector_ExtraTrees.predict(X_train)\n",
    "y_test_pred_ExtraTrees = selector_ExtraTrees.predict(X_test)"
   ]
  },
  {
   "cell_type": "code",
   "execution_count": 30,
   "metadata": {},
   "outputs": [
    {
     "name": "stdout",
     "output_type": "stream",
     "text": [
      "Extra Trees Regressor :\n",
      "RMSE train : 4.034943239419053\n",
      " NSE train : 0.8206007968186767\n",
      " NRMSE train : 0.07262972153603131\n",
      " R2 train : 0.8523738153645447\n",
      " R train : 0.9232409302909749\n",
      " std train : 7.106715204585316\n",
      " MBE train : 0.18086115984534887\n",
      "----------------------------------------\n",
      "RMSE test : 5.574055452853982\n",
      " NSE test : 0.6367925987787949\n",
      " NRMSE test : 0.1331735813259667\n",
      " R2 test : 0.6500050150926686\n",
      " R test : 0.8062288850522962\n",
      " std test : 6.503614619330074\n",
      " MBE test : 0.47083203019825953\n"
     ]
    }
   ],
   "source": [
    "rmse_train, nse_train, nrmse_train, r2_train, r_train, std_train, mbe_train = calculate_metrics(actual=y_train, predicted=y_train_pred_ExtraTrees)\n",
    "print(\"Extra Trees Regressor :\")\n",
    "print(f\"RMSE train : {rmse_train}\\n\",\n",
    "      f\"NSE train : {nse_train}\\n\",\n",
    "      f\"NRMSE train : {nrmse_train}\\n\",\n",
    "      f\"R2 train : {r2_train}\\n\",\n",
    "      f\"R train : {r_train}\\n\",\n",
    "      f\"std train : {std_train}\\n\",\n",
    "      f\"MBE train : {mbe_train}\")\n",
    "rmse_test, nse_test, nrmse_test, r2_test, r_test, std_test, mbe_test = calculate_metrics(actual=y_test, predicted=y_test_pred_ExtraTrees)\n",
    "print(\"----------------------------------------\")\n",
    "\n",
    "print(f\"RMSE test : {rmse_test}\\n\",\n",
    "      f\"NSE test : {nse_test}\\n\",\n",
    "      f\"NRMSE test : {nrmse_test}\\n\",\n",
    "      f\"R2 test : {r2_test}\\n\",\n",
    "      f\"R test : {r_test}\\n\",\n",
    "      f\"std test : {std_test}\\n\",\n",
    "      f\"MBE test : {mbe_test}\")"
   ]
  },
  {
   "cell_type": "code",
   "execution_count": 14,
   "metadata": {},
   "outputs": [],
   "source": [
    "y_train_budyko = budyko_train[\"observed\"]\n",
    "y_train_pred_budyko = budyko_train[\"simulated\"]\n",
    "\n",
    "y_test_budyko = budyko_test[\"observed\"]\n",
    "y_test_pred_budyko = budyko_test[\"simulated\"]"
   ]
  },
  {
   "cell_type": "code",
   "execution_count": 31,
   "metadata": {},
   "outputs": [
    {
     "name": "stdout",
     "output_type": "stream",
     "text": [
      "Budyko :\n",
      "RMSE train : 0.0\n",
      " NSE train : 1.0\n",
      " NRMSE train : 0.0\n",
      " R2 train : 0.9999999999999998\n",
      " R train : 0.9999999999999999\n",
      " std train : 7.010037006122805\n",
      " MBE train : 0.0\n",
      "----------------------------------------\n",
      "RMSE test : 3.4672084036473785\n",
      " NSE test : 0.7553646168653753\n",
      " NRMSE test : 0.1094915539500959\n",
      " R2 test : 0.7702716596704442\n",
      " R test : 0.8776512175519636\n",
      " std test : 7.001546559029022\n",
      " MBE test : 0.10694043669431008\n"
     ]
    }
   ],
   "source": [
    "rmse_train, nse_train, nrmse_train, r2_train, r_train, std_train, mbe_train = calculate_metrics(actual=y_train_budyko, predicted=y_train_pred_budyko)\n",
    "print(\"Budyko :\")\n",
    "print(f\"RMSE train : {rmse_train}\\n\",\n",
    "      f\"NSE train : {nse_train}\\n\",\n",
    "      f\"NRMSE train : {nrmse_train}\\n\",\n",
    "      f\"R2 train : {r2_train}\\n\",\n",
    "      f\"R train : {r_train}\\n\",\n",
    "      f\"std train : {std_train}\\n\",\n",
    "      f\"MBE train : {mbe_train}\")\n",
    "rmse_test, nse_test, nrmse_test, r2_test, r_test, std_test, mbe_test = calculate_metrics(actual=y_test_budyko, predicted=y_test_pred_budyko)\n",
    "print(\"----------------------------------------\")\n",
    "\n",
    "print(f\"RMSE test : {rmse_test}\\n\",\n",
    "      f\"NSE test : {nse_test}\\n\",\n",
    "      f\"NRMSE test : {nrmse_test}\\n\",\n",
    "      f\"R2 test : {r2_test}\\n\",\n",
    "      f\"R test : {r_test}\\n\",\n",
    "      f\"std test : {std_test}\\n\",\n",
    "      f\"MBE test : {mbe_test}\")"
   ]
  },
  {
   "cell_type": "code",
   "execution_count": 16,
   "metadata": {},
   "outputs": [
    {
     "data": {
      "application/vnd.plotly.v1+json": {
       "config": {
        "plotlyServerURL": "https://plot.ly"
       },
       "data": [
        {
         "hovertemplate": "x=%{x}<br>y=%{y}<extra></extra>",
         "legendgroup": "",
         "marker": {
          "color": "#636efa",
          "symbol": "circle"
         },
         "mode": "markers",
         "name": "",
         "orientation": "v",
         "showlegend": false,
         "type": "scatter",
         "x": [
          10.080550754169499,
          4.302352737932885,
          14.706314877425305,
          6.534465700821077,
          3.688267420212619,
          12.163148868683608,
          11.417303368845957,
          7.746604133847109,
          12.885595273326182,
          6.371529052285002,
          5.075918676408405,
          5.033527639923282,
          15.813229056053105,
          12.890039902083606,
          4.931648116745513,
          6.465160012160227,
          4.6558771434210895,
          23.868261504121357,
          3.710294609254708,
          7.956984642144187,
          5.392410805766081,
          8.033995460295932,
          3.6949712773196177,
          8.738280177058702,
          4.3529433358258425,
          13.916528574866854,
          6.346864529100543,
          11.532836868534195,
          27.043351000402225,
          6.728883168145168,
          9.578025473843336,
          5.1446650652331325,
          20.428629142940878,
          27.71196511351153,
          13.851382611477367,
          13.00706173310852,
          4.962462720895713,
          9.889794388179247,
          22.024284724788412,
          14.14454498374344,
          4.313858102630677,
          4.842030378729708,
          3.9793046037661552,
          8.323587295997873,
          4.991786778410489,
          9.478336366761342,
          4.1998525446118355,
          9.869788748882698,
          3.883131091603792,
          25.764277655490147,
          10.668455483468113,
          28.731914332863767,
          7.414591783601295,
          21.05709011057329,
          5.033527639923282,
          4.438253892592683,
          19.89069367112611,
          3.235553076917823,
          14.85583603503994,
          15.983756100019516,
          24.386682196317498,
          7.956984642144187,
          13.678559740402662,
          4.783965212690336,
          11.718683321518197,
          4.173616999402047,
          9.439190242578965,
          9.286459329423497,
          23.20873132791115,
          5.868794109939911,
          5.7872932740014,
          14.93361456183904,
          14.459155431193654,
          3.927943294833782,
          3.1501734530118637,
          13.777381754105,
          15.979958569264682,
          13.972569616674402,
          6.613920361767376,
          12.010748754892226,
          8.507699222476626,
          13.609366123749355,
          9.536508460074526,
          31.070845008758635,
          11.121567115762037,
          9.90069111602286,
          7.727086782049846,
          13.026113788375126,
          4.185507009890346,
          3.2042313828416797,
          9.917188039237107,
          8.92782140323591,
          5.701113432296849,
          10.921904908904693,
          8.96909799592862,
          12.03850235834055,
          39.288356858724256,
          6.504544658860574,
          30.261410388307485,
          4.313858102630677,
          11.818765521461739,
          9.350567213463053,
          3.1179705290233124,
          8.43107953427649,
          7.055111069562355,
          3.367843246076019,
          16.69837250966971,
          11.489297717773006,
          3.235553076917823,
          4.313858102630677,
          3.710294609254708,
          4.948594914633718,
          9.737949576113133,
          26.481721879696355,
          8.826869708139357,
          5.069626359837255,
          13.723592754640702,
          8.521495377413334,
          3.1776491538263962,
          31.041762235947047,
          5.4399702889426615,
          4.488200778274027,
          18.56390407703428,
          11.78012962465099,
          6.524272655524487,
          5.033527639923282,
          12.075479356434801,
          8.028939516987275,
          8.039291207802735,
          18.4906985637866,
          5.874627825557662,
          22.104298740198118,
          4.516920594637714,
          23.836609806706505,
          9.825376917500945,
          11.74427617972837,
          3.468309460305861,
          3.603379224754784,
          14.287015040773138,
          17.864463092693637,
          7.867089200464642,
          23.365297281430635,
          8.099153015408767,
          38.14028260180729,
          21.138323267380738,
          3.9793046037661552,
          10.064106392901198,
          10.151806288657237,
          16.281922832665717,
          22.821290343128695,
          10.218319726189028,
          4.989181505590315,
          10.759286821594447,
          5.033527639923282,
          8.730449029894222,
          18.97716068249933,
          9.65625035212646,
          40.10552754107942,
          24.106945425912592,
          11.085474474214566,
          30.893113839050685,
          11.443009755662564,
          18.41037842473137,
          17.22471635246809,
          5.033527639923282,
          29.26632868381497,
          3.710294609254708,
          3.6949712773196177,
          8.917312121901908,
          18.547562969387325,
          12.074536971975084,
          3.235553076917823,
          3.2453843590545195,
          9.365455539975489,
          12.124947233027852,
          29.391832959024338,
          6.2362503282153545,
          15.680938455875784,
          7.13531639744613,
          12.606245841181282,
          12.708054556609452,
          5.918319738059033,
          8.213535534444613,
          10.759286821594447,
          4.516920594637714,
          7.618063458876837,
          9.570584472851674,
          10.383265228720397,
          10.651987421921223,
          4.1028370027862255,
          17.983961378318373,
          28.17659361706615,
          3.9445054176361873,
          20.706270886538082,
          3.9793046037661552,
          6.390829247156184,
          14.06290198336314,
          11.816878558151497,
          6.371902817828048,
          3.078563324052695,
          5.743754948036992,
          9.801394128184093,
          9.770163314405242,
          8.751517576316006,
          3.430220267976303,
          5.075918676408405,
          5.904918447255494,
          14.280263758551742,
          24.307252661195218,
          10.293683538942064,
          25.92651015455606,
          8.994314654522404,
          11.514821195524576,
          3.603379224754784,
          14.656055100535474,
          8.861786963214083,
          10.350275602733447,
          5.796284390966243,
          9.961080195373835,
          5.558264407677485,
          3.9793046037661552,
          5.033527639923282,
          18.377913840643103,
          7.964946472642539,
          5.033527639923282,
          8.693869461063121,
          12.961050925489994,
          16.133087469954113
         ],
         "xaxis": "x",
         "y": [
          7.150572032860035,
          5.450234295192407,
          19.96671802428869,
          5.828626135632259,
          0.5674249861250357,
          11.35296671211813,
          11.110176127471622,
          6.791208400024315,
          14.780280417375858,
          11.08191898331054,
          2.3984635878082297,
          5.654710074056593,
          21.818381271218364,
          13.16736556151976,
          3.0999655874012544,
          4.297692826644482,
          2.291174491847465,
          27.070935145585192,
          4.28043849152833,
          6.9392174664731865,
          3.580061971579646,
          8.359141989255619,
          0.3996365347386836,
          16.424672013283136,
          1.89853062557466,
          22.766118185288704,
          14.139588633164102,
          4.312692098307972,
          33.38872765722724,
          5.483880107898787,
          5.660187314109272,
          3.0039055310496563,
          11.33125405236196,
          31.80515036633003,
          19.90500867970936,
          9.796348087093026,
          4.234862606074068,
          8.936654568327835,
          22.520269876563468,
          20.11259489237427,
          4.210894541125772,
          2.815849997920725,
          3.163764948239052,
          5.997186407562407,
          1.654591795164436,
          10.72167751077037,
          1.7315802802883802,
          4.785497626687674,
          3.6468710445127135,
          20.498715708681416,
          6.1899977670954,
          30.29992253528381,
          2.9930428346841715,
          24.17831356751393,
          3.15808050373392,
          4.392512268202263,
          25.359823047762816,
          0.5733152567668043,
          19.93780669415718,
          21.734609199824877,
          23.12237425816871,
          7.9522458531639,
          8.222585618099217,
          3.0092021327787863,
          8.295660054483934,
          2.3492835811272994,
          14.147963591727684,
          7.560305694624901,
          25.784199542433555,
          8.231487227981441,
          6.5652971433937015,
          21.852125167065505,
          16.74672865562539,
          3.927647130374384,
          1.3508124856961747,
          11.462186120797709,
          8.418840492302659,
          17.00566978180815,
          11.370421247006036,
          11.215311958966266,
          6.730787384115709,
          13.128645849026393,
          11.793810790446924,
          32.40258603781988,
          16.714864075598705,
          16.551123165866503,
          3.489009625754593,
          13.752211816438583,
          5.373447315880656,
          1.9949993855026205,
          11.596516718203748,
          9.218989577476066,
          1.414425093238665,
          15.01841213853227,
          9.522431076329308,
          10.011701268834209,
          55.95462358528566,
          8.113904755000917,
          33.219879919122725,
          2.518471169453913,
          10.5301489292532,
          5.417222821015619,
          1.5928610979810236,
          6.679375435241458,
          5.966413643551853,
          0.7680437135288414,
          16.085342857024084,
          7.246847268518067,
          4.235207746327784,
          1.0625340160540242,
          2.859771397261808,
          2.6976231881863955,
          7.0783202869153845,
          29.52620351883153,
          11.066821359934236,
          5.125539482779872,
          20.959815663718025,
          5.991059777590396,
          1.054710670943787,
          28.92864225319017,
          6.89515516968723,
          0.6437600283621074,
          18.349441282914043,
          6.472561341878544,
          4.939601342265005,
          9.829398956307957,
          8.070299848145268,
          10.11482402051065,
          8.390190468472069,
          19.15736298572186,
          1.2820581067977688,
          17.21032921142804,
          2.690658272370292,
          20.041276563363613,
          12.231073784387116,
          9.311518603638207,
          3.183373017321985,
          1.6128096357866284,
          13.72131193568544,
          24.95420422129194,
          5.923436408225164,
          16.906998235156067,
          2.589687859508031,
          44.831774307910685,
          14.138064718417956,
          3.700958980564148,
          6.806638276509206,
          8.649094367013374,
          23.01616592068322,
          27.055818250575165,
          3.815908360980712,
          2.396050782927607,
          14.06096150930857,
          5.735352139824044,
          13.459225639312436,
          15.41037357601972,
          12.041787367594136,
          49.051055948451086,
          27.733111957865887,
          13.980248816610366,
          38.42358928047543,
          7.602564400309737,
          16.214039807921978,
          26.89724951460514,
          6.617538090150843,
          31.61098846990623,
          4.285434512732595,
          0.5461815820687183,
          6.50719232762777,
          28.00418053076481,
          17.753619210458783,
          3.036029783459321,
          1.2658625876958771,
          8.911605506543784,
          8.60176689352016,
          33.54498704733247,
          3.826331703537005,
          17.70296987368368,
          2.24094910906966,
          21.692454485639534,
          8.290689470121812,
          1.8289647449188624,
          3.815883693448192,
          10.49457264657567,
          4.409070621260393,
          12.809364778133164,
          7.64620794034912,
          7.22727055574722,
          5.848278068716287,
          0.9817635190062116,
          11.447610133676728,
          32.58603513257253,
          2.8224066039505886,
          27.8308008720445,
          3.920682207629673,
          9.643126430054632,
          13.61446888241184,
          10.13412500923371,
          2.743372930306791,
          1.5075929701374051,
          3.2185384853148884,
          5.484272443493999,
          7.309064098004681,
          4.525495612793794,
          2.9367238696070928,
          2.4986327389453047,
          5.656245483079597,
          16.647625873794414,
          24.92049037632467,
          13.86023450592673,
          23.64348657158456,
          5.653355531080034,
          9.618171060677064,
          2.8693779649557296,
          16.615278194202943,
          10.38984486756927,
          4.346560852128532,
          6.878712176113646,
          14.382111761231895,
          8.65570481020649,
          3.331262836491278,
          6.615374114212997,
          19.456127582644623,
          5.859264947344429,
          6.126430906136618,
          8.692970256919494,
          12.508712212600194,
          14.146228764204514
         ],
         "yaxis": "y"
        }
       ],
       "layout": {
        "autosize": false,
        "height": 600,
        "legend": {
         "tracegroupgap": 0
        },
        "margin": {
         "t": 60
        },
        "shapes": [
         {
          "line": {
           "color": "Red"
          },
          "type": "line",
          "x0": 0,
          "x1": 60,
          "y0": 0,
          "y1": 60
         }
        ],
        "template": {
         "data": {
          "bar": [
           {
            "error_x": {
             "color": "#2a3f5f"
            },
            "error_y": {
             "color": "#2a3f5f"
            },
            "marker": {
             "line": {
              "color": "#E5ECF6",
              "width": 0.5
             },
             "pattern": {
              "fillmode": "overlay",
              "size": 10,
              "solidity": 0.2
             }
            },
            "type": "bar"
           }
          ],
          "barpolar": [
           {
            "marker": {
             "line": {
              "color": "#E5ECF6",
              "width": 0.5
             },
             "pattern": {
              "fillmode": "overlay",
              "size": 10,
              "solidity": 0.2
             }
            },
            "type": "barpolar"
           }
          ],
          "carpet": [
           {
            "aaxis": {
             "endlinecolor": "#2a3f5f",
             "gridcolor": "white",
             "linecolor": "white",
             "minorgridcolor": "white",
             "startlinecolor": "#2a3f5f"
            },
            "baxis": {
             "endlinecolor": "#2a3f5f",
             "gridcolor": "white",
             "linecolor": "white",
             "minorgridcolor": "white",
             "startlinecolor": "#2a3f5f"
            },
            "type": "carpet"
           }
          ],
          "choropleth": [
           {
            "colorbar": {
             "outlinewidth": 0,
             "ticks": ""
            },
            "type": "choropleth"
           }
          ],
          "contour": [
           {
            "colorbar": {
             "outlinewidth": 0,
             "ticks": ""
            },
            "colorscale": [
             [
              0,
              "#0d0887"
             ],
             [
              0.1111111111111111,
              "#46039f"
             ],
             [
              0.2222222222222222,
              "#7201a8"
             ],
             [
              0.3333333333333333,
              "#9c179e"
             ],
             [
              0.4444444444444444,
              "#bd3786"
             ],
             [
              0.5555555555555556,
              "#d8576b"
             ],
             [
              0.6666666666666666,
              "#ed7953"
             ],
             [
              0.7777777777777778,
              "#fb9f3a"
             ],
             [
              0.8888888888888888,
              "#fdca26"
             ],
             [
              1,
              "#f0f921"
             ]
            ],
            "type": "contour"
           }
          ],
          "contourcarpet": [
           {
            "colorbar": {
             "outlinewidth": 0,
             "ticks": ""
            },
            "type": "contourcarpet"
           }
          ],
          "heatmap": [
           {
            "colorbar": {
             "outlinewidth": 0,
             "ticks": ""
            },
            "colorscale": [
             [
              0,
              "#0d0887"
             ],
             [
              0.1111111111111111,
              "#46039f"
             ],
             [
              0.2222222222222222,
              "#7201a8"
             ],
             [
              0.3333333333333333,
              "#9c179e"
             ],
             [
              0.4444444444444444,
              "#bd3786"
             ],
             [
              0.5555555555555556,
              "#d8576b"
             ],
             [
              0.6666666666666666,
              "#ed7953"
             ],
             [
              0.7777777777777778,
              "#fb9f3a"
             ],
             [
              0.8888888888888888,
              "#fdca26"
             ],
             [
              1,
              "#f0f921"
             ]
            ],
            "type": "heatmap"
           }
          ],
          "heatmapgl": [
           {
            "colorbar": {
             "outlinewidth": 0,
             "ticks": ""
            },
            "colorscale": [
             [
              0,
              "#0d0887"
             ],
             [
              0.1111111111111111,
              "#46039f"
             ],
             [
              0.2222222222222222,
              "#7201a8"
             ],
             [
              0.3333333333333333,
              "#9c179e"
             ],
             [
              0.4444444444444444,
              "#bd3786"
             ],
             [
              0.5555555555555556,
              "#d8576b"
             ],
             [
              0.6666666666666666,
              "#ed7953"
             ],
             [
              0.7777777777777778,
              "#fb9f3a"
             ],
             [
              0.8888888888888888,
              "#fdca26"
             ],
             [
              1,
              "#f0f921"
             ]
            ],
            "type": "heatmapgl"
           }
          ],
          "histogram": [
           {
            "marker": {
             "pattern": {
              "fillmode": "overlay",
              "size": 10,
              "solidity": 0.2
             }
            },
            "type": "histogram"
           }
          ],
          "histogram2d": [
           {
            "colorbar": {
             "outlinewidth": 0,
             "ticks": ""
            },
            "colorscale": [
             [
              0,
              "#0d0887"
             ],
             [
              0.1111111111111111,
              "#46039f"
             ],
             [
              0.2222222222222222,
              "#7201a8"
             ],
             [
              0.3333333333333333,
              "#9c179e"
             ],
             [
              0.4444444444444444,
              "#bd3786"
             ],
             [
              0.5555555555555556,
              "#d8576b"
             ],
             [
              0.6666666666666666,
              "#ed7953"
             ],
             [
              0.7777777777777778,
              "#fb9f3a"
             ],
             [
              0.8888888888888888,
              "#fdca26"
             ],
             [
              1,
              "#f0f921"
             ]
            ],
            "type": "histogram2d"
           }
          ],
          "histogram2dcontour": [
           {
            "colorbar": {
             "outlinewidth": 0,
             "ticks": ""
            },
            "colorscale": [
             [
              0,
              "#0d0887"
             ],
             [
              0.1111111111111111,
              "#46039f"
             ],
             [
              0.2222222222222222,
              "#7201a8"
             ],
             [
              0.3333333333333333,
              "#9c179e"
             ],
             [
              0.4444444444444444,
              "#bd3786"
             ],
             [
              0.5555555555555556,
              "#d8576b"
             ],
             [
              0.6666666666666666,
              "#ed7953"
             ],
             [
              0.7777777777777778,
              "#fb9f3a"
             ],
             [
              0.8888888888888888,
              "#fdca26"
             ],
             [
              1,
              "#f0f921"
             ]
            ],
            "type": "histogram2dcontour"
           }
          ],
          "mesh3d": [
           {
            "colorbar": {
             "outlinewidth": 0,
             "ticks": ""
            },
            "type": "mesh3d"
           }
          ],
          "parcoords": [
           {
            "line": {
             "colorbar": {
              "outlinewidth": 0,
              "ticks": ""
             }
            },
            "type": "parcoords"
           }
          ],
          "pie": [
           {
            "automargin": true,
            "type": "pie"
           }
          ],
          "scatter": [
           {
            "marker": {
             "colorbar": {
              "outlinewidth": 0,
              "ticks": ""
             }
            },
            "type": "scatter"
           }
          ],
          "scatter3d": [
           {
            "line": {
             "colorbar": {
              "outlinewidth": 0,
              "ticks": ""
             }
            },
            "marker": {
             "colorbar": {
              "outlinewidth": 0,
              "ticks": ""
             }
            },
            "type": "scatter3d"
           }
          ],
          "scattercarpet": [
           {
            "marker": {
             "colorbar": {
              "outlinewidth": 0,
              "ticks": ""
             }
            },
            "type": "scattercarpet"
           }
          ],
          "scattergeo": [
           {
            "marker": {
             "colorbar": {
              "outlinewidth": 0,
              "ticks": ""
             }
            },
            "type": "scattergeo"
           }
          ],
          "scattergl": [
           {
            "marker": {
             "colorbar": {
              "outlinewidth": 0,
              "ticks": ""
             }
            },
            "type": "scattergl"
           }
          ],
          "scattermapbox": [
           {
            "marker": {
             "colorbar": {
              "outlinewidth": 0,
              "ticks": ""
             }
            },
            "type": "scattermapbox"
           }
          ],
          "scatterpolar": [
           {
            "marker": {
             "colorbar": {
              "outlinewidth": 0,
              "ticks": ""
             }
            },
            "type": "scatterpolar"
           }
          ],
          "scatterpolargl": [
           {
            "marker": {
             "colorbar": {
              "outlinewidth": 0,
              "ticks": ""
             }
            },
            "type": "scatterpolargl"
           }
          ],
          "scatterternary": [
           {
            "marker": {
             "colorbar": {
              "outlinewidth": 0,
              "ticks": ""
             }
            },
            "type": "scatterternary"
           }
          ],
          "surface": [
           {
            "colorbar": {
             "outlinewidth": 0,
             "ticks": ""
            },
            "colorscale": [
             [
              0,
              "#0d0887"
             ],
             [
              0.1111111111111111,
              "#46039f"
             ],
             [
              0.2222222222222222,
              "#7201a8"
             ],
             [
              0.3333333333333333,
              "#9c179e"
             ],
             [
              0.4444444444444444,
              "#bd3786"
             ],
             [
              0.5555555555555556,
              "#d8576b"
             ],
             [
              0.6666666666666666,
              "#ed7953"
             ],
             [
              0.7777777777777778,
              "#fb9f3a"
             ],
             [
              0.8888888888888888,
              "#fdca26"
             ],
             [
              1,
              "#f0f921"
             ]
            ],
            "type": "surface"
           }
          ],
          "table": [
           {
            "cells": {
             "fill": {
              "color": "#EBF0F8"
             },
             "line": {
              "color": "white"
             }
            },
            "header": {
             "fill": {
              "color": "#C8D4E3"
             },
             "line": {
              "color": "white"
             }
            },
            "type": "table"
           }
          ]
         },
         "layout": {
          "annotationdefaults": {
           "arrowcolor": "#2a3f5f",
           "arrowhead": 0,
           "arrowwidth": 1
          },
          "autotypenumbers": "strict",
          "coloraxis": {
           "colorbar": {
            "outlinewidth": 0,
            "ticks": ""
           }
          },
          "colorscale": {
           "diverging": [
            [
             0,
             "#8e0152"
            ],
            [
             0.1,
             "#c51b7d"
            ],
            [
             0.2,
             "#de77ae"
            ],
            [
             0.3,
             "#f1b6da"
            ],
            [
             0.4,
             "#fde0ef"
            ],
            [
             0.5,
             "#f7f7f7"
            ],
            [
             0.6,
             "#e6f5d0"
            ],
            [
             0.7,
             "#b8e186"
            ],
            [
             0.8,
             "#7fbc41"
            ],
            [
             0.9,
             "#4d9221"
            ],
            [
             1,
             "#276419"
            ]
           ],
           "sequential": [
            [
             0,
             "#0d0887"
            ],
            [
             0.1111111111111111,
             "#46039f"
            ],
            [
             0.2222222222222222,
             "#7201a8"
            ],
            [
             0.3333333333333333,
             "#9c179e"
            ],
            [
             0.4444444444444444,
             "#bd3786"
            ],
            [
             0.5555555555555556,
             "#d8576b"
            ],
            [
             0.6666666666666666,
             "#ed7953"
            ],
            [
             0.7777777777777778,
             "#fb9f3a"
            ],
            [
             0.8888888888888888,
             "#fdca26"
            ],
            [
             1,
             "#f0f921"
            ]
           ],
           "sequentialminus": [
            [
             0,
             "#0d0887"
            ],
            [
             0.1111111111111111,
             "#46039f"
            ],
            [
             0.2222222222222222,
             "#7201a8"
            ],
            [
             0.3333333333333333,
             "#9c179e"
            ],
            [
             0.4444444444444444,
             "#bd3786"
            ],
            [
             0.5555555555555556,
             "#d8576b"
            ],
            [
             0.6666666666666666,
             "#ed7953"
            ],
            [
             0.7777777777777778,
             "#fb9f3a"
            ],
            [
             0.8888888888888888,
             "#fdca26"
            ],
            [
             1,
             "#f0f921"
            ]
           ]
          },
          "colorway": [
           "#636efa",
           "#EF553B",
           "#00cc96",
           "#ab63fa",
           "#FFA15A",
           "#19d3f3",
           "#FF6692",
           "#B6E880",
           "#FF97FF",
           "#FECB52"
          ],
          "font": {
           "color": "#2a3f5f"
          },
          "geo": {
           "bgcolor": "white",
           "lakecolor": "white",
           "landcolor": "#E5ECF6",
           "showlakes": true,
           "showland": true,
           "subunitcolor": "white"
          },
          "hoverlabel": {
           "align": "left"
          },
          "hovermode": "closest",
          "mapbox": {
           "style": "light"
          },
          "paper_bgcolor": "white",
          "plot_bgcolor": "#E5ECF6",
          "polar": {
           "angularaxis": {
            "gridcolor": "white",
            "linecolor": "white",
            "ticks": ""
           },
           "bgcolor": "#E5ECF6",
           "radialaxis": {
            "gridcolor": "white",
            "linecolor": "white",
            "ticks": ""
           }
          },
          "scene": {
           "xaxis": {
            "backgroundcolor": "#E5ECF6",
            "gridcolor": "white",
            "gridwidth": 2,
            "linecolor": "white",
            "showbackground": true,
            "ticks": "",
            "zerolinecolor": "white"
           },
           "yaxis": {
            "backgroundcolor": "#E5ECF6",
            "gridcolor": "white",
            "gridwidth": 2,
            "linecolor": "white",
            "showbackground": true,
            "ticks": "",
            "zerolinecolor": "white"
           },
           "zaxis": {
            "backgroundcolor": "#E5ECF6",
            "gridcolor": "white",
            "gridwidth": 2,
            "linecolor": "white",
            "showbackground": true,
            "ticks": "",
            "zerolinecolor": "white"
           }
          },
          "shapedefaults": {
           "line": {
            "color": "#2a3f5f"
           }
          },
          "ternary": {
           "aaxis": {
            "gridcolor": "white",
            "linecolor": "white",
            "ticks": ""
           },
           "baxis": {
            "gridcolor": "white",
            "linecolor": "white",
            "ticks": ""
           },
           "bgcolor": "#E5ECF6",
           "caxis": {
            "gridcolor": "white",
            "linecolor": "white",
            "ticks": ""
           }
          },
          "title": {
           "x": 0.05
          },
          "xaxis": {
           "automargin": true,
           "gridcolor": "white",
           "linecolor": "white",
           "ticks": "",
           "title": {
            "standoff": 15
           },
           "zerolinecolor": "white",
           "zerolinewidth": 2
          },
          "yaxis": {
           "automargin": true,
           "gridcolor": "white",
           "linecolor": "white",
           "ticks": "",
           "title": {
            "standoff": 15
           },
           "zerolinecolor": "white",
           "zerolinewidth": 2
          }
         }
        },
        "width": 600,
        "xaxis": {
         "anchor": "y",
         "domain": [
          0,
          1
         ],
         "title": {
          "text": "ET Predicted"
         }
        },
        "yaxis": {
         "anchor": "x",
         "domain": [
          0,
          1
         ],
         "title": {
          "text": "ET"
         }
        }
       }
      }
     },
     "metadata": {},
     "output_type": "display_data"
    }
   ],
   "source": [
    "fig = px.scatter(\n",
    "    x = y_train_pred_rf,\n",
    "    y = y_train,\n",
    ")\n",
    "\n",
    "fig.add_shape(\n",
    "    type='line',\n",
    "    x0 = 0,\n",
    "    y0 = 0,\n",
    "    x1 = 60,\n",
    "    y1 = 60,\n",
    "    line = dict(\n",
    "        color = 'Red',\n",
    "    )\n",
    ")\n",
    "\n",
    "fig.update_layout(\n",
    "    autosize = False,\n",
    "    width = 600,\n",
    "    height = 600,\n",
    "    # xaxis_range = [0, 12],\n",
    "    # yaxis_range = [0, 12],\n",
    "    xaxis_title = dict(text = 'ET Predicted'),\n",
    "    yaxis_title = dict(text = 'ET')\n",
    ")\n",
    "\n",
    "fig.show()"
   ]
  }
 ],
 "metadata": {
  "kernelspec": {
   "display_name": "myenv",
   "language": "python",
   "name": "python3"
  },
  "language_info": {
   "codemirror_mode": {
    "name": "ipython",
    "version": 3
   },
   "file_extension": ".py",
   "mimetype": "text/x-python",
   "name": "python",
   "nbconvert_exporter": "python",
   "pygments_lexer": "ipython3",
   "version": "3.7.11"
  }
 },
 "nbformat": 4,
 "nbformat_minor": 2
}
